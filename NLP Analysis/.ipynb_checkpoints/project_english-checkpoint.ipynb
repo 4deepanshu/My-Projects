{
 "cells": [
  {
   "cell_type": "markdown",
   "id": "67e44561",
   "metadata": {},
   "source": [
    "This notebook contains runnable code for English language and analysis. For runnable code for Bengali, go to project_bengali.ipynb"
   ]
  },
  {
   "cell_type": "code",
   "execution_count": 41,
   "id": "bb4e8141",
   "metadata": {},
   "outputs": [],
   "source": [
    "lang = 'english'"
   ]
  },
  {
   "cell_type": "markdown",
   "id": "dfbc1ae4-488c-4c7e-9a68-6092900651ce",
   "metadata": {},
   "source": [
    "## **1 Data Preparation**"
   ]
  },
  {
   "cell_type": "code",
   "execution_count": 42,
   "id": "185a2f4d-5936-4d61-ac77-1e3d0cf88f00",
   "metadata": {},
   "outputs": [
    {
     "name": "stderr",
     "output_type": "stream",
     "text": [
      "[nltk_data] Downloading package punkt to /home/daniyar/nltk_data...\n",
      "[nltk_data]   Package punkt is already up-to-date!\n"
     ]
    }
   ],
   "source": [
    "from importlib import reload\n",
    "import preprocessing\n",
    "\n",
    "preprocessing = reload(preprocessing)\n",
    "\n",
    "preprocessing.data_preparation_english('data/alice_in_wonderland.txt')"
   ]
  },
  {
   "cell_type": "markdown",
   "id": "e89911f1",
   "metadata": {},
   "source": [
    "## **2 Subword Segmentation**"
   ]
  },
  {
   "cell_type": "markdown",
   "id": "5c02c2c8",
   "metadata": {},
   "source": [
    "The created corpus files and SentencePiece models are in {language}/corpus.\n",
    "For English language we picked the following vocabulary sizes:\n",
    "1. Character level granuality - vocabulary of size 32 - 26 english letters + `<unk>`+ `<s>` + `</s>` + `▁` + `0` + `3`. Each letter is separated from all the other by a space. `▁` denotes the separatation betweeen the words.\n",
    "2. Subwords units (smaller vocabulary) - vocabulary of size 600. The most occuring words, such as `the`, `and`, `alice`, `that`, `little`, etc., have their own entry in the formed vocabulary. The rest of the words are mostly composed of 1-2 character long subwords. The following values of vocabulary size were also trained and perplexity of the corresponding language models was calculated: `150`, `300`, `600`, `750`. The value of `600` showed adequate perplexity on the validation set (for baseline model), but also catched a good chunk of common English subwords. This resulted in reduced OOV rate as will be shown later.\n",
    "3. Subwords units (larger vocabulary) - vocabulary of size 2500. All of the words in the corpus have their entry in the formed vocabulary. The following values of vocabulary size were also trained and perplexity of the corresponding language models was calculated: `1500`, `1750`, `2000`, `2250`, `2500`. The value of `2500` was chosemn because it showed the lowest perplexity for the baseline model on the validation set. \n",
    "  \n",
    "For Bengali we picked the following vocabulary sizes:\n",
    "1. Character level granuality - vocabulary of size 155 - all unique bengali characters in the train set.  \n",
    "2. Subwords units (smaller vocabulary) - vocabulary of size 700. We picked such large vocabulary because Bengali has quite a large alphabet and a lot of different combinations of symbols. Also, after experimenting with different values (`500`, `900`, `1100`), this vocabulary size demonstrated the lowest perplexity (with the baseline model).  \n",
    "3. Subword units (larger vocabulary) - vocabulary of size 5000. Again, because Bengali has a lot of different symbols and unique words (the total number of unique words in the corpus is 40363). Other vocabulary sizes (`5500` and `6000`) were tried, but they showed poor perplexity results. The vocabulary size of `10000` was also tried, but it was too computationally expensive to train model on (especially generating text), therefore, it was decided not to experiment with this value"
   ]
  },
  {
   "cell_type": "code",
   "execution_count": 43,
   "id": "c97456ed",
   "metadata": {},
   "outputs": [
    {
     "name": "stdout",
     "output_type": "stream",
     "text": [
      "/home/daniyar/snlp/project/english/corpus\n",
      "sentencepiece_trainer.cc(79) LOG(INFO) Starts training with : \n",
      "trainer_spec {\n",
      "  input: train.txt\n",
      "  input_format: \n",
      "  model_prefix: model_32\n",
      "  model_type: BPE\n",
      "  vocab_size: 32\n",
      "  self_test_sample_size: 0\n",
      "  character_coverage: 1\n",
      "  input_sentence_size: 0\n",
      "  shuffle_input_sentence: 1\n",
      "  seed_sentencepiece_size: 1000000\n",
      "  shrinking_factor: 0.75\n",
      "  max_sentence_length: 4192\n",
      "  num_threads: 16\n",
      "  num_sub_iterations: 2\n",
      "  max_sentencepiece_length: 16\n",
      "  split_by_unicode_script: 1\n",
      "  split_by_number: 1\n",
      "  split_by_whitespace: 1\n",
      "  split_digits: 0\n",
      "  treat_whitespace_as_suffix: 0\n",
      "  required_chars: \n",
      "  byte_fallback: 0\n",
      "  vocabulary_output_piece_score: 1\n",
      "  train_extremely_large_corpus: 0\n",
      "  hard_vocab_limit: 1\n",
      "  use_all_vocab: 0\n",
      "  unk_id: 0\n",
      "  bos_id: 1\n",
      "  eos_id: 2\n",
      "  pad_id: -1\n",
      "  unk_piece: <unk>\n",
      "  bos_piece: <s>\n",
      "  eos_piece: </s>\n",
      "  pad_piece: <pad>\n",
      "  unk_surface:  ⁇ \n",
      "}\n",
      "normalizer_spec {\n",
      "  name: nmt_nfkc\n",
      "  add_dummy_prefix: 1\n",
      "  remove_extra_whitespaces: 1\n",
      "  escape_whitespaces: 1\n",
      "  normalization_rule_tsv: \n",
      "}\n",
      "denormalizer_spec {}\n",
      "trainer_interface.cc(321) LOG(INFO) SentenceIterator is not specified. Using MultiFileSentenceIterator.\n",
      "trainer_interface.cc(176) LOG(INFO) Loading corpus: train.txt\n",
      "trainer_interface.cc(377) LOG(INFO) Loaded all 1292 sentences\n",
      "trainer_interface.cc(392) LOG(INFO) Adding meta_piece: <unk>\n",
      "trainer_interface.cc(392) LOG(INFO) Adding meta_piece: <s>\n",
      "trainer_interface.cc(392) LOG(INFO) Adding meta_piece: </s>\n",
      "trainer_interface.cc(397) LOG(INFO) Normalizing sentences...\n",
      "trainer_interface.cc(458) LOG(INFO) all chars count=106436\n",
      "trainer_interface.cc(479) LOG(INFO) Alphabet size=29\n",
      "trainer_interface.cc(480) LOG(INFO) Final character coverage=1\n",
      "trainer_interface.cc(512) LOG(INFO) Done! preprocessed 1292 sentences.\n",
      "trainer_interface.cc(518) LOG(INFO) Tokenizing input sentences with whitespace: 1292\n",
      "trainer_interface.cc(528) LOG(INFO) Done! 2491\n",
      "trainer_interface.cc(606) LOG(INFO) Saving model: model_32.model\n",
      "trainer_interface.cc(617) LOG(INFO) Saving vocabs: model_32.vocab\n",
      "sentencepiece_trainer.cc(79) LOG(INFO) Starts training with : \n",
      "trainer_spec {\n",
      "  input: train.txt\n",
      "  input_format: \n",
      "  model_prefix: model_600\n",
      "  model_type: BPE\n",
      "  vocab_size: 600\n",
      "  self_test_sample_size: 0\n",
      "  character_coverage: 1\n",
      "  input_sentence_size: 0\n",
      "  shuffle_input_sentence: 1\n",
      "  seed_sentencepiece_size: 1000000\n",
      "  shrinking_factor: 0.75\n",
      "  max_sentence_length: 4192\n",
      "  num_threads: 16\n",
      "  num_sub_iterations: 2\n",
      "  max_sentencepiece_length: 16\n",
      "  split_by_unicode_script: 1\n",
      "  split_by_number: 1\n",
      "  split_by_whitespace: 1\n",
      "  split_digits: 0\n",
      "  treat_whitespace_as_suffix: 0\n",
      "  required_chars: \n",
      "  byte_fallback: 0\n",
      "  vocabulary_output_piece_score: 1\n",
      "  train_extremely_large_corpus: 0\n",
      "  hard_vocab_limit: 1\n",
      "  use_all_vocab: 0\n",
      "  unk_id: 0\n",
      "  bos_id: 1\n",
      "  eos_id: 2\n",
      "  pad_id: -1\n",
      "  unk_piece: <unk>\n",
      "  bos_piece: <s>\n",
      "  eos_piece: </s>\n",
      "  pad_piece: <pad>\n",
      "  unk_surface:  ⁇ \n",
      "}\n",
      "normalizer_spec {\n",
      "  name: nmt_nfkc\n",
      "  add_dummy_prefix: 1\n",
      "  remove_extra_whitespaces: 1\n",
      "  escape_whitespaces: 1\n",
      "  normalization_rule_tsv: \n",
      "}\n",
      "denormalizer_spec {}\n",
      "trainer_interface.cc(321) LOG(INFO) SentenceIterator is not specified. Using MultiFileSentenceIterator.\n",
      "trainer_interface.cc(176) LOG(INFO) Loading corpus: train.txt\n",
      "trainer_interface.cc(377) LOG(INFO) Loaded all 1292 sentences\n",
      "trainer_interface.cc(392) LOG(INFO) Adding meta_piece: <unk>\n",
      "trainer_interface.cc(392) LOG(INFO) Adding meta_piece: <s>\n",
      "trainer_interface.cc(392) LOG(INFO) Adding meta_piece: </s>\n",
      "trainer_interface.cc(397) LOG(INFO) Normalizing sentences...\n",
      "trainer_interface.cc(458) LOG(INFO) all chars count=106436\n",
      "trainer_interface.cc(479) LOG(INFO) Alphabet size=29\n",
      "trainer_interface.cc(480) LOG(INFO) Final character coverage=1\n",
      "trainer_interface.cc(512) LOG(INFO) Done! preprocessed 1292 sentences.\n",
      "trainer_interface.cc(518) LOG(INFO) Tokenizing input sentences with whitespace: 1292\n",
      "trainer_interface.cc(528) LOG(INFO) Done! 2491\n",
      "bpe_model_trainer.cc(167) LOG(INFO) Updating active symbols. max_freq=3509 min_freq=1\n",
      "bpe_model_trainer.cc(258) LOG(INFO) Added: freq=679 size=20 all=832 active=803 piece=▁and\n",
      "bpe_model_trainer.cc(258) LOG(INFO) Added: freq=425 size=40 all=1187 active=1158 piece=▁she\n",
      "bpe_model_trainer.cc(258) LOG(INFO) Added: freq=297 size=60 all=1603 active=1574 piece=ot\n",
      "bpe_model_trainer.cc(258) LOG(INFO) Added: freq=202 size=80 all=1842 active=1813 piece=ent\n",
      "bpe_model_trainer.cc(258) LOG(INFO) Added: freq=148 size=100 all=2105 active=2076 piece=ck\n",
      "bpe_model_trainer.cc(167) LOG(INFO) Updating active symbols. max_freq=143 min_freq=6\n",
      "bpe_model_trainer.cc(258) LOG(INFO) Added: freq=111 size=120 all=2282 active=1159 piece=▁very\n",
      "bpe_model_trainer.cc(258) LOG(INFO) Added: freq=92 size=140 all=2492 active=1369 piece=▁st\n",
      "bpe_model_trainer.cc(258) LOG(INFO) Added: freq=83 size=160 all=2675 active=1552 piece=▁ca\n",
      "bpe_model_trainer.cc(258) LOG(INFO) Added: freq=73 size=180 all=2766 active=1643 piece=▁or\n",
      "bpe_model_trainer.cc(258) LOG(INFO) Added: freq=65 size=200 all=2866 active=1743 piece=to\n",
      "bpe_model_trainer.cc(167) LOG(INFO) Updating active symbols. max_freq=65 min_freq=6\n",
      "bpe_model_trainer.cc(258) LOG(INFO) Added: freq=58 size=220 all=2955 active=1079 piece=▁who\n",
      "bpe_model_trainer.cc(258) LOG(INFO) Added: freq=50 size=240 all=3100 active=1224 piece=ther\n",
      "bpe_model_trainer.cc(258) LOG(INFO) Added: freq=46 size=260 all=3232 active=1356 piece=oice\n",
      "bpe_model_trainer.cc(258) LOG(INFO) Added: freq=41 size=280 all=3307 active=1431 piece=ure\n",
      "bpe_model_trainer.cc(258) LOG(INFO) Added: freq=38 size=300 all=3426 active=1550 piece=thing\n",
      "bpe_model_trainer.cc(167) LOG(INFO) Updating active symbols. max_freq=38 min_freq=6\n",
      "bpe_model_trainer.cc(258) LOG(INFO) Added: freq=36 size=320 all=3514 active=1083 piece=▁great\n",
      "bpe_model_trainer.cc(258) LOG(INFO) Added: freq=33 size=340 all=3591 active=1160 piece=▁mad\n",
      "bpe_model_trainer.cc(258) LOG(INFO) Added: freq=30 size=360 all=3671 active=1240 piece=ence\n",
      "bpe_model_trainer.cc(258) LOG(INFO) Added: freq=28 size=380 all=3759 active=1328 piece=▁us\n",
      "bpe_model_trainer.cc(258) LOG(INFO) Added: freq=26 size=400 all=3799 active=1368 piece=ded\n",
      "bpe_model_trainer.cc(167) LOG(INFO) Updating active symbols. max_freq=26 min_freq=5\n",
      "bpe_model_trainer.cc(258) LOG(INFO) Added: freq=25 size=420 all=3876 active=1075 piece=▁grow\n",
      "bpe_model_trainer.cc(258) LOG(INFO) Added: freq=23 size=440 all=3926 active=1125 piece=▁dear\n",
      "bpe_model_trainer.cc(258) LOG(INFO) Added: freq=22 size=460 all=3973 active=1172 piece=▁going\n",
      "bpe_model_trainer.cc(258) LOG(INFO) Added: freq=21 size=480 all=4015 active=1214 piece=▁things\n",
      "bpe_model_trainer.cc(258) LOG(INFO) Added: freq=20 size=500 all=4070 active=1269 piece=▁seemed\n",
      "bpe_model_trainer.cc(167) LOG(INFO) Updating active symbols. max_freq=19 min_freq=4\n",
      "bpe_model_trainer.cc(258) LOG(INFO) Added: freq=18 size=520 all=4100 active=1031 piece=aw\n",
      "bpe_model_trainer.cc(258) LOG(INFO) Added: freq=18 size=540 all=4158 active=1089 piece=▁tried\n",
      "bpe_model_trainer.cc(258) LOG(INFO) Added: freq=17 size=560 all=4199 active=1130 piece=▁cried\n",
      "trainer_interface.cc(606) LOG(INFO) Saving model: model_600.model\n",
      "trainer_interface.cc(617) LOG(INFO) Saving vocabs: model_600.vocab\n",
      "sentencepiece_trainer.cc(79) LOG(INFO) Starts training with : \n",
      "trainer_spec {\n",
      "  input: train.txt\n",
      "  input_format: \n",
      "  model_prefix: model_2500\n",
      "  model_type: BPE\n",
      "  vocab_size: 2500\n",
      "  self_test_sample_size: 0\n",
      "  character_coverage: 1\n",
      "  input_sentence_size: 0\n",
      "  shuffle_input_sentence: 1\n",
      "  seed_sentencepiece_size: 1000000\n",
      "  shrinking_factor: 0.75\n",
      "  max_sentence_length: 4192\n",
      "  num_threads: 16\n",
      "  num_sub_iterations: 2\n",
      "  max_sentencepiece_length: 16\n",
      "  split_by_unicode_script: 1\n",
      "  split_by_number: 1\n",
      "  split_by_whitespace: 1\n",
      "  split_digits: 0\n",
      "  treat_whitespace_as_suffix: 0\n",
      "  required_chars: \n",
      "  byte_fallback: 0\n",
      "  vocabulary_output_piece_score: 1\n",
      "  train_extremely_large_corpus: 0\n",
      "  hard_vocab_limit: 1\n",
      "  use_all_vocab: 0\n",
      "  unk_id: 0\n",
      "  bos_id: 1\n",
      "  eos_id: 2\n",
      "  pad_id: -1\n",
      "  unk_piece: <unk>\n",
      "  bos_piece: <s>\n",
      "  eos_piece: </s>\n",
      "  pad_piece: <pad>\n",
      "  unk_surface:  ⁇ \n",
      "}\n",
      "normalizer_spec {\n",
      "  name: nmt_nfkc\n",
      "  add_dummy_prefix: 1\n",
      "  remove_extra_whitespaces: 1\n",
      "  escape_whitespaces: 1\n",
      "  normalization_rule_tsv: \n",
      "}\n",
      "denormalizer_spec {}\n",
      "trainer_interface.cc(321) LOG(INFO) SentenceIterator is not specified. Using MultiFileSentenceIterator.\n",
      "trainer_interface.cc(176) LOG(INFO) Loading corpus: train.txt\n",
      "trainer_interface.cc(377) LOG(INFO) Loaded all 1292 sentences\n",
      "trainer_interface.cc(392) LOG(INFO) Adding meta_piece: <unk>\n",
      "trainer_interface.cc(392) LOG(INFO) Adding meta_piece: <s>\n",
      "trainer_interface.cc(392) LOG(INFO) Adding meta_piece: </s>\n",
      "trainer_interface.cc(397) LOG(INFO) Normalizing sentences...\n",
      "trainer_interface.cc(458) LOG(INFO) all chars count=106436\n",
      "trainer_interface.cc(479) LOG(INFO) Alphabet size=29\n",
      "trainer_interface.cc(480) LOG(INFO) Final character coverage=1\n",
      "trainer_interface.cc(512) LOG(INFO) Done! preprocessed 1292 sentences.\n",
      "trainer_interface.cc(518) LOG(INFO) Tokenizing input sentences with whitespace: 1292\n",
      "trainer_interface.cc(528) LOG(INFO) Done! 2491\n",
      "bpe_model_trainer.cc(167) LOG(INFO) Updating active symbols. max_freq=3509 min_freq=1\n",
      "bpe_model_trainer.cc(258) LOG(INFO) Added: freq=679 size=20 all=832 active=803 piece=▁and\n",
      "bpe_model_trainer.cc(258) LOG(INFO) Added: freq=425 size=40 all=1187 active=1158 piece=▁she\n",
      "bpe_model_trainer.cc(258) LOG(INFO) Added: freq=297 size=60 all=1603 active=1574 piece=ot\n",
      "bpe_model_trainer.cc(258) LOG(INFO) Added: freq=202 size=80 all=1842 active=1813 piece=ent\n",
      "bpe_model_trainer.cc(258) LOG(INFO) Added: freq=148 size=100 all=2105 active=2076 piece=ck\n",
      "bpe_model_trainer.cc(167) LOG(INFO) Updating active symbols. max_freq=143 min_freq=6\n",
      "bpe_model_trainer.cc(258) LOG(INFO) Added: freq=111 size=120 all=2282 active=1159 piece=▁very\n",
      "bpe_model_trainer.cc(258) LOG(INFO) Added: freq=92 size=140 all=2492 active=1369 piece=▁st\n",
      "bpe_model_trainer.cc(258) LOG(INFO) Added: freq=83 size=160 all=2675 active=1552 piece=▁ca\n",
      "bpe_model_trainer.cc(258) LOG(INFO) Added: freq=73 size=180 all=2766 active=1643 piece=▁or\n",
      "bpe_model_trainer.cc(258) LOG(INFO) Added: freq=65 size=200 all=2866 active=1743 piece=to\n",
      "bpe_model_trainer.cc(167) LOG(INFO) Updating active symbols. max_freq=65 min_freq=6\n",
      "bpe_model_trainer.cc(258) LOG(INFO) Added: freq=58 size=220 all=2955 active=1079 piece=▁who\n",
      "bpe_model_trainer.cc(258) LOG(INFO) Added: freq=50 size=240 all=3100 active=1224 piece=ther\n",
      "bpe_model_trainer.cc(258) LOG(INFO) Added: freq=46 size=260 all=3232 active=1356 piece=oice\n",
      "bpe_model_trainer.cc(258) LOG(INFO) Added: freq=41 size=280 all=3307 active=1431 piece=ure\n",
      "bpe_model_trainer.cc(258) LOG(INFO) Added: freq=38 size=300 all=3426 active=1550 piece=thing\n",
      "bpe_model_trainer.cc(167) LOG(INFO) Updating active symbols. max_freq=38 min_freq=6\n",
      "bpe_model_trainer.cc(258) LOG(INFO) Added: freq=36 size=320 all=3514 active=1083 piece=▁great\n",
      "bpe_model_trainer.cc(258) LOG(INFO) Added: freq=33 size=340 all=3591 active=1160 piece=▁mad\n",
      "bpe_model_trainer.cc(258) LOG(INFO) Added: freq=30 size=360 all=3671 active=1240 piece=ence\n"
     ]
    },
    {
     "name": "stdout",
     "output_type": "stream",
     "text": [
      "bpe_model_trainer.cc(258) LOG(INFO) Added: freq=28 size=380 all=3759 active=1328 piece=▁us\r\n",
      "bpe_model_trainer.cc(258) LOG(INFO) Added: freq=26 size=400 all=3799 active=1368 piece=ded\r\n",
      "bpe_model_trainer.cc(167) LOG(INFO) Updating active symbols. max_freq=26 min_freq=5\r\n",
      "bpe_model_trainer.cc(258) LOG(INFO) Added: freq=25 size=420 all=3876 active=1075 piece=▁grow\r\n",
      "bpe_model_trainer.cc(258) LOG(INFO) Added: freq=23 size=440 all=3926 active=1125 piece=▁dear\r\n",
      "bpe_model_trainer.cc(258) LOG(INFO) Added: freq=22 size=460 all=3973 active=1172 piece=▁going\r\n",
      "bpe_model_trainer.cc(258) LOG(INFO) Added: freq=21 size=480 all=4015 active=1214 piece=▁things\r\n",
      "bpe_model_trainer.cc(258) LOG(INFO) Added: freq=20 size=500 all=4070 active=1269 piece=▁seemed\r\n",
      "bpe_model_trainer.cc(167) LOG(INFO) Updating active symbols. max_freq=19 min_freq=4\r\n",
      "bpe_model_trainer.cc(258) LOG(INFO) Added: freq=18 size=520 all=4100 active=1031 piece=aw\r\n",
      "bpe_model_trainer.cc(258) LOG(INFO) Added: freq=18 size=540 all=4158 active=1089 piece=▁tried\r\n",
      "bpe_model_trainer.cc(258) LOG(INFO) Added: freq=17 size=560 all=4199 active=1130 piece=▁cried\r\n",
      "bpe_model_trainer.cc(258) LOG(INFO) Added: freq=16 size=580 all=4245 active=1176 piece=▁face\r\n",
      "bpe_model_trainer.cc(258) LOG(INFO) Added: freq=15 size=600 all=4287 active=1218 piece=▁ind\r\n",
      "bpe_model_trainer.cc(167) LOG(INFO) Updating active symbols. max_freq=15 min_freq=4\r\n",
      "bpe_model_trainer.cc(258) LOG(INFO) Added: freq=14 size=620 all=4320 active=1032 piece=ged\r\n",
      "bpe_model_trainer.cc(258) LOG(INFO) Added: freq=13 size=640 all=4371 active=1083 piece=dd\r\n",
      "bpe_model_trainer.cc(258) LOG(INFO) Added: freq=13 size=660 all=4412 active=1124 piece=▁repeat\r\n",
      "bpe_model_trainer.cc(258) LOG(INFO) Added: freq=12 size=680 all=4479 active=1191 piece=▁ask\r\n",
      "bpe_model_trainer.cc(258) LOG(INFO) Added: freq=12 size=700 all=4496 active=1208 piece=▁seen\r\n",
      "bpe_model_trainer.cc(167) LOG(INFO) Updating active symbols. max_freq=12 min_freq=4\r\n",
      "bpe_model_trainer.cc(258) LOG(INFO) Added: freq=11 size=720 all=4499 active=1003 piece=sh\r\n",
      "bpe_model_trainer.cc(258) LOG(INFO) Added: freq=11 size=740 all=4548 active=1052 piece=▁else\r\n",
      "bpe_model_trainer.cc(258) LOG(INFO) Added: freq=11 size=760 all=4548 active=1052 piece=▁small\r\n",
      "bpe_model_trainer.cc(258) LOG(INFO) Added: freq=10 size=780 all=4592 active=1096 piece=zz\r\n",
      "bpe_model_trainer.cc(258) LOG(INFO) Added: freq=10 size=800 all=4636 active=1140 piece=▁saw\r\n",
      "bpe_model_trainer.cc(167) LOG(INFO) Updating active symbols. max_freq=10 min_freq=3\r\n",
      "bpe_model_trainer.cc(258) LOG(INFO) Added: freq=10 size=820 all=4648 active=1013 piece=▁dinah\r\n",
      "bpe_model_trainer.cc(258) LOG(INFO) Added: freq=10 size=840 all=4642 active=1007 piece=▁opened\r\n",
      "bpe_model_trainer.cc(258) LOG(INFO) Added: freq=9 size=860 all=4654 active=1019 piece=ches\r\n",
      "bpe_model_trainer.cc(258) LOG(INFO) Added: freq=9 size=880 all=4674 active=1039 piece=▁tail\r\n",
      "bpe_model_trainer.cc(258) LOG(INFO) Added: freq=9 size=900 all=4670 active=1035 piece=▁repeated\r\n",
      "bpe_model_trainer.cc(167) LOG(INFO) Updating active symbols. max_freq=9 min_freq=3\r\n",
      "bpe_model_trainer.cc(258) LOG(INFO) Added: freq=8 size=920 all=4708 active=1039 piece=the\r\n",
      "bpe_model_trainer.cc(258) LOG(INFO) Added: freq=8 size=940 all=4768 active=1099 piece=▁dec\r\n",
      "bpe_model_trainer.cc(258) LOG(INFO) Added: freq=8 size=960 all=4772 active=1103 piece=▁serp\r\n",
      "bpe_model_trainer.cc(258) LOG(INFO) Added: freq=8 size=980 all=4768 active=1099 piece=▁reason\r\n",
      "bpe_model_trainer.cc(258) LOG(INFO) Added: freq=7 size=1000 all=4779 active=1110 piece=ppy\r\n",
      "bpe_model_trainer.cc(167) LOG(INFO) Updating active symbols. max_freq=7 min_freq=3\r\n",
      "bpe_model_trainer.cc(258) LOG(INFO) Added: freq=7 size=1020 all=4808 active=1027 piece=iness\r\n",
      "bpe_model_trainer.cc(258) LOG(INFO) Added: freq=7 size=1040 all=4817 active=1036 piece=▁doubt\r\n",
      "bpe_model_trainer.cc(258) LOG(INFO) Added: freq=7 size=1060 all=4814 active=1033 piece=▁eagerly\r\n",
      "bpe_model_trainer.cc(258) LOG(INFO) Added: freq=6 size=1080 all=4856 active=1075 piece=cup\r\n",
      "bpe_model_trainer.cc(258) LOG(INFO) Added: freq=6 size=1100 all=4901 active=1120 piece=pect\r\n",
      "bpe_model_trainer.cc(167) LOG(INFO) Updating active symbols. max_freq=6 min_freq=2\r\n",
      "bpe_model_trainer.cc(258) LOG(INFO) Added: freq=6 size=1120 all=4929 active=1024 piece=ssing\r\n",
      "bpe_model_trainer.cc(258) LOG(INFO) Added: freq=6 size=1140 all=4933 active=1028 piece=▁viol\r\n",
      "bpe_model_trainer.cc(258) LOG(INFO) Added: freq=6 size=1160 all=4926 active=1021 piece=▁making\r\n",
      "bpe_model_trainer.cc(258) LOG(INFO) Added: freq=6 size=1180 all=4916 active=1011 piece=▁himself\r\n",
      "bpe_model_trainer.cc(258) LOG(INFO) Added: freq=5 size=1200 all=4909 active=1004 piece=bs\r\n",
      "bpe_model_trainer.cc(167) LOG(INFO) Updating active symbols. max_freq=5 min_freq=2\r\n",
      "bpe_model_trainer.cc(258) LOG(INFO) Added: freq=5 size=1220 all=4957 active=1047 piece=low\r\n",
      "bpe_model_trainer.cc(258) LOG(INFO) Added: freq=5 size=1240 all=4990 active=1080 piece=ught\r\n",
      "bpe_model_trainer.cc(258) LOG(INFO) Added: freq=5 size=1260 all=5010 active=1100 piece=aimed\r\n",
      "bpe_model_trainer.cc(258) LOG(INFO) Added: freq=5 size=1280 all=5018 active=1108 piece=▁poli\r\n",
      "bpe_model_trainer.cc(258) LOG(INFO) Added: freq=5 size=1300 all=5015 active=1105 piece=▁moral\r\n",
      "bpe_model_trainer.cc(167) LOG(INFO) Updating active symbols. max_freq=5 min_freq=2\r\n",
      "bpe_model_trainer.cc(258) LOG(INFO) Added: freq=5 size=1320 all=5007 active=993 piece=▁hookah\r\n",
      "bpe_model_trainer.cc(258) LOG(INFO) Added: freq=5 size=1340 all=5002 active=988 piece=▁dropped\r\n",
      "bpe_model_trainer.cc(258) LOG(INFO) Added: freq=5 size=1360 all=4992 active=978 piece=▁distance\r\n",
      "bpe_model_trainer.cc(258) LOG(INFO) Added: freq=4 size=1380 all=4980 active=966 piece=lt\r\n",
      "bpe_model_trainer.cc(258) LOG(INFO) Added: freq=4 size=1400 all=5027 active=1013 piece=ped\r\n",
      "bpe_model_trainer.cc(167) LOG(INFO) Updating active symbols. max_freq=4 min_freq=2\r\n",
      "bpe_model_trainer.cc(258) LOG(INFO) Added: freq=4 size=1420 all=5063 active=1034 piece=most\r\n",
      "bpe_model_trainer.cc(258) LOG(INFO) Added: freq=4 size=1440 all=5080 active=1051 piece=▁shi\r\n",
      "bpe_model_trainer.cc(258) LOG(INFO) Added: freq=4 size=1460 all=5102 active=1073 piece=where\r\n",
      "bpe_model_trainer.cc(258) LOG(INFO) Added: freq=4 size=1480 all=5091 active=1062 piece=▁nose\r\n",
      "bpe_model_trainer.cc(258) LOG(INFO) Added: freq=4 size=1500 all=5086 active=1057 piece=iosity\r\n",
      "bpe_model_trainer.cc(167) LOG(INFO) Updating active symbols. max_freq=4 min_freq=2\r\n",
      "bpe_model_trainer.cc(258) LOG(INFO) Added: freq=4 size=1520 all=5083 active=997 piece=▁stick\r\n",
      "bpe_model_trainer.cc(258) LOG(INFO) Added: freq=4 size=1540 all=5071 active=985 piece=▁hoarse\r\n",
      "bpe_model_trainer.cc(258) LOG(INFO) Added: freq=4 size=1560 all=5060 active=974 piece=▁animals\r\n",
      "bpe_model_trainer.cc(258) LOG(INFO) Added: freq=4 size=1580 all=5048 active=962 piece=▁curiosity\r\n",
      "bpe_model_trainer.cc(258) LOG(INFO) Added: freq=3 size=1600 all=5034 active=948 piece=ii\r\n",
      "bpe_model_trainer.cc(167) LOG(INFO) Updating active symbols. max_freq=3 min_freq=1\r\n",
      "bpe_model_trainer.cc(258) LOG(INFO) Added: freq=3 size=1620 all=5072 active=1036 piece=ied\r\n",
      "bpe_model_trainer.cc(258) LOG(INFO) Added: freq=3 size=1640 all=5087 active=1051 piece=adri\r\n",
      "bpe_model_trainer.cc(258) LOG(INFO) Added: freq=3 size=1660 all=5108 active=1072 piece=ners\r\n",
      "bpe_model_trainer.cc(258) LOG(INFO) Added: freq=3 size=1680 all=5128 active=1092 piece=▁des\r\n",
      "bpe_model_trainer.cc(258) LOG(INFO) Added: freq=3 size=1700 all=5135 active=1099 piece=▁six\r\n",
      "bpe_model_trainer.cc(167) LOG(INFO) Updating active symbols. max_freq=3 min_freq=1\r\n",
      "bpe_model_trainer.cc(258) LOG(INFO) Added: freq=3 size=1720 all=5151 active=1016 piece=pping\r\n",
      "bpe_model_trainer.cc(258) LOG(INFO) Added: freq=3 size=1740 all=5153 active=1018 piece=▁fift\r\n",
      "bpe_model_trainer.cc(258) LOG(INFO) Added: freq=3 size=1760 all=5153 active=1018 piece=▁prom\r\n",
      "bpe_model_trainer.cc(258) LOG(INFO) Added: freq=3 size=1780 all=5154 active=1019 piece=▁bring\r\n",
      "bpe_model_trainer.cc(258) LOG(INFO) Added: freq=3 size=1800 all=5140 active=1005 piece=▁reply\r\n",
      "bpe_model_trainer.cc(167) LOG(INFO) Updating active symbols. max_freq=3 min_freq=1\r\n",
      "bpe_model_trainer.cc(258) LOG(INFO) Added: freq=3 size=1820 all=5131 active=992 piece=▁yours\r\n",
      "bpe_model_trainer.cc(258) LOG(INFO) Added: freq=3 size=1840 all=5120 active=981 piece=▁lesson\r\n",
      "bpe_model_trainer.cc(258) LOG(INFO) Added: freq=3 size=1860 all=5106 active=967 piece=▁checked\r\n",
      "bpe_model_trainer.cc(258) LOG(INFO) Added: freq=3 size=1880 all=5087 active=948 piece=▁quietly\r\n",
      "bpe_model_trainer.cc(258) LOG(INFO) Added: freq=3 size=1900 all=5072 active=933 piece=▁flamingo\r\n",
      "bpe_model_trainer.cc(167) LOG(INFO) Updating active symbols. max_freq=3 min_freq=1\r\n",
      "bpe_model_trainer.cc(258) LOG(INFO) Added: freq=3 size=1920 all=5052 active=981 piece=▁mentioned\r\n",
      "bpe_model_trainer.cc(258) LOG(INFO) Added: freq=3 size=1940 all=5032 active=961 piece=▁opportunity\r\n",
      "bpe_model_trainer.cc(258) LOG(INFO) Added: freq=2 size=1960 all=5060 active=989 piece=any\r\n",
      "bpe_model_trainer.cc(258) LOG(INFO) Added: freq=2 size=1980 all=5076 active=1005 piece=itu\r\n",
      "bpe_model_trainer.cc(258) LOG(INFO) Added: freq=2 size=2000 all=5097 active=1026 piece=tro\r\n",
      "bpe_model_trainer.cc(167) LOG(INFO) Updating active symbols. max_freq=2 min_freq=1\r\n",
      "bpe_model_trainer.cc(258) LOG(INFO) Added: freq=2 size=2020 all=5109 active=1008 piece=ault\r\n",
      "bpe_model_trainer.cc(258) LOG(INFO) Added: freq=2 size=2040 all=5123 active=1022 piece=mble\r\n",
      "bpe_model_trainer.cc(258) LOG(INFO) Added: freq=2 size=2060 all=5140 active=1039 piece=▁act\r\n",
      "bpe_model_trainer.cc(258) LOG(INFO) Added: freq=2 size=2080 all=5137 active=1036 piece=▁law\r\n",
      "bpe_model_trainer.cc(258) LOG(INFO) Added: freq=2 size=2100 all=5132 active=1031 piece=▁won\r\n",
      "bpe_model_trainer.cc(167) LOG(INFO) Updating active symbols. max_freq=2 min_freq=1\r\n",
      "bpe_model_trainer.cc(258) LOG(INFO) Added: freq=2 size=2120 all=5140 active=1009 piece=itude\r\n",
      "bpe_model_trainer.cc(258) LOG(INFO) Added: freq=2 size=2140 all=5146 active=1015 piece=▁auth\r\n",
      "bpe_model_trainer.cc(258) LOG(INFO) Added: freq=2 size=2160 all=5137 active=1006 piece=▁hint\r\n",
      "bpe_model_trainer.cc(258) LOG(INFO) Added: freq=2 size=2180 all=5124 active=993 piece=▁rust\r\n",
      "bpe_model_trainer.cc(258) LOG(INFO) Added: freq=2 size=2200 all=5114 active=983 piece=▁wise\r\n",
      "bpe_model_trainer.cc(167) LOG(INFO) Updating active symbols. max_freq=2 min_freq=1\r\n",
      "bpe_model_trainer.cc(258) LOG(INFO) Added: freq=2 size=2220 all=5117 active=1004 piece=▁anger\r\n",
      "bpe_model_trainer.cc(258) LOG(INFO) Added: freq=2 size=2240 all=5105 active=992 piece=▁faint\r\n",
      "bpe_model_trainer.cc(258) LOG(INFO) Added: freq=2 size=2260 all=5091 active=978 piece=▁moder\r\n",
      "bpe_model_trainer.cc(258) LOG(INFO) Added: freq=2 size=2280 all=5081 active=968 piece=▁sorts\r\n",
      "bpe_model_trainer.cc(258) LOG(INFO) Added: freq=2 size=2300 all=5073 active=960 piece=ighbour\r\n",
      "bpe_model_trainer.cc(167) LOG(INFO) Updating active symbols. max_freq=2 min_freq=1\r\n",
      "bpe_model_trainer.cc(258) LOG(INFO) Added: freq=2 size=2320 all=5067 active=993 piece=▁crumbs\r\n",
      "bpe_model_trainer.cc(258) LOG(INFO) Added: freq=2 size=2340 all=5049 active=975 piece=▁kindly\r\n",
      "bpe_model_trainer.cc(258) LOG(INFO) Added: freq=2 size=2360 all=5032 active=958 piece=▁patter\r\n",
      "bpe_model_trainer.cc(258) LOG(INFO) Added: freq=2 size=2380 all=5017 active=943 piece=▁trials\r\n",
      "bpe_model_trainer.cc(258) LOG(INFO) Added: freq=2 size=2400 all=5006 active=932 piece=▁cheered\r\n",
      "bpe_model_trainer.cc(167) LOG(INFO) Updating active symbols. max_freq=2 min_freq=1\r\n",
      "bpe_model_trainer.cc(258) LOG(INFO) Added: freq=2 size=2420 all=4989 active=984 piece=▁howling\r\n",
      "bpe_model_trainer.cc(258) LOG(INFO) Added: freq=2 size=2440 all=4969 active=964 piece=▁respect\r\n"
     ]
    },
    {
     "name": "stdout",
     "output_type": "stream",
     "text": [
      "bpe_model_trainer.cc(258) LOG(INFO) Added: freq=2 size=2460 all=4950 active=945 piece=▁usually\n",
      "trainer_interface.cc(606) LOG(INFO) Saving model: model_2500.model\n",
      "trainer_interface.cc(617) LOG(INFO) Saving vocabs: model_2500.vocab\n",
      "/home/daniyar/snlp/project/english\n",
      "/home/daniyar/snlp/project\n"
     ]
    }
   ],
   "source": [
    "%cd {lang}/corpus\n",
    "for VOCAB_SIZE in [32, 600, 2500]:\n",
    "    !spm_train --input=train.txt --model_prefix=model_{VOCAB_SIZE} --vocab_size={VOCAB_SIZE} --character_coverage=1.0 --model_type=bpe\n",
    "    !spm_encode --model=model_{VOCAB_SIZE}.model --output_format=piece < train.txt > train{VOCAB_SIZE}.txt\n",
    "    !spm_encode --model=model_{VOCAB_SIZE}.model --output_format=piece < test.txt > test{VOCAB_SIZE}.txt\n",
    "%cd ..\n",
    "%cd .."
   ]
  },
  {
   "cell_type": "markdown",
   "id": "fedf25b3",
   "metadata": {},
   "source": [
    "## **3 LM Training**"
   ]
  },
  {
   "cell_type": "markdown",
   "id": "29b2f3d9",
   "metadata": {},
   "source": [
    "### Baseline models"
   ]
  },
  {
   "cell_type": "code",
   "execution_count": 44,
   "id": "5a8d6396",
   "metadata": {
    "scrolled": true
   },
   "outputs": [
    {
     "name": "stdout",
     "output_type": "stream",
     "text": [
      "debug mode: 2\n",
      "train file: english/corpus/train32.txt\n",
      "valid file: english/corpus/test32.txt\n",
      "class size: 32\n",
      "Hidden layer size: 40\n",
      "BPTT: 3\n",
      "Rand seed: 1\n",
      "rnnlm file: english/models/m32/rnn_baseline\n",
      "Starting training using file english/corpus/train32.txt\n",
      "Restoring network from file to continue training...\n",
      "WARNING: number of classes exceeds vocabulary size!\n",
      "Iter:  10\tAlpha: 0.003125\t   TRAIN entropy: 2.8306    Words/sec: 211800.6   VALID entropy: 2.2732\n",
      "Iter:  11\tAlpha: 0.001563\t   TRAIN entropy: 2.2349    Words/sec: 209387.8   VALID entropy: 2.2710\n",
      "debug mode: 2\n",
      "train file: english/corpus/train600.txt\n",
      "valid file: english/corpus/test600.txt\n",
      "class size: 600\n",
      "Hidden layer size: 40\n",
      "BPTT: 3\n",
      "Rand seed: 1\n",
      "rnnlm file: english/models/m600/rnn_baseline\n",
      "Starting training using file english/corpus/train600.txt\n",
      "Vocab size: 583\n",
      "Words in train file: 33948\n",
      "WARNING: number of classes exceeds vocabulary size!\n",
      "Iter:   0\tAlpha: 0.100000\t   TRAIN entropy: 8.2183    Words/sec: 32364.3   VALID entropy: 8.0302\n",
      "Iter:   1\tAlpha: 0.100000\t   TRAIN entropy: 7.7908    Words/sec: 31807.9   VALID entropy: 7.7212\n",
      "Iter:   2\tAlpha: 0.100000\t   TRAIN entropy: 7.3498    Words/sec: 32125.9   VALID entropy: 7.3460\n",
      "Iter:   3\tAlpha: 0.100000\t   TRAIN entropy: 6.9810    Words/sec: 32053.9   VALID entropy: 7.0622\n",
      "Iter:   4\tAlpha: 0.100000\t   TRAIN entropy: 6.6748    Words/sec: 32218.7   VALID entropy: 6.8490\n",
      "Iter:   5\tAlpha: 0.100000\t   TRAIN entropy: 6.4132    Words/sec: 32540.6   VALID entropy: 6.6961\n",
      "Iter:   6\tAlpha: 0.100000\t   TRAIN entropy: 6.1926    Words/sec: 31704.8   VALID entropy: 6.5735\n",
      "Iter:   7\tAlpha: 0.100000\t   TRAIN entropy: 6.0088    Words/sec: 31690.5   VALID entropy: 6.4732\n",
      "Iter:   8\tAlpha: 0.100000\t   TRAIN entropy: 5.8556    Words/sec: 31611.1   VALID entropy: 6.4003\n",
      "Iter:   9\tAlpha: 0.100000\t   TRAIN entropy: 5.7268    Words/sec: 32151.4   VALID entropy: 6.3580\n",
      "Iter:  10\tAlpha: 0.100000\t   TRAIN entropy: 5.6181    Words/sec: 32627.8   VALID entropy: 6.3321\n",
      "Iter:  11\tAlpha: 0.100000\t   TRAIN entropy: 5.5251    Words/sec: 32434.3   VALID entropy: 6.3153\n",
      "Iter:  12\tAlpha: 0.050000\t   TRAIN entropy: 5.3175    Words/sec: 31531.2   VALID entropy: 6.1396\n",
      "Iter:  13\tAlpha: 0.025000\t   TRAIN entropy: 5.1951    Words/sec: 32024.5   VALID entropy: 5.9841\n",
      "Iter:  14\tAlpha: 0.012500\t   TRAIN entropy: 5.1261    Words/sec: 31201.9   VALID entropy: 5.8907\n",
      "Iter:  15\tAlpha: 0.006250\t   TRAIN entropy: 5.0877    Words/sec: 31511.4   VALID entropy: 5.8513\n",
      "Iter:  16\tAlpha: 0.003125\t   TRAIN entropy: 5.0671    Words/sec: 31992.9   VALID entropy: 5.8362\n",
      "debug mode: 2\n",
      "train file: english/corpus/train2500.txt\n",
      "valid file: english/corpus/test2500.txt\n",
      "class size: 2500\n",
      "Hidden layer size: 40\n",
      "BPTT: 3\n",
      "Rand seed: 1\n",
      "rnnlm file: english/models/m2500/rnn_baseline\n",
      "Starting training using file english/corpus/train2500.txt\n",
      "Restoring network from file to continue training...\n",
      "WARNING: number of classes exceeds vocabulary size!\n",
      "Iter:  12\tAlpha: 0.006250\t   TRAIN entropy: 8.5446    Words/sec: 6392.7   VALID entropy: 7.5464\n"
     ]
    }
   ],
   "source": [
    "for VOCAB_SIZE in [32, 600, 2500]:\n",
    "    %mkdir --parents {lang}/models/m{VOCAB_SIZE}\n",
    "    !rnnlm/rnnlm -train {lang}/corpus/train{VOCAB_SIZE}.txt -valid {lang}/corpus/test{VOCAB_SIZE}.txt -rnnlm {lang}/models/m{VOCAB_SIZE}/rnn_baseline -hidden 40 -rand-seed 1 -debug 2 -bptt 3 -class {VOCAB_SIZE} | tee {lang}/models/m{VOCAB_SIZE}/rnn_baseline.log"
   ]
  },
  {
   "cell_type": "markdown",
   "id": "d658209e",
   "metadata": {},
   "source": [
    "For English language:  \n",
    "character level (32) -> perplexity = 4.836874    \n",
    "sub-unit small (600) -> perplexity = 57.129194   \n",
    "sub-unit large (2500) -> perplexity = 186.871310  \n",
    "\n",
    "For Bengali:  \n",
    "character level(155) -> perplexity 8.770176\n",
    "sub-unit small (700) -> perplexity 81.093574\n",
    "sub-unit large (5000) -> perplexity 576.671790"
   ]
  },
  {
   "cell_type": "markdown",
   "id": "83d3d490",
   "metadata": {},
   "source": [
    "### The best models for given vocabulary sizes after hyperparameter tuning"
   ]
  },
  {
   "cell_type": "code",
   "execution_count": 45,
   "id": "b2ad1a1f",
   "metadata": {
    "scrolled": true
   },
   "outputs": [
    {
     "name": "stdout",
     "output_type": "stream",
     "text": [
      "debug mode: 2\n",
      "train file: english/corpus/train32.txt\n",
      "valid file: english/corpus/test32.txt\n",
      "class size: 1\n",
      "Hidden layer size: 280\n",
      "BPTT: 3\n",
      "Rand seed: 1\n",
      "rnnlm file: english/models/m32/rnn_best\n",
      "Starting training using file english/corpus/train32.txt\n",
      "Restoring network from file to continue training...\n",
      "Iter:  15\tAlpha: 0.001563\t   TRAIN entropy: 2.1071    Words/sec: 7953.5   VALID entropy: 1.8573\n",
      "debug mode: 2\n",
      "train file: english/corpus/train600.txt\n",
      "valid file: english/corpus/test600.txt\n",
      "class size: 1\n",
      "Hidden layer size: 100\n",
      "BPTT: 3\n",
      "Rand seed: 1\n",
      "rnnlm file: english/models/m600/rnn_best\n",
      "Starting training using file english/corpus/train600.txt\n",
      "Restoring network from file to continue training...\n",
      "Iter:  16\tAlpha: 0.001563\t   TRAIN entropy: 6.3337    Words/sec: 10610.9   VALID entropy: 5.7789\n",
      "debug mode: 2\n",
      "train file: english/corpus/train2500.txt\n",
      "valid file: english/corpus/test2500.txt\n",
      "class size: 1\n",
      "Hidden layer size: 120\n",
      "BPTT: 3\n",
      "Rand seed: 1\n",
      "rnnlm file: english/models/m2500/rnn_best\n",
      "Starting training using file english/corpus/train2500.txt\n",
      "Restoring network from file to continue training...\n",
      "Iter:  11\tAlpha: 0.006250\t   TRAIN entropy: 8.5672    Words/sec: 2377.0   VALID entropy: 7.5181\n"
     ]
    }
   ],
   "source": [
    "VOCAB_SIZE = 32\n",
    "!rnnlm/rnnlm -train {lang}/corpus/train{VOCAB_SIZE}.txt -valid {lang}/corpus/test{VOCAB_SIZE}.txt -rnnlm {lang}/models/m{VOCAB_SIZE}/rnn_best -hidden 280 -rand-seed 1 -debug 2 -bptt 3 -class 1 | tee {lang}/models/m{VOCAB_SIZE}/rnn_best.log\n",
    "VOCAB_SIZE = 600\n",
    "!rnnlm/rnnlm -train {lang}/corpus/train{VOCAB_SIZE}.txt -valid {lang}/corpus/test{VOCAB_SIZE}.txt -rnnlm {lang}/models/m{VOCAB_SIZE}/rnn_best -hidden 100 -rand-seed 1 -debug 2 -bptt 3 -class 1 | tee {lang}/models/m{VOCAB_SIZE}/rnn_best.log\n",
    "VOCAB_SIZE = 2500\n",
    "!rnnlm/rnnlm -train {lang}/corpus/train{VOCAB_SIZE}.txt -valid {lang}/corpus/test{VOCAB_SIZE}.txt -rnnlm {lang}/models/m{VOCAB_SIZE}/rnn_best -hidden 120 -rand-seed 1 -debug 2 -bptt 3 -class 1 | tee {lang}/models/m{VOCAB_SIZE}/rnn_best.log"
   ]
  },
  {
   "cell_type": "markdown",
   "id": "ab0c40e4",
   "metadata": {},
   "source": [
    "### Analysis"
   ]
  },
  {
   "cell_type": "markdown",
   "id": "b25bf72e",
   "metadata": {},
   "source": [
    "* After experimenting with -bptt flag, it was discovered that it does from negligible to no difference to perplexity. Therefore, it was decided to leave it at a standard value of 3.  \n",
    "* It was decided to leave -class flag as 1 because it will make the number of classes equal to the size of vocabulary. For this decision was based on the advices of the authors of the toolkit that they provided in \"RNNLM - Recurrent Neural Network Language Modeling Toolkit\" paper.\n",
    "* Grid-search was performed to determine the size of hidden layer. For English language the following values were tried as the size of the hidden layer: for vocabulary of size `32` - from `40` to `280` with the step `20`, for vocabulary of size `600` and `2500` - from `40` to `180` with the step `20`. For Bengali, the training process was more computationally complex, therefore, not so many values were tried. Nevertheless, we tried to experiment with different layer sizes: for vocabulary of size `155`: `40`, `120` and `200`, for vocabulary of size `155`: `40` and `120`, for vocabulary of size `5000`: `40` and `120`."
   ]
  },
  {
   "cell_type": "markdown",
   "id": "b82b8466",
   "metadata": {},
   "source": [
    "For English language the results were the following:\n",
    "* The best model for vocabulary of size 32 has 280 hidden layers and perplexity = 3.624873\n",
    "* The best model for vocabulary of size 450 has 100 hidden layers and perplexity = 41.319151\n",
    "* The best model for vocabulary of size 2500 has 120 hidden layers and perplexity = 183.440180  \n",
    "It can be seen that there was a slight improvement compared to the baseline model."
   ]
  },
  {
   "cell_type": "markdown",
   "id": "33fe209c",
   "metadata": {},
   "source": [
    "For Bengali, strangely, the different values for hidden layer size only increased perplexity, therefore, it was decided to stick with the default value of `40`"
   ]
  },
  {
   "cell_type": "markdown",
   "id": "fd258150",
   "metadata": {},
   "source": [
    "## **4 Text Generation**"
   ]
  },
  {
   "cell_type": "code",
   "execution_count": 6,
   "id": "5a43f86a",
   "metadata": {},
   "outputs": [],
   "source": [
    "for VOCAB_SIZE in [32, 600, 2500]:\n",
    "    %mkdir --parents {lang}/generated/m{VOCAB_SIZE}\n",
    "    for i in range(1, 8):\n",
    "        !rnnlm/rnnlm -rnnlm {lang}/models/m{VOCAB_SIZE}/rnn_best -gen {10**i} -debug 0 > {lang}/generated/m{VOCAB_SIZE}/{10**i}.txt\n",
    "        !spm_decode --model={lang}/corpus/model_{VOCAB_SIZE}.model --input_format=piece < {lang}/generated/m{VOCAB_SIZE}/{10**i}.txt > {lang}/generated/m{VOCAB_SIZE}/{10**i}_decoded.txt"
   ]
  },
  {
   "cell_type": "markdown",
   "id": "7b14bf69",
   "metadata": {},
   "source": [
    "### Analysis"
   ]
  },
  {
   "cell_type": "markdown",
   "id": "03aecb89",
   "metadata": {},
   "source": [
    "For English language, all the generated sentences didn't really make sense, but they catched some common collocations which might make sense individually. For example, in the model with vocabulary size of `32`: `if you have`, `from beginning`, `she was right`, or in the model with the vocabulary size of `2500`: `alice looked at little drink`. As we increase the vocabulary size, we encounter less nonexistent words, for example, the model with vocabulary size `32` generated the words `dis`, `hess`, `imself`, `bife`. All of them don't exist in the English language. Meanwhile, the model with the vocabulary size of `600` generated less nonsense words, and the model with the vocabulary size of `2500` almost didn't generate any nonexistent words.  \n",
    "Unfortunately, we didn't have Bengali speaker in our team in order to analyze the output of the Bengali model."
   ]
  },
  {
   "cell_type": "markdown",
   "id": "eee62f36",
   "metadata": {},
   "source": [
    "## 5 OOV comparison"
   ]
  },
  {
   "cell_type": "markdown",
   "id": "67ec9e3b",
   "metadata": {},
   "source": [
    "### Original corpus"
   ]
  },
  {
   "cell_type": "code",
   "execution_count": 29,
   "id": "052ecdc3",
   "metadata": {},
   "outputs": [],
   "source": [
    "import oov\n",
    "import codecs\n",
    "import numpy as np\n",
    "oov = reload(oov)"
   ]
  },
  {
   "cell_type": "code",
   "execution_count": 51,
   "id": "2ad083c6",
   "metadata": {},
   "outputs": [],
   "source": [
    "train = []\n",
    "test = []\n",
    "with codecs.open(\"{}/corpus/train.txt\".format(lang), encoding='utf-8') as f:\n",
    "    for line in f:\n",
    "        train += line.split()\n",
    "with codecs.open(\"{}/corpus/test.txt\".format(lang), encoding='utf-8') as f:\n",
    "    for line in f:\n",
    "        test += line.split()"
   ]
  },
  {
   "cell_type": "code",
   "execution_count": 52,
   "id": "bf23879a",
   "metadata": {},
   "outputs": [
    {
     "data": {
      "image/png": "[encoded data removed]",
      "text/plain": [
       "<Figure size 1080x576 with 1 Axes>"
      ]
     },
     "metadata": {
      "needs_background": "light"
     },
     "output_type": "display_data"
    }
   ],
   "source": [
    "oov = reload(oov)\n",
    "voc_sizes = np.arange(800, 2600+1, 200)\n",
    "oov_rates = oov.get_oov_rates(train, test, voc_sizes)\n",
    "oov.plot_oov_rates(oov_rates, voc_sizes, 'OOV Rate vs Vocabulary size (log scale) - original corpora')"
   ]
  },
  {
   "cell_type": "code",
   "execution_count": 53,
   "id": "3b4929f1",
   "metadata": {},
   "outputs": [
    {
     "name": "stdout",
     "output_type": "stream",
     "text": [
      "[0.13262696382900988, 0.11107051516258677, 0.09535988308366825, 0.08695652173913043, 0.08275484106686153, 0.07453416149068323, 0.06740957252466204, 0.061381074168797956, 0.052612349287541105, 0.05078553160394592]\n"
     ]
    }
   ],
   "source": [
    "print(oov_rates)"
   ]
  },
  {
   "cell_type": "markdown",
   "id": "dfe0050d",
   "metadata": {},
   "source": [
    "### Generated corpora"
   ]
  },
  {
   "cell_type": "code",
   "execution_count": 56,
   "id": "f4524b18",
   "metadata": {},
   "outputs": [
    {
     "name": "stdout",
     "output_type": "stream",
     "text": [
      "0.9817318231640483\n",
      "0.8737668980635732\n",
      "0.5290464011691633\n",
      "0.2453416149068323\n",
      "0.134088417975886\n",
      "0.07891852393131166\n",
      "0.0484106686152722\n",
      "-----\n",
      "0.9652904640116916\n",
      "0.6408476434051882\n",
      "0.3578735842162952\n",
      "0.1956521739130435\n",
      "0.11709901351845085\n",
      "0.07179393496529046\n",
      "0.047497259773474604\n",
      "-----\n",
      "0.9561563755937158\n",
      "0.6379247351114359\n",
      "0.3134819145049324\n",
      "0.1216660577274388\n",
      "0.08531238582389478\n",
      "0.07270734380708806\n",
      "0.05334307636097917\n",
      "-----\n"
     ]
    }
   ],
   "source": [
    "oov = reload(oov)\n",
    "test = []\n",
    "with codecs.open(\"{}/corpus/test.txt\".format(lang), encoding='utf-8') as f:\n",
    "    for line in f:\n",
    "        test += line.split()\n",
    "\n",
    "voc_sizes = [10, 100, 1000, 10000, 100000, 1000000, 10000000]\n",
    "results = {}\n",
    "for model in ['m32', 'm600', 'm2500']:\n",
    "    oov_rates = []\n",
    "    for voc_size in voc_sizes:\n",
    "        train = []\n",
    "        with codecs.open(\"{}/generated/{}/{}_decoded.txt\".format(lang, model, str(voc_size)), encoding='utf-8') as f:\n",
    "            for line in f:\n",
    "                train += line.split()\n",
    "        oov_rate = oov.get_oov_rate(train, test)\n",
    "        oov_rates.append(oov_rate)\n",
    "        print(oov_rate)\n",
    "    print('-----')\n",
    "    results[model] = tuple(oov_rates)"
   ]
  },
  {
   "cell_type": "code",
   "execution_count": 57,
   "id": "04e3ee57",
   "metadata": {},
   "outputs": [
    {
     "data": {
      "image/png": "[encoded data removed]",
      "text/plain": [
       "<Figure size 1080x576 with 1 Axes>"
      ]
     },
     "metadata": {
      "needs_background": "light"
     },
     "output_type": "display_data"
    }
   ],
   "source": [
    "model = 'm32'\n",
    "oov.plot_oov_rates(results[model], voc_sizes, 'OOV Rate vs Generated Corpora size (log scale) for {}'.format(model))"
   ]
  },
  {
   "cell_type": "code",
   "execution_count": 58,
   "id": "1891e26f",
   "metadata": {},
   "outputs": [
    {
     "data": {
      "image/png": "[encoded data removed]",
      "text/plain": [
       "<Figure size 1080x576 with 1 Axes>"
      ]
     },
     "metadata": {
      "needs_background": "light"
     },
     "output_type": "display_data"
    }
   ],
   "source": [
    "model = 'm600'\n",
    "oov.plot_oov_rates(results[model], voc_sizes, 'OOV Rate vs Generated Corpora size (log scale) for {}'.format(model))"
   ]
  },
  {
   "cell_type": "code",
   "execution_count": 59,
   "id": "1ecf56b3",
   "metadata": {},
   "outputs": [
    {
     "data": {
      "image/png": "[encoded data removed]",
      "text/plain": [
       "<Figure size 1080x576 with 1 Axes>"
      ]
     },
     "metadata": {
      "needs_background": "light"
     },
     "output_type": "display_data"
    }
   ],
   "source": [
    "model = 'm2500'\n",
    "oov.plot_oov_rates(results[model], voc_sizes, 'OOV Rate vs Generated Corpora size (log scale) for {}'.format(model))"
   ]
  },
  {
   "cell_type": "markdown",
   "id": "618b6e27",
   "metadata": {},
   "source": [
    "### Analysis"
   ]
  },
  {
   "cell_type": "markdown",
   "id": "c5a7dd44",
   "metadata": {},
   "source": [
    "As it was expected, the OOV rate decreases as we increase the size of generated corpus. This is happening because the model has more chance to generate more 'obscure' words that might be useful in the test set.  \n",
    "With the generated corpora we were able to achieve the reduction in OOV rate from 0.05079 (which corresponds to the max vocabulary size for original corpus) to 0.04750 (which corresponds to the vocabulary size of 600 for training and 10^7 generated words) for English language.  \n",
    "Unfortunately, for Bengali language we weren't able to achieve the reduction in OOV rate. The lowest OOV rate we were able to achieve was 0.20783778177292214 which corresponds to the model trained on the voccabulary size of 5000 and which generated 10^7 words. This is still higher than OOV rate of 0.16920204674318906 which we got from the original corpus. The possible explanation for that is that we should have tried larger vocabulary sizes than 5000 because Bengali has way more unique symbols than English. Also, increasing the size of hidden layer might also cause improvement, because Bengali is morphologically more rich than English and it should have more connections between different words than English."
   ]
  },
  {
   "cell_type": "markdown",
   "id": "606bf07d",
   "metadata": {},
   "source": [
    "## 6 Analysis"
   ]
  },
  {
   "cell_type": "markdown",
   "id": "1b871e15",
   "metadata": {},
   "source": [
    "The main objective of this project was to reduce the OOV rate by using subword representation in the vocabulary. For this purpose the SentencePiece implementation of BPE algorithm was used. Different granularity levels were used starting from the character level to complete word representation level. The reduction of OOV rate was achieved for English language, but unfortunately was not achieved for Bengali.   \n",
    "Different vocabulary sizes controlled the granularity level. If we set the vocabulary size equal to the number of unique character, we get the character level granularity. If we set the vocabulary size closer to the number of unique words, each word has its unique representation in the vocabulary. If we set the vocabulary value somewhere in the middle, the BPE algorithm extracts the subwords attributed with the language. This strategy was used with English for picking the vocabulary size. Unfortunately, due to large number of unique words in Bengali and computational limitation, we were unable to set the maximum vocabulary size equal to the number of unique words (which was around 40363). This might be one of the possible reasons of bad performance of the Bengali model.  \n",
    "The hyperparameter tuning was mentioned in the corresponding section.  \n",
    "Additional ways of improving the results of the models might be enlarging the vocabulary size for Bengali and increasing the size of the hidden layer. So far we didn't see any overfitting because the perplexity level on validation set did not increase for any of them. Therefore, adding some additional neurons for RNNs might actually improve its performance. Also, we might consider different (e.g. multilevel) architectures for RNN model apart from the one provided by RNNLM toolkit. "
   ]
  },
  {
   "cell_type": "code",
   "execution_count": null,
   "id": "cfe8b489",
   "metadata": {},
   "outputs": [],
   "source": []
  }
 ],
 "metadata": {
  "kernelspec": {
   "display_name": "Python 3",
   "language": "python",
   "name": "python3"
  },
  "language_info": {
   "codemirror_mode": {
    "name": "ipython",
    "version": 3
   },
   "file_extension": ".py",
   "mimetype": "text/x-python",
   "name": "python",
   "nbconvert_exporter": "python",
   "pygments_lexer": "ipython3",
   "version": "3.7.10"
  }
 },
 "nbformat": 4,
 "nbformat_minor": 5
}
