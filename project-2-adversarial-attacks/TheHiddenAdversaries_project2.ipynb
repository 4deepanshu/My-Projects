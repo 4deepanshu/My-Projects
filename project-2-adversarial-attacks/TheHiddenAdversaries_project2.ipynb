{
 "cells": [
  {
   "cell_type": "markdown",
   "metadata": {
    "id": "4NzyqehHjUlG"
   },
   "source": [
    "# ML in Cybersecurity: Project II\n",
    "\n",
    "## Team\n",
    "  * **Team name**:  The Hidden Adversaries\n",
    "  * **Members**:  Tomas Amado (toam00001@stud.uni-saarland.de), Deepanshu Mehta (deme00001@stud.uni-saarland.de), Marco Schuster (masc00008@stud.uni-saarland.de)\n",
    "  * **Tutor**: *fill this in*\n",
    "\n",
    "\n",
    "## Logistics\n",
    "  * **Due date**: 14th December 2020, 13:59:59 \n",
    "  * Email the completed notebook to mlcysec_ws2021_staff@lists.cispa.saarland \n",
    "  * Complete this in the previously established **teams of 3**\n",
    "  * Feel free to use the course [mailing list](https://lists.cispa.saarland/listinfo/mlcysec_ws2021_stud) to discuss.\n",
    "  \n",
    "## Timeline\n",
    "  * 30-Nov-2020: Project 2 hand-out\n",
    "  * **14-Dec-2020** (13:59:59): Email completed notebook to mlcysec_ws2021_staff@lists.cispa.saarland\n",
    "\n",
    "  \n",
    "  \n",
    "## About this Project\n",
    "In this project, we dive into the vulnerabilities of machine learning models and the difficulties of defending against them. To this end, we require you to implement an evasion attack (craft adversarial examples) yourselves, and defend your own model.   \n",
    "\n",
    "\n",
    "## A Note on Grading\n",
    "The total number of points in this project is 100. We further provide the number of points achievable with each excercise. You should take particular care to document and visualize your results, though.\n",
    "\n",
    "\n",
    " \n",
    "## Filling-in the Notebook\n",
    "You'll be submitting this very notebook that is filled-in with (all!) your code and analysis. Make sure you submit one that has been previously executed in-order. (So that results/graphs are already visible upon opening it). \n",
    "\n",
    "The notebook you submit **should compile** (or should be self-contained and sufficiently commented). Check tutorial 1 on how to set up the Python3 environment.\n",
    "\n",
    "It is extremely important that you **do not** re-order the existing sections. Apart from that, the code blocks that you need to fill-in are given by:\n",
    "```\n",
    "#\n",
    "#\n",
    "# ------- Your Code -------\n",
    "#\n",
    "#\n",
    "```\n",
    "Feel free to break this into multiple-cells. It's even better if you interleave explanations and code-blocks so that the entire notebook forms a readable \"story\".\n",
    "\n",
    "\n",
    "## Code of Honor\n",
    "We encourage discussing ideas and concepts with other students to help you learn and better understand the course content. However, the work you submit and present **must be original** and demonstrate your effort in solving the presented problems. **We will not tolerate** blatantly using existing solutions (such as from the internet), improper collaboration (e.g., sharing code or experimental data between groups) and plagiarism. If the honor code is not met, no points will be awarded.\n",
    "\n",
    " \n",
    " ## Versions\n",
    "  * v1.0: Initial notebook\n",
    "  * v1.1: Clarifications at 1.1.2, 1.2.2, 2.1\n",
    " \n",
    "  ---"
   ]
  },
  {
   "cell_type": "code",
   "execution_count": 1,
   "metadata": {
    "id": "3ewNwfFvbFaR"
   },
   "outputs": [],
   "source": [
    "import time \n",
    " \n",
    "import numpy as np \n",
    "import matplotlib.pyplot as plt \n",
    "\n",
    "import json \n",
    "import time \n",
    "import pickle \n",
    "import sys \n",
    "import csv \n",
    "import os \n",
    "import os.path as osp \n",
    "import shutil \n",
    "\n",
    "import pandas as pd\n",
    "\n",
    "from IPython.display import display, HTML\n",
    " \n",
    "%matplotlib inline \n",
    "plt.rcParams['figure.figsize'] = (10.0, 8.0) # set default size of plots \n",
    "plt.rcParams['image.interpolation'] = 'nearest' \n",
    "plt.rcParams['image.cmap'] = 'gray' \n",
    " \n",
    "# for auto-reloading external modules \n",
    "# see http://stackoverflow.com/questions/1907993/autoreload-of-modules-in-ipython \n",
    "%load_ext autoreload\n",
    "%autoreload 2"
   ]
  },
  {
   "cell_type": "code",
   "execution_count": 2,
   "metadata": {
    "id": "640GrzbOevr0"
   },
   "outputs": [],
   "source": [
    "# Some suggestions of our libraries that might be helpful for this project\n",
    "from collections import Counter          # an even easier way to count\n",
    "from multiprocessing import Pool         # for multiprocessing\n",
    "from tqdm import tqdm                    # fancy progress bars\n",
    "\n",
    "# Load other libraries here.\n",
    "# Keep it minimal! We should be easily able to reproduce your code.\n",
    "# We only support sklearn and pytorch.\n",
    "import torchvision.datasets as datasets\n",
    "import torchvision.transforms as transforms\n",
    "import torch.utils.data as data\n",
    "\n",
    "# We preload pytorch as an example\n",
    "import torch\n",
    "import torch.nn as nn\n",
    "import torch.nn.functional as F\n",
    "import torch.optim as optim\n",
    "from torch.utils.data import DataLoader, Dataset, TensorDataset"
   ]
  },
  {
   "cell_type": "code",
   "execution_count": 3,
   "metadata": {
    "id": "GJZPEAWYMhYB"
   },
   "outputs": [],
   "source": [
    "compute_mode = 'cpu'\n",
    "\n",
    "if compute_mode == 'cpu':\n",
    "    device = torch.device('cpu')\n",
    "elif compute_mode == 'gpu':\n",
    "    # If you are using pytorch on the GPU cluster, you have to manually specify which GPU device to use\n",
    "    # It is extremely important that you *do not* spawn multi-GPU jobs.\n",
    "    os.environ[\"CUDA_VISIBLE_DEVICES\"] = '0'    # Set device ID here\n",
    "    device = torch.device('cuda')\n",
    "else:\n",
    "    raise ValueError('Unrecognized compute mode')"
   ]
  },
  {
   "cell_type": "markdown",
   "metadata": {
    "id": "nxi-lLD0mKHD"
   },
   "source": [
    "#### Helpers\n",
    "\n",
    "In case you choose to have some methods you plan to reuse during the notebook, define them here. This will avoid clutter and keep rest of the notebook succinct."
   ]
  },
  {
   "cell_type": "code",
   "execution_count": 4,
   "metadata": {
    "id": "VBbigqdEmKd8"
   },
   "outputs": [],
   "source": [
    "# get indices of first samples that match a desired label\n",
    "def getFirstPositionOfEachLabel(y, allLabels):\n",
    "    result = []\n",
    "    for i in allLabels:\n",
    "        labelPositions = np.argwhere(y.numpy() == i)\n",
    "        result.append(labelPositions[0][0].item())\n",
    "    return result\n",
    "\n",
    "def identity_func(foo):\n",
    "    return foo\n",
    "\n",
    "# wraps a separated dataset to avoid issues while shuffling\n",
    "class WrapperDataset(torch.utils.data.Dataset):\n",
    "    def __init__(self, x, y):\n",
    "        self.x = x\n",
    "        self.y = y\n",
    "\n",
    "    def __getitem__(self, index):\n",
    "        return self.x[index], self.y[index]\n",
    "\n",
    "    def __len__(self):\n",
    "        return len(self.y)\n",
    "\n",
    "# get the same batch split for inputs and labels\n",
    "def get_batched_x_y(x, y, batch_size, shuffle):\n",
    "    dataset = WrapperDataset(x, y)\n",
    "    batched = torch.utils.data.DataLoader(dataset, batch_size=batch_size, shuffle=shuffle)\n",
    "    return batched\n",
    "\n",
    "# You can use this function to flatten 2D inputs\n",
    "def flatten_input_pixels(x_input):\n",
    "    result = []\n",
    "    for i in range(len(x_input)):\n",
    "        result.append(x_input[i].flatten())\n",
    "    return np.array(result, np.uint8)  # [n_samples, n_features]\n"
   ]
  },
  {
   "cell_type": "markdown",
   "metadata": {
    "id": "n1pcmKkyjT7y"
   },
   "source": [
    "# 1. Attacking an ML-model\n",
    "\n",
    "In this section, we implement an attack ourselves. We then leverage the Foolbox library to craft adversarial examples. First, however, you need a model you can attack. Feel free to choose the DNN/ConvNN from project 1.\n",
    "\n",
    "Hint: you might want to save the trained model to save time later."
   ]
  },
  {
   "cell_type": "markdown",
   "metadata": {
    "id": "QaJv_d_Dp7OM"
   },
   "source": [
    "### 1.1.1: Setting up the model (5 Points)\n",
    "\n",
    "Re-use the model from project 1 here and train it until it achieves reasonable accuracy (>92%)."
   ]
  },
  {
   "cell_type": "code",
   "execution_count": 5,
   "metadata": {
    "id": "c688qdGtO1v-"
   },
   "outputs": [],
   "source": [
    "# (1)load data \n",
    "# (2)define model\n",
    "# (3)define loss, optimizer \n",
    "# (4)train (You can re-use the trained model from project1)\n",
    "# (5)evaluate"
   ]
  },
  {
   "cell_type": "markdown",
   "metadata": {
    "id": "R95ABwnnELCp"
   },
   "source": [
    "Same data loading as in Project 1. However, for the CNN we only need the non-flattened dataset. Thus, x is now three dimensional."
   ]
  },
  {
   "cell_type": "code",
   "execution_count": 6,
   "metadata": {
    "colab": {
     "base_uri": "https://localhost:8080/",
     "height": 440,
     "referenced_widgets": [
      "b439b8898f1a43ec8b6196618f32a5dd",
      "0397fffb6337468a8b681062dd9f14ce",
      "9ff83bf8b73c480c9862a370845197e8",
      "c6d71e3746fb496b82e091b3c2df6c4b",
      "d9f59e5d331e4e07a92aa16174ffd152",
      "c461d05e06474930bf8ce7d50522ece1",
      "f77a78dd435644f8b0b27abd81013e08",
      "e7592500eec94bb98a6c0b91a3d13d00",
      "5919c3eefd4b4817b6e404170897ea65",
      "f736d11dd0bc49cd98717589d0f7fba6",
      "02a2f47088984c2ab3f6ff391d3d1625",
      "9bc24ec6f7694b33978f51e8f2eaff11",
      "396e9e9f3cee4f9c9e502c9318725e92",
      "8328ffef738045cb9fe81df30c240398",
      "6c6e1791567b4df8930415cf3a5e7a0f",
      "74b88878de4c41f2a4a59fede864d70d",
      "1100aa0d5a03426285d902306202dd3d",
      "2215d9d885264a3684af6ac8b1fddf88",
      "6578dd51c7da48809557bdfdb94e7e45",
      "9027b088659442ae8e9c3d50e599acd4",
      "3e762e1338a24f268fa466015b50735a",
      "469a076893c74626a0d15c6e1901c3de",
      "ca249b13585a469ea28caa7b9d114815",
      "96677926c1424cc7abeb230ff667e365",
      "af8584119f084fd0b26a11aaa43e22ec",
      "a1e97ecc40c742898e87be81d195a18e",
      "627ba8b087bf4cfbbe4d3e5dbda17195",
      "d1d3630180d646a5a42947b50b2f70fd",
      "b0309c7ad25b43a7a207744f31ec861d",
      "e78b77137c254c8fafec991625d51a32",
      "78386976073f45ba8c3ecf0741dd12bf",
      "bc7367f561b74b969ba264c7f268c061"
     ]
    },
    "id": "tVdX_PeJELCq",
    "outputId": "a31fd516-44ad-4041-8cf3-97e9013dafd2"
   },
   "outputs": [
    {
     "name": "stdout",
     "output_type": "stream",
     "text": [
      "x_trainval.shape = torch.Size([60000, 28, 28]),  y_trainval.shape = torch.Size([60000])\n",
      "x_test.shape = torch.Size([10000, 28, 28]),  y_test.shape = torch.Size([10000])\n"
     ]
    }
   ],
   "source": [
    "# load the training set\n",
    "training_set = datasets.MNIST(root=\"\", train=True, download=True)\n",
    "x_trainval = training_set.data\n",
    "y_trainval = training_set.targets\n",
    "# load the test set\n",
    "test_set = datasets.MNIST(root=\"\", train=False, download=True)\n",
    "x_test = test_set.data\n",
    "y_test = test_set.targets\n",
    "\n",
    "print('x_trainval.shape = {},  y_trainval.shape = {}'.format(x_trainval.shape, y_trainval.shape))\n",
    "print('x_test.shape = {},  y_test.shape = {}'.format(x_test.shape, y_test.shape))"
   ]
  },
  {
   "cell_type": "markdown",
   "metadata": {
    "id": "jBKGWh-2ELCr"
   },
   "source": [
    "Like in Project 1 we next set the seed."
   ]
  },
  {
   "cell_type": "code",
   "execution_count": 7,
   "metadata": {
    "id": "uJkq68nJELCr"
   },
   "outputs": [],
   "source": [
    "# Please set random seed to have reproduceable results, e.g. torch.manual_seed(123)\n",
    "_ = np.random.seed(42)\n",
    "_ = torch.manual_seed(42)"
   ]
  },
  {
   "cell_type": "markdown",
   "metadata": {
    "id": "KSc9RQbPELCr"
   },
   "source": [
    "We also use the same normalization on the input images."
   ]
  },
  {
   "cell_type": "code",
   "execution_count": 8,
   "metadata": {
    "colab": {
     "base_uri": "https://localhost:8080/"
    },
    "id": "VYTof3x0ELCs",
    "outputId": "ce89d69d-5aa1-4eaa-991a-b2393e20266a"
   },
   "outputs": [
    {
     "name": "stdout",
     "output_type": "stream",
     "text": [
      "x_trainval: min tensor(0.) max tensor(1.)\n",
      "x_test: min tensor(0.) max tensor(1.)\n"
     ]
    }
   ],
   "source": [
    "# normalize inputs to interval [0, 1]\n",
    "x_trainval = x_trainval / torch.max(x_trainval)\n",
    "x_test = x_test / torch.max(x_test)\n",
    "\n",
    "print(\"x_trainval: min\", torch.min(x_trainval), \"max\", torch.max(x_trainval))\n",
    "print(\"x_test: min\", torch.min(x_test), \"max\", torch.max(x_test))"
   ]
  },
  {
   "cell_type": "markdown",
   "metadata": {
    "id": "F296VWF4ELCs"
   },
   "source": [
    "Now, we can define our model as in Project 1 and load its trained parameters."
   ]
  },
  {
   "cell_type": "code",
   "execution_count": 9,
   "metadata": {
    "id": "Z4pWnixPZn-I"
   },
   "outputs": [],
   "source": [
    "class Net(nn.Module):\n",
    "    def __init__(self):\n",
    "        super(Net, self).__init__()\n",
    "        self.conv1 = nn.Conv2d(1, 16, (3,3))\n",
    "        self.pool1 = nn.MaxPool2d((2,2))\n",
    "        self.conv2 = nn.Conv2d(16, 16, (3,3))\n",
    "        self.pool2 = nn.MaxPool2d((2,2))\n",
    "        self.linear1 = nn.Linear(400, 64)\n",
    "        self.linear2 = nn.Linear(64, 10)\n",
    "\n",
    "    def forward(self, x):\n",
    "        relu = nn.ReLU()\n",
    "        softmax = nn.Softmax(dim=1)\n",
    "        result = relu(self.conv1(x))\n",
    "        result = self.pool1(result)\n",
    "\n",
    "        result = relu(self.conv2(result))\n",
    "        result = self.pool2(result)\n",
    "\n",
    "        # flatten convolutional output\n",
    "        result = result.view(-1, 400)\n",
    "\n",
    "        result = relu(self.linear1(result))\n",
    "        result = softmax(self.linear2(result))\n",
    "\n",
    "        return result"
   ]
  },
  {
   "cell_type": "code",
   "execution_count": 10,
   "metadata": {
    "colab": {
     "base_uri": "https://localhost:8080/",
     "height": 344
    },
    "id": "XXVDX1_eELCu",
    "outputId": "67e0a19d-55e6-4801-912c-3c832bbc5c61"
   },
   "outputs": [
    {
     "data": {
      "text/plain": [
       "<All keys matched successfully>"
      ]
     },
     "execution_count": 10,
     "metadata": {},
     "output_type": "execute_result"
    }
   ],
   "source": [
    "model = Net()\n",
    "# load model to selected device\n",
    "model.load_state_dict(torch.load(\"model.pt\", map_location=device))"
   ]
  },
  {
   "cell_type": "markdown",
   "metadata": {
    "id": "R5eB4qgbELCv"
   },
   "source": [
    "Finally, we can evaluate the model on the test set."
   ]
  },
  {
   "cell_type": "code",
   "execution_count": 11,
   "metadata": {
    "id": "f8-DF67uELCv"
   },
   "outputs": [],
   "source": [
    "def getModelOutput(x, model):\n",
    "    # add channel dimension\n",
    "    myX = torch.unsqueeze(x, 1)\n",
    "    # move data to GPU\n",
    "    myX = myX.to(device)\n",
    "    # get CNN output\n",
    "    output = model(myX)\n",
    "    return output\n",
    "\n",
    "def predict(x, model):\n",
    "    output = getModelOutput(x, model)\n",
    "    # extract predictions as largest activation\n",
    "    predictions = torch.argmax(output, 1)\n",
    "    return predictions"
   ]
  },
  {
   "cell_type": "code",
   "execution_count": 12,
   "metadata": {
    "colab": {
     "base_uri": "https://localhost:8080/"
    },
    "id": "rpg-4d05ELCw",
    "outputId": "655581c6-d973-46c8-aa32-72c33a24cd29"
   },
   "outputs": [
    {
     "name": "stdout",
     "output_type": "stream",
     "text": [
      "Test accuracy of model is 98.29000234603882 %.\n"
     ]
    }
   ],
   "source": [
    "predictions = predict(x_test, model)\n",
    "testAccuracy = torch.sum(predictions == y_test) / len(y_test)\n",
    "print(\"Test accuracy of model is\", testAccuracy.item() * 100, \"%.\")"
   ]
  },
  {
   "cell_type": "markdown",
   "metadata": {
    "id": "55cjdQmdELCw"
   },
   "source": [
    "As required it has an accuracy >92%. Interestingly, this accuracy is also significantly higher than the one reported in Project 1. This is due to an error made in the calculation. In Project 1 the accuracy was only calculated before each epoch to also show the model's initial (random) performance. Therefore, the reported accuracy was the one before the last epoch and not after the last epoch."
   ]
  },
  {
   "cell_type": "markdown",
   "metadata": {
    "id": "DEQrdyLHsUIu"
   },
   "source": [
    "### 1.1.2: Implementing an attack (15 Points)\n",
    "\n",
    "We now want you to attack the model trained in the previous step. Please implement the FGSM attack mentioned in the lecture. "
   ]
  },
  {
   "cell_type": "markdown",
   "metadata": {
    "id": "85--4sWlELCy"
   },
   "source": [
    "First we need to define the loss that we used in model training in Project 1."
   ]
  },
  {
   "cell_type": "code",
   "execution_count": 13,
   "metadata": {
    "id": "mJ6v9lFPELCy"
   },
   "outputs": [],
   "source": [
    "loss_function = nn.CrossEntropyLoss()"
   ]
  },
  {
   "cell_type": "code",
   "execution_count": 14,
   "metadata": {
    "id": "gcVZnUNbRKOz"
   },
   "outputs": [],
   "source": [
    "def fastGradientSign(x, y, model, loss_function, epsilon, training = False):\n",
    "    # enable gradient calculation with respect to x\n",
    "    x.requires_grad = True\n",
    "    # get model outputs\n",
    "    if training:\n",
    "        output = model(x)\n",
    "    else: \n",
    "        output = getModelOutput(x, model)\n",
    "    # calculate current loss\n",
    "    loss = loss_function(output, y)\n",
    "    # calcualte the gradient\n",
    "    loss.backward()\n",
    "    # use FGSM formula\n",
    "    modifiedX = x + epsilon * torch.sign(x.grad)\n",
    "    # disable gradient calculation with respect to x\n",
    "    x.requires_grad = False\n",
    "    return modifiedX.detach() # disable differentiation for result"
   ]
  },
  {
   "cell_type": "markdown",
   "metadata": {
    "id": "RNpI3oUoO1wE"
   },
   "source": [
    "### 1.1.3: adversarial sample set (5 Points)\n",
    "\n",
    "Please additionally generate a dataset containing at least 1,000 adversarial examples using FGSM."
   ]
  },
  {
   "cell_type": "markdown",
   "metadata": {
    "id": "2IYY2IeWELCz"
   },
   "source": [
    "First, we investigate how wrong the model is on the adversarial examples for different epsilon values."
   ]
  },
  {
   "cell_type": "code",
   "execution_count": 15,
   "metadata": {
    "id": "0nHhD5WmELCz"
   },
   "outputs": [],
   "source": [
    "epsilons = [0.001, 0.005, 0.01, 0.05, 0.1, 0.5, 1]\n",
    "accuracies = []\n",
    "for e in epsilons:\n",
    "    adversarialExamples = fastGradientSign(x_test, y_test, model, loss_function, epsilon=e)\n",
    "    predictions = predict(adversarialExamples, model)\n",
    "    testAccuracy = torch.sum(predictions == y_test) / len(y_test)\n",
    "    accuracies.append(testAccuracy)"
   ]
  },
  {
   "cell_type": "code",
   "execution_count": 16,
   "metadata": {
    "colab": {
     "base_uri": "https://localhost:8080/",
     "height": 501
    },
    "id": "1HWkzMa3ELC0",
    "outputId": "d32e1423-bec8-4613-bf73-7be6401f4604"
   },
   "outputs": [
    {
     "data": {
      "image/png": "[encoded data removed]",
      "text/plain": [
       "<Figure size 720x576 with 1 Axes>"
      ]
     },
     "metadata": {
      "needs_background": "light"
     },
     "output_type": "display_data"
    }
   ],
   "source": [
    "plt.plot(epsilons, accuracies)\n",
    "plt.plot(epsilons[-3], accuracies[-3], marker=\"o\", markersize=12)\n",
    "plt.xscale(\"log\")\n",
    "plt.xlabel(\"epsilon\")\n",
    "plt.ylabel(\"accuracy\")\n",
    "plt.show()"
   ]
  },
  {
   "cell_type": "markdown",
   "metadata": {
    "id": "e9PeLukiELC0"
   },
   "source": [
    "We see that for epsilon=0.1 we have a decent accuracy decrease while this value is still not too obvious. Because of that we will use the examples for epsilon=0.1 in the following."
   ]
  },
  {
   "cell_type": "code",
   "execution_count": 17,
   "metadata": {
    "id": "EvYpo9p2O1wF"
   },
   "outputs": [
    {
     "name": "stdout",
     "output_type": "stream",
     "text": [
      "Wall time: 3.22 s\n"
     ]
    }
   ],
   "source": [
    "%%time\n",
    "adversarialExamples = fastGradientSign(x_test, y_test, model, loss_function, epsilon=0.1)"
   ]
  },
  {
   "cell_type": "code",
   "execution_count": 18,
   "metadata": {
    "colab": {
     "base_uri": "https://localhost:8080/"
    },
    "id": "2AfS9zhpELC1",
    "outputId": "f1b6a191-2b9e-4315-eb47-bb447c0c8b7a"
   },
   "outputs": [
    {
     "name": "stdout",
     "output_type": "stream",
     "text": [
      "The accuracy of the model for these examples is: 0.74\n"
     ]
    }
   ],
   "source": [
    "acc_FGSM = accuracies[-3]\n",
    "print(\"The accuracy of the model for these examples is: %.2f\"%acc_FGSM)"
   ]
  },
  {
   "cell_type": "markdown",
   "metadata": {
    "id": "Ex3qQp3JolD1"
   },
   "source": [
    "### 1.1.4: Visualizing the results (5 Points)\n",
    "\n",
    "Please chose one sample for each class (for example the first when iterating the test data) and plot the (ten) adversarial examples as well as the predicted label (before and after the attack)"
   ]
  },
  {
   "cell_type": "code",
   "execution_count": 19,
   "metadata": {},
   "outputs": [],
   "source": [
    "def printColumn(x, y, column, title, clipRange, axis):\n",
    "    axis[0][2*column].set_title(title)\n",
    "    for i in range(len(y)):\n",
    "        if clipRange:\n",
    "            axis[i][2*column].imshow(torch.squeeze(x[i]), vmin=0, vmax=1)\n",
    "        else:\n",
    "            axis[i][2*column].imshow(torch.squeeze(x[i]))\n",
    "        axis[i][2*column].axis(\"off\")\n",
    "        axis[i][2*column+1].text(-0.5, 0.5, \"Prediction:\" + str(y[i].item()), fontsize=12)\n",
    "        axis[i][2*column+1].axis(\"off\")"
   ]
  },
  {
   "cell_type": "code",
   "execution_count": 20,
   "metadata": {},
   "outputs": [],
   "source": [
    "def printImageExamples(imageSets, names, clipRanges, axis):\n",
    "    # filter samples for print\n",
    "    printIndices = getFirstPositionOfEachLabel(y_test, np.arange(10))\n",
    "    for i, (name, images, clipRange) in enumerate(zip(names, imageSets, clipRanges)):\n",
    "        xPrint = images[printIndices]\n",
    "        yPrint = predict(xPrint, model)\n",
    "        printColumn(xPrint, yPrint, i, name, clipRange, axis)"
   ]
  },
  {
   "cell_type": "code",
   "execution_count": 21,
   "metadata": {
    "colab": {
     "base_uri": "https://localhost:8080/",
     "height": 585
    },
    "id": "eGkp0B0PO1wJ",
    "outputId": "4d850c93-01af-428e-c34b-7458fc6902a4"
   },
   "outputs": [
    {
     "data": {
      "image/png": "[encoded data removed]",
      "text/plain": [
       "<Figure size 720x576 with 40 Axes>"
      ]
     },
     "metadata": {
      "needs_background": "light"
     },
     "output_type": "display_data"
    }
   ],
   "source": [
    "printImages = [x_test, adversarialExamples]\n",
    "printImagesNames = [\"Original images\", \"Adversary images\"]\n",
    "clipRanges = [False, False]\n",
    "\n",
    "fig,ax = plt.subplots(nrows = 10, ncols = 4)\n",
    "printImageExamples(printImages, printImagesNames, clipRanges, ax)\n",
    "fig.tight_layout()\n",
    "plt.show()"
   ]
  },
  {
   "cell_type": "markdown",
   "metadata": {
    "id": "pNHD2kmtELC2"
   },
   "source": [
    "The above plot shows some examples of misclassifications even though a human can still easily detect the digits. However, a human is definitely also able to see that the images have been modified."
   ]
  },
  {
   "cell_type": "markdown",
   "metadata": {
    "id": "iPB-GK1CymiV"
   },
   "source": [
    "### 1.2.1: Using libraries for attacks (10 Points)\n",
    "As the field of evasion attacks (in particular for DNN) is very active research field, several libraries have been published that contain attacks. We will work here with the Foolbox (https://github.com/bethgelab/foolbox) library. Please implement two other (recent, advanced) attacks of your choice using this library. "
   ]
  },
  {
   "cell_type": "code",
   "execution_count": 22,
   "metadata": {
    "id": "pa6rPT53LUW8"
   },
   "outputs": [],
   "source": [
    "import foolbox.attacks as attacks\n",
    "from foolbox import PyTorchModel\n",
    "from foolbox.distances import LpDistance\n",
    "\n",
    "# change to evaluation mode to make model deterministic\n",
    "model.eval()\n",
    "# create model for foolbox library\n",
    "foolModel = PyTorchModel(model, bounds=(0,1), device=device)\n",
    "# use smaller set for foolbox pertubations to have better performance\n",
    "pertub_samples = 2000\n",
    "x_test_pertub = x_test[:pertub_samples]\n",
    "y_test_pertub = y_test[:pertub_samples]"
   ]
  },
  {
   "cell_type": "markdown",
   "metadata": {
    "id": "VdsuMfgPELC3"
   },
   "source": [
    "#### Attack 1: Spatial\n",
    "\n",
    "For the first attack we decided to use the spatial attack which tries to rotate and translate input images to achieve a misclassification. This seemed applicable and interesting since these are basic image transformations that could also be achieved in the real world. We also chose to use its default transformation boundaries of 30 degree rotation and 3 pixel translation since these are still reasonably correctable by humans."
   ]
  },
  {
   "cell_type": "code",
   "execution_count": 23,
   "metadata": {
    "colab": {
     "base_uri": "https://localhost:8080/"
    },
    "id": "LMBoze6WELC3",
    "outputId": "c99d7842-f6d6-4e25-f4b3-2de15046fd05"
   },
   "outputs": [
    {
     "name": "stdout",
     "output_type": "stream",
     "text": [
      "Success rate for spatial attack is 100.0 %\n",
      "Wall time: 32.2 s\n"
     ]
    }
   ],
   "source": [
    "%%time\n",
    "# (a) attack 1\n",
    "spatialAttack = attacks.SpatialAttack()\n",
    "xSpatial, _, success = spatialAttack(foolModel, torch.unsqueeze(x_test_pertub, 1), y_test_pertub)\n",
    "successRate = np.count_nonzero(success.cpu().numpy()) / len(success) * 100\n",
    "print(\"Success rate for spatial attack is\", successRate, \"%\")"
   ]
  },
  {
   "cell_type": "code",
   "execution_count": 24,
   "metadata": {
    "colab": {
     "base_uri": "https://localhost:8080/"
    },
    "id": "NDPPQdvvELC3",
    "outputId": "68acab7e-f50f-43c7-b285-927a3c170cad"
   },
   "outputs": [
    {
     "name": "stdout",
     "output_type": "stream",
     "text": [
      "Test accuracy of model was 97.54999876022339 %.\n"
     ]
    }
   ],
   "source": [
    "predictions = predict(x_test_pertub, model)\n",
    "testAccuracy = torch.sum(predictions == y_test_pertub) / len(y_test_pertub)\n",
    "print(\"Test accuracy of model was\", testAccuracy.item() * 100, \"%.\")"
   ]
  },
  {
   "cell_type": "code",
   "execution_count": 25,
   "metadata": {
    "colab": {
     "base_uri": "https://localhost:8080/"
    },
    "id": "HXyg0KdOELC4",
    "outputId": "d00b3efe-9070-434c-8f52-d0cc122ab9c1"
   },
   "outputs": [
    {
     "name": "stdout",
     "output_type": "stream",
     "text": [
      "Test accuracy of model after pertubations is 0.0 %.\n"
     ]
    }
   ],
   "source": [
    "predictions = predict(torch.squeeze(xSpatial, dim=1), model)\n",
    "testAccuracy = torch.sum(predictions == y_test_pertub) / len(y_test_pertub)\n",
    "print(\"Test accuracy of model after pertubations is\", testAccuracy.item() * 100, \"%.\")"
   ]
  },
  {
   "cell_type": "markdown",
   "metadata": {
    "id": "vdISnbs3ELC4"
   },
   "source": [
    "#### Attack 2: Contrast\n",
    "\n",
    "As another basic image transformation we chose the contrast reduction attack since image contrast can easily be influenced in the real world by e.g. lighting. Moreover, we decided to not limit the amount of allowed contrast reduction to investigate how radical the reduction has to be in order to achieve a misclassification."
   ]
  },
  {
   "cell_type": "code",
   "execution_count": 26,
   "metadata": {
    "colab": {
     "base_uri": "https://localhost:8080/"
    },
    "id": "zJVHWOQxELC4",
    "outputId": "62163a4c-e99c-44dc-99fe-4c51e3017f98"
   },
   "outputs": [
    {
     "name": "stdout",
     "output_type": "stream",
     "text": [
      "Success rate for contrast attack is 91.60000000000001 %\n",
      "Wall time: 3.95 s\n"
     ]
    }
   ],
   "source": [
    "%%time\n",
    "# (b) attack 2\n",
    "distance = LpDistance(p=2)\n",
    "contrastAttack = attacks.BinarySearchContrastReductionAttack(distance=distance)\n",
    "xContrast, _, success = contrastAttack(foolModel, torch.unsqueeze(x_test_pertub, 1),\n",
    "                                       y_test_pertub, epsilons=None)\n",
    "successRate = np.count_nonzero(success.cpu().numpy()) / len(success) * 100\n",
    "print(\"Success rate for contrast attack is\", successRate, \"%\")"
   ]
  },
  {
   "cell_type": "code",
   "execution_count": 27,
   "metadata": {
    "colab": {
     "base_uri": "https://localhost:8080/"
    },
    "id": "7kCXmatQELC5",
    "outputId": "d9bc59ba-af1e-48aa-d3a9-c86bf20a5564"
   },
   "outputs": [
    {
     "name": "stdout",
     "output_type": "stream",
     "text": [
      "Test accuracy of model was 97.54999876022339 %.\n"
     ]
    }
   ],
   "source": [
    "predictions = predict(x_test_pertub, model)\n",
    "testAccuracy = torch.sum(predictions == y_test_pertub) / len(y_test_pertub)\n",
    "print(\"Test accuracy of model was\", testAccuracy.item() * 100, \"%.\")"
   ]
  },
  {
   "cell_type": "code",
   "execution_count": 28,
   "metadata": {
    "colab": {
     "base_uri": "https://localhost:8080/"
    },
    "id": "DTtkyP6uELC5",
    "outputId": "0ee3b7c4-7c83-4e85-83e9-b83ce58360b6"
   },
   "outputs": [
    {
     "name": "stdout",
     "output_type": "stream",
     "text": [
      "Test accuracy of model after pertubations is 8.399999886751175 %.\n"
     ]
    }
   ],
   "source": [
    "predictions = predict(torch.squeeze(xContrast, dim=1), model)\n",
    "testAccuracy = torch.sum(predictions == y_test_pertub) / len(y_test_pertub)\n",
    "print(\"Test accuracy of model after pertubations is\", testAccuracy.item() * 100, \"%.\")"
   ]
  },
  {
   "cell_type": "markdown",
   "metadata": {
    "id": "xVH821TOymic"
   },
   "source": [
    "### 1.2.2: Visualizing the results (20 Points)\n",
    "As before, please plot the new adversarial examples. Compare all crafting techniques (FGSM, 2 methods from Foolbox).\n"
   ]
  },
  {
   "cell_type": "code",
   "execution_count": 29,
   "metadata": {
    "colab": {
     "base_uri": "https://localhost:8080/",
     "height": 582
    },
    "id": "69nc8PMRymid",
    "outputId": "9a2c6e5b-f2e4-4b46-fc20-f5a5c2d78327"
   },
   "outputs": [
    {
     "data": {
      "image/png": "[encoded data removed]",
      "text/plain": [
       "<Figure size 720x576 with 80 Axes>"
      ]
     },
     "metadata": {
      "needs_background": "light"
     },
     "output_type": "display_data"
    }
   ],
   "source": [
    "printImages = [x_test, adversarialExamples, torch.squeeze(xSpatial), torch.squeeze(xContrast)]\n",
    "printImagesNames = [\"Ori\", \"FGSM\", \"Spatial Attack\", \"Contrast Attack\"]\n",
    "clipRanges = [False, False, False, True]\n",
    "\n",
    "fig,ax = plt.subplots(nrows = 10, ncols = 8)\n",
    "printImageExamples(printImages, printImagesNames, clipRanges, ax)\n",
    "fig.tight_layout()\n",
    "plt.show()"
   ]
  },
  {
   "cell_type": "code",
   "execution_count": 30,
   "metadata": {},
   "outputs": [],
   "source": [
    "# get input vector differences\n",
    "fgsmDiff = torch.reshape(x_test - adversarialExamples, (-1, 28*28))\n",
    "spatialDiff = torch.reshape(x_test[:pertub_samples] - torch.squeeze(xSpatial), (-1, 28*28))\n",
    "contrastDiff = torch.reshape(x_test[:pertub_samples] - torch.squeeze(xContrast), (-1, 28*28))\n",
    "# calculate norms of differences\n",
    "diffs = [fgsmDiff, spatialDiff, contrastDiff]\n",
    "norms = []\n",
    "for diff in diffs:\n",
    "    l0 = torch.norm(diff, p=0, dim=1)\n",
    "    l2 = torch.norm(diff, p=2, dim=1)\n",
    "    linf = torch.norm(diff, p=float('inf'), dim=1)\n",
    "    norms.append([l0, l2, linf])\n",
    "# get statistics about norms\n",
    "meanNorms = [[torch.mean(x).item() for x in y] for y in norms]\n",
    "maxNorms = [[torch.max(x).item() for x in y] for y in norms]"
   ]
  },
  {
   "cell_type": "code",
   "execution_count": 31,
   "metadata": {},
   "outputs": [],
   "source": [
    "index = [\"L0\", \"L2\", \"Linf\"]\n",
    "columns = [\"FGSM\", \"Spatial\", \"Contrast\"]"
   ]
  },
  {
   "cell_type": "code",
   "execution_count": 32,
   "metadata": {},
   "outputs": [
    {
     "name": "stdout",
     "output_type": "stream",
     "text": [
      "Mean norms\n"
     ]
    },
    {
     "data": {
      "text/html": [
       "<div>\n",
       "<style scoped>\n",
       "    .dataframe tbody tr th:only-of-type {\n",
       "        vertical-align: middle;\n",
       "    }\n",
       "\n",
       "    .dataframe tbody tr th {\n",
       "        vertical-align: top;\n",
       "    }\n",
       "\n",
       "    .dataframe thead th {\n",
       "        text-align: right;\n",
       "    }\n",
       "</style>\n",
       "<table border=\"1\" class=\"dataframe\">\n",
       "  <thead>\n",
       "    <tr style=\"text-align: right;\">\n",
       "      <th></th>\n",
       "      <th>FGSM</th>\n",
       "      <th>Spatial</th>\n",
       "      <th>Contrast</th>\n",
       "    </tr>\n",
       "  </thead>\n",
       "  <tbody>\n",
       "    <tr>\n",
       "      <th>L0</th>\n",
       "      <td>591.064575</td>\n",
       "      <td>2.430669</td>\n",
       "      <td>0.100000</td>\n",
       "    </tr>\n",
       "    <tr>\n",
       "      <th>L2</th>\n",
       "      <td>245.425003</td>\n",
       "      <td>9.491382</td>\n",
       "      <td>0.973819</td>\n",
       "    </tr>\n",
       "    <tr>\n",
       "      <th>Linf</th>\n",
       "      <td>764.791992</td>\n",
       "      <td>10.492222</td>\n",
       "      <td>0.389181</td>\n",
       "    </tr>\n",
       "  </tbody>\n",
       "</table>\n",
       "</div>"
      ],
      "text/plain": [
       "            FGSM    Spatial  Contrast\n",
       "L0    591.064575   2.430669  0.100000\n",
       "L2    245.425003   9.491382  0.973819\n",
       "Linf  764.791992  10.492222  0.389181"
      ]
     },
     "execution_count": 32,
     "metadata": {},
     "output_type": "execute_result"
    }
   ],
   "source": [
    "print(\"Mean norms\")\n",
    "pd.DataFrame(meanNorms, index=index, columns=columns)"
   ]
  },
  {
   "cell_type": "code",
   "execution_count": 33,
   "metadata": {},
   "outputs": [
    {
     "name": "stdout",
     "output_type": "stream",
     "text": [
      "Max norms\n"
     ]
    },
    {
     "data": {
      "text/html": [
       "<div>\n",
       "<style scoped>\n",
       "    .dataframe tbody tr th:only-of-type {\n",
       "        vertical-align: middle;\n",
       "    }\n",
       "\n",
       "    .dataframe tbody tr th {\n",
       "        vertical-align: top;\n",
       "    }\n",
       "\n",
       "    .dataframe thead th {\n",
       "        text-align: right;\n",
       "    }\n",
       "</style>\n",
       "<table border=\"1\" class=\"dataframe\">\n",
       "  <thead>\n",
       "    <tr style=\"text-align: right;\">\n",
       "      <th></th>\n",
       "      <th>FGSM</th>\n",
       "      <th>Spatial</th>\n",
       "      <th>Contrast</th>\n",
       "    </tr>\n",
       "  </thead>\n",
       "  <tbody>\n",
       "    <tr>\n",
       "      <th>L0</th>\n",
       "      <td>665.0</td>\n",
       "      <td>2.578770</td>\n",
       "      <td>0.1</td>\n",
       "    </tr>\n",
       "    <tr>\n",
       "      <th>L2</th>\n",
       "      <td>414.0</td>\n",
       "      <td>14.316476</td>\n",
       "      <td>1.0</td>\n",
       "    </tr>\n",
       "    <tr>\n",
       "      <th>Linf</th>\n",
       "      <td>784.0</td>\n",
       "      <td>13.703956</td>\n",
       "      <td>0.5</td>\n",
       "    </tr>\n",
       "  </tbody>\n",
       "</table>\n",
       "</div>"
      ],
      "text/plain": [
       "       FGSM    Spatial  Contrast\n",
       "L0    665.0   2.578770       0.1\n",
       "L2    414.0  14.316476       1.0\n",
       "Linf  784.0  13.703956       0.5"
      ]
     },
     "execution_count": 33,
     "metadata": {},
     "output_type": "execute_result"
    }
   ],
   "source": [
    "print(\"Max norms\")\n",
    "pd.DataFrame(maxNorms, index=index, columns=columns)"
   ]
  },
  {
   "cell_type": "markdown",
   "metadata": {
    "id": "m6HxYLl3O1wV"
   },
   "source": [
    "Which differences do you observe when comparing different attack methods? Why?   \n",
    "Please write a brief summary of your findings.   \n",
    "* Does the attack always succeed (the model make wrong prediction on the adversarial sample)?\n",
    "\n",
    "* How different is the adversarial sample from the original image? (L0,L2,Linf norm)\n",
    "\n",
    "* How about the computation cost of each attack method?\n",
    "\n",
    "* Does the attack require white-box access to the model?\n"
   ]
  },
  {
   "cell_type": "markdown",
   "metadata": {},
   "source": [
    "We saw that the FGSM attack with the choice of epsilon=0.1 only succeeded on roughly 24% of the samples. In contrast to that the spatial attack was always successful and the contrast attack had a 91.6% success rate. Thus, we see that the more advanced attacks from foolbox are far more sucessful.\n",
    "\n",
    "In terms of vector norms we see in the tables above that the FGSM samples differ most from the original ones with respect to all norms. The second largest but already significantly smaller norm differences are given by the spatial attack followed by the smallest difference norms for the contrast attack. This is probably due to the fact that the simple FGSM does not preserve the valid value range $[0,1]$ since it only takes an epsilon-sized sign-gradient step. Thus, FGSM can be quite easily automatically detected.\n",
    "\n",
    "Furthermore, the visual differences in the figure above show that FGSM only seems to add some sort of visual noise to the samples but they are still very well readable by a human. This is also true for the spatial attack since it only slightly translates or rotates the digits. For the contrast attack many digits are also still readable but the modified 0, 4 and 6 are basically plain grey images.\n",
    "\n",
    "The computational cost of FGSM is very low due to its simplicity and thus we could also run it on all of the test set. Both of the foolbox methods take a significantly longer time which is why we only applied them to 2000 samples. From the output above we see that the spatial attack despite only using $\\frac{1}{5}$ of the dataset needed about 10 times as much compuation time as FGSM. The computational time for the contrast attack was very similar to FGSM but again only using $\\frac{1}{5}$ of the dataset.\n",
    "\n",
    "Since the gradient is used in FGSM it needs whitebox access. In contrast to that the spatial attack only performs a grid search on rotations and translations and can thus work with a blackbox model. Similarly the contrast attack reduces the contrast in a binary search without any knowledge of the model gradient and thus works with a blackbox model.\n",
    "\n",
    "We can summarize the above in the following table:\n",
    "\n",
    "| Method | Success rate | Norm detectability | Human detectability | Speed | white-box? |\n",
    "| ------ | ------------ | ------------------ | ------------------- | ----- | ---------- |\n",
    "| FGSM | medium | high | low | high | yes |\n",
    "| Spatial | very high | medium | low | low | no |\n",
    "| Contrast | high | low | high | medium | no |"
   ]
  },
  {
   "cell_type": "markdown",
   "metadata": {
    "id": "KJUmrv5Bymij"
   },
   "source": [
    "# 2. Defending an ML model\n",
    "\n",
    "So far, we have focused on attacking an ML model. In this section, we want you to defend your model. As before concerning the attack, you can chose an example from the lecture, or experiment with any idea you have.\n",
    "\n",
    "We do not require the defense to work perfectly - but what we want you to understand is why it works or why it does not work."
   ]
  },
  {
   "cell_type": "markdown",
   "metadata": {
    "id": "0gHUFK6Mymik"
   },
   "source": [
    "### 2.1: Implementing a defense of your choice (25 Points)\n",
    "As stated before, feel free to implement a defense or mitigation of your choice. Evaluate the defense on adversarial examples. This entails at least the 1,000 examples crafted from FGSM.   \n",
    "Also, you are encouraged (optional) to defend against the two other attack methods, i.e. you are free to increase this special test set (for example by >30 examples (>10 from your FGSM attack, >10 from both the two other attacks of the library))."
   ]
  },
  {
   "cell_type": "markdown",
   "metadata": {},
   "source": [
    "### Defense against FGSM"
   ]
  },
  {
   "cell_type": "code",
   "execution_count": 34,
   "metadata": {
    "id": "T5zybFIQ4ZZq"
   },
   "outputs": [],
   "source": [
    "batch_size_train = 64\n",
    "batch_size_test = 256\n",
    "n_epochs = 6\n",
    "learning_rate = 0.001\n",
    "betas = (0.9, 0.999)"
   ]
  },
  {
   "cell_type": "code",
   "execution_count": 35,
   "metadata": {
    "id": "qZA42wj9ELC7"
   },
   "outputs": [],
   "source": [
    "def adversarial_train(x, y, x_eval, y_eval, model, epochs, batch_size, loss_function, optimizer):\n",
    "    clean_accuracies = []\n",
    "    adv_accuracies = []\n",
    "    clean_losses = []\n",
    "    adv_losses = []\n",
    "    \n",
    "    for epoch in range(epochs):\n",
    "        # take record of current performance\n",
    "        clean_accuracy, clean_loss = test(x, y, model, 256, loss_function)     \n",
    "        adv_accuracy, adv_loss = test(x_eval, y_eval, model, 256, loss_function)\n",
    "        print(\"Clean Accuracy:\", clean_accuracy, \"Clean Loss:\", clean_loss)\n",
    "        print(\"Adv Accuracy:\", adv_accuracy, \"Adv Loss:\", adv_loss)\n",
    "        clean_accuracies.append(clean_accuracy)\n",
    "        adv_accuracies.append(adv_accuracy)\n",
    "        clean_losses.append(clean_loss)\n",
    "        adv_losses.append(adv_loss)\n",
    "        # shuffle and batch the data set\n",
    "        batched = get_batched_x_y(x, y, batch_size, True)\n",
    "        for xi, yi in batched:\n",
    "            # add channel dimension to xi (only one grayscale channel)\n",
    "            xi = torch.unsqueeze(xi, 1)\n",
    "            # move data to device\n",
    "            xi = xi.to(device)\n",
    "            yi = yi.to(device)\n",
    "            # reset previous gradients\n",
    "            optimizer.zero_grad()\n",
    "            # forward pass through CNN\n",
    "            output = model(xi)\n",
    "            # calculate current loss of CNN\n",
    "            loss = loss_function(output, yi)\n",
    "            # backprop\n",
    "            loss.backward()\n",
    "            # take optimization step\n",
    "            optimizer.step()\n",
    "            \n",
    "            #adversarial training\n",
    "            xi = fastGradientSign(xi, yi, model, loss_function, epsilon=0.1, training = True)\n",
    "            xi = xi.to(device)\n",
    "            yi = yi.to(device)\n",
    "            optimizer.zero_grad()\n",
    "            output = model(xi)\n",
    "            loss = loss_function(output, yi)\n",
    "            loss.backward()\n",
    "            optimizer.step()\n",
    "            \n",
    "    return accuracies, clean_losses"
   ]
  },
  {
   "cell_type": "code",
   "execution_count": 36,
   "metadata": {
    "id": "teI3kJ8rELC7"
   },
   "outputs": [],
   "source": [
    "def test(x, y, model, batch_size, loss_function):\n",
    "    averageLoss = 0.0\n",
    "    averageAccuracy = 0.0\n",
    "    numBatches = 0\n",
    "    # batch the data set\n",
    "    batched = get_batched_x_y(x, y, batch_size, False)\n",
    "    for xi, yi in batched:\n",
    "        # add channel dimension to xi (only one grayscale channel)\n",
    "        xi = torch.unsqueeze(xi, 1)\n",
    "        # move data to device\n",
    "        xi = xi.to(device)\n",
    "        yi = yi.to(device)\n",
    "        # forward pass through CNN\n",
    "        output = model(xi)\n",
    "        # calculate current loss of CNN\n",
    "        loss = loss_function(output, yi)\n",
    "        # calculate accuracy\n",
    "        predicted = torch.argmax(output, 1)\n",
    "        matches = yi == predicted\n",
    "        accuracy = matches.sum() / batch_size\n",
    "        # record all values\n",
    "        averageAccuracy += accuracy.item()\n",
    "        averageLoss += loss.item()\n",
    "        numBatches += 1\n",
    "    averageAccuracy /= numBatches\n",
    "    averageLoss /= numBatches\n",
    "    return averageAccuracy, averageLoss"
   ]
  },
  {
   "cell_type": "code",
   "execution_count": 37,
   "metadata": {
    "id": "iB7ibSl4ELC8",
    "outputId": "b9b5bd08-dda1-4490-e011-a4579a6ef87f"
   },
   "outputs": [
    {
     "name": "stdout",
     "output_type": "stream",
     "text": [
      "Clean Accuracy: 0.9811336436170213 Clean Loss: 1.478134466739411\n",
      "Adv Accuracy: 0.72529296875 Adv Loss: 1.7140396177768706\n",
      "Clean Accuracy: 0.9786569148936171 Clean Loss: 1.48016614000848\n",
      "Adv Accuracy: 0.89296875 Adv Loss: 1.5454252660274506\n",
      "Clean Accuracy: 0.9796875 Clean Loss: 1.4790856894026412\n",
      "Adv Accuracy: 0.90302734375 Adv Loss: 1.534730890393257\n",
      "Clean Accuracy: 0.9817320478723405 Clean Loss: 1.4769609689712524\n",
      "Adv Accuracy: 0.91083984375 Adv Loss: 1.5266834288835525\n",
      "Clean Accuracy: 0.9841755319148936 Clean Loss: 1.4744181379358818\n",
      "Adv Accuracy: 0.921875 Adv Loss: 1.5166279166936874\n",
      "Clean Accuracy: 0.9843417553191489 Clean Loss: 1.4741468576674766\n",
      "Adv Accuracy: 0.92255859375 Adv Loss: 1.5154702574014665\n"
     ]
    }
   ],
   "source": [
    "optimizer = torch.optim.Adam(model.parameters(), lr=learning_rate, betas=betas)\n",
    "accuracies, losses = adversarial_train(x_trainval, y_trainval, adversarialExamples, y_test, model, n_epochs, batch_size_train, nn.CrossEntropyLoss(), optimizer)\n"
   ]
  },
  {
   "cell_type": "code",
   "execution_count": 38,
   "metadata": {
    "id": "OwgNDmil4ZZq"
   },
   "outputs": [],
   "source": [
    "acc_FGSM_defend, _= test(adversarialExamples, y_test, model, batch_size_test, nn.CrossEntropyLoss())\n",
    "acc_clean, _ = test(x_test, y_test, model, batch_size_test, nn.CrossEntropyLoss())\n",
    "acc_spatial, _= test(torch.squeeze(xSpatial, dim=1), y_test_pertub, model, batch_size_test, nn.CrossEntropyLoss())\n",
    "acc_contrast, _= test(torch.squeeze(xContrast, dim=1), y_test_pertub, model, batch_size_test, nn.CrossEntropyLoss())"
   ]
  },
  {
   "cell_type": "markdown",
   "metadata": {},
   "source": [
    "#### Results of FGSM defense"
   ]
  },
  {
   "cell_type": "code",
   "execution_count": 39,
   "metadata": {
    "id": "DD0UalSeymim",
    "outputId": "ad0d213b-e751-4de8-f7cb-60de7623de33",
    "scrolled": true
   },
   "outputs": [
    {
     "name": "stdout",
     "output_type": "stream",
     "text": [
      "x_trainval.shape = torch.Size([60000, 28, 28]),  y_trainval.shape = torch.Size([60000])\n",
      "x_test.shape = torch.Size([10000, 28, 28]),  y_test.shape = torch.Size([10000])\n",
      "Accuracy on adversarial samples (FGSM): 0.74\n",
      "Accuracy on adversarial samples (FGSM) after defense: 0.92\n",
      "Accuracy on clean test samples after defense: 0.96\n",
      "Accuracy on spatial attack test samples after defense: 0.17\n",
      "Accuracy on contrast attack test samples after defense: 0.36\n"
     ]
    }
   ],
   "source": [
    "\n",
    "print('x_trainval.shape = {},  y_trainval.shape = {}'.format(x_trainval.shape, y_trainval.shape))\n",
    "print('x_test.shape = {},  y_test.shape = {}'.format(x_test.shape, y_test.shape))\n",
    "print('Accuracy on adversarial samples (FGSM): %.2f'%acc_FGSM)\n",
    "print('Accuracy on adversarial samples (FGSM) after defense: %.2f'%acc_FGSM_defend)\n",
    "print('Accuracy on clean test samples after defense: %.2f'%acc_clean)\n",
    "print('Accuracy on spatial attack test samples after defense: %.2f'%acc_spatial)\n",
    "print('Accuracy on contrast attack test samples after defense: %.2f'%acc_contrast)"
   ]
  },
  {
   "cell_type": "markdown",
   "metadata": {
    "id": "Oi24_ADy4ZZr"
   },
   "source": [
    "### Attempt at rotation defense"
   ]
  },
  {
   "cell_type": "code",
   "execution_count": null,
   "metadata": {},
   "outputs": [],
   "source": [
    "data_transforms = transforms.Compose([\n",
    "        transforms.RandomRotation(30)\n",
    "        ])"
   ]
  },
  {
   "cell_type": "code",
   "execution_count": null,
   "metadata": {
    "id": "cU0eQa4_4ZZr"
   },
   "outputs": [],
   "source": [
    "x_transformed = data_transforms(x_trainval)"
   ]
  },
  {
   "cell_type": "code",
   "execution_count": null,
   "metadata": {
    "id": "DpxrqzRe4ZZr"
   },
   "outputs": [],
   "source": [
    "n_epochs = 3"
   ]
  },
  {
   "cell_type": "code",
   "execution_count": null,
   "metadata": {
    "id": "WfSpIbpZ4ZZr",
    "outputId": "d0622e2b-1690-46b5-9783-a7cd3137af60"
   },
   "outputs": [
    {
     "name": "stdout",
     "output_type": "stream",
     "text": [
      "Clean Accuracy: 0.9800864361702127 Clean Loss: 1.478520659182934\n",
      "Adv Accuracy: 0.92099609375 Adv Loss: 1.516292667388916\n",
      "Clean Accuracy: 0.982313829787234 Clean Loss: 1.4761445060689398\n",
      "Adv Accuracy: 0.9197265625 Adv Loss: 1.5180575102567673\n",
      "Clean Accuracy: 0.983843085106383 Clean Loss: 1.474804364874008\n",
      "Adv Accuracy: 0.923828125 Adv Loss: 1.5143093109130858\n"
     ]
    }
   ],
   "source": [
    "optimizer = torch.optim.Adam(model.parameters(), lr=learning_rate, betas=betas)\n",
    "accuracies, losses = adversarial_train(x_transformed, y_trainval, adversarialExamples, y_test, model, n_epochs, batch_size_train, nn.CrossEntropyLoss(), optimizer)"
   ]
  },
  {
   "cell_type": "code",
   "execution_count": null,
   "metadata": {
    "id": "VSYxZawR4ZZr"
   },
   "outputs": [],
   "source": [
    "acc_FGSM_defend, _= test(adversarialExamples, y_test, model, batch_size_test, nn.CrossEntropyLoss())\n",
    "acc_clean, _ = test(x_test, y_test, model, batch_size_test, nn.CrossEntropyLoss())\n",
    "acc_spatial, _= test(torch.squeeze(xSpatial, dim=1), y_test_pertub, model, batch_size_test, nn.CrossEntropyLoss())\n",
    "acc_contrast, _= test(torch.squeeze(xContrast, dim=1), y_test_pertub, model, batch_size_test, nn.CrossEntropyLoss())"
   ]
  },
  {
   "cell_type": "markdown",
   "metadata": {},
   "source": [
    "#### Results of defense against rotation attack"
   ]
  },
  {
   "cell_type": "code",
   "execution_count": null,
   "metadata": {
    "id": "E8DiqUH84ZZs",
    "outputId": "dbe7e8ee-b6f3-4a99-f3e1-396ca48bfbd8"
   },
   "outputs": [
    {
     "name": "stdout",
     "output_type": "stream",
     "text": [
      "x_trainval.shape = torch.Size([60000, 28, 28]),  y_trainval.shape = torch.Size([60000])\n",
      "x_test.shape = torch.Size([10000, 28, 28]),  y_test.shape = torch.Size([10000])\n",
      "Accuracy on adversarial samples (FGSM): 0.74\n",
      "Accuracy on adversarial samples (FGSM) after defense: 0.92\n",
      "Accuracy on clean test samples after defense: 0.96\n",
      "Accuracy on spatial attack test samples after defense: 0.12\n",
      "Accuracy on contrast attack test samples after defense: 0.45\n"
     ]
    }
   ],
   "source": [
    "\n",
    "print('x_trainval.shape = {},  y_trainval.shape = {}'.format(x_trainval.shape, y_trainval.shape))\n",
    "print('x_test.shape = {},  y_test.shape = {}'.format(x_test.shape, y_test.shape))\n",
    "print('Accuracy on adversarial samples (FGSM): %.2f'%acc_FGSM)\n",
    "print('Accuracy on adversarial samples (FGSM) after defense: %.2f'%acc_FGSM_defend)\n",
    "print('Accuracy on clean test samples after defense: %.2f'%acc_clean)\n",
    "print('Accuracy on spatial attack test samples after defense: %.2f'%acc_spatial)\n",
    "print('Accuracy on contrast attack test samples after defense: %.2f'%acc_contrast)"
   ]
  },
  {
   "cell_type": "markdown",
   "metadata": {},
   "source": [
    "### Contrast defense"
   ]
  },
  {
   "cell_type": "code",
   "execution_count": 67,
   "metadata": {},
   "outputs": [],
   "source": [
    "contrast_samples = 2000\n",
    "x_train_pertub = x_trainval[:contrast_samples]\n",
    "y_train_pertub = y_trainval[:contrast_samples]"
   ]
  },
  {
   "cell_type": "code",
   "execution_count": 64,
   "metadata": {},
   "outputs": [],
   "source": [
    "contrast_train, contrast_, success = contrastAttack(foolModel, torch.unsqueeze(x_train_pertub, 1),\n",
    "                                       y_train_pertub, epsilons=None)\n",
    "contrast_train = torch.squeeze(contrast_train)"
   ]
  },
  {
   "cell_type": "code",
   "execution_count": 51,
   "metadata": {},
   "outputs": [],
   "source": [
    "n_epochs = 3"
   ]
  },
  {
   "cell_type": "code",
   "execution_count": 68,
   "metadata": {},
   "outputs": [
    {
     "name": "stdout",
     "output_type": "stream",
     "text": [
      "Clean Accuracy: 0.08203125 Clean Loss: 1.9937036335468292\n",
      "Adv Accuracy: 0.92099609375 Adv Loss: 1.516292667388916\n",
      "Clean Accuracy: 0.9296875 Clean Loss: 1.5415918678045273\n",
      "Adv Accuracy: 0.83916015625 Adv Loss: 1.5984358221292496\n",
      "Clean Accuracy: 0.9443359375 Clean Loss: 1.5333095043897629\n",
      "Adv Accuracy: 0.77080078125 Adv Loss: 1.668141108751297\n"
     ]
    }
   ],
   "source": [
    "optimizer = torch.optim.Adam(model.parameters(), lr=learning_rate, betas=betas)\n",
    "accuracies, losses = adversarial_train(contrast_train, y_train_pertub, adversarialExamples, y_test, model, n_epochs, batch_size_train, nn.CrossEntropyLoss(), optimizer)"
   ]
  },
  {
   "cell_type": "code",
   "execution_count": 69,
   "metadata": {},
   "outputs": [],
   "source": [
    "acc_FGSM_defend, _= test(adversarialExamples, y_test, model, batch_size_test, nn.CrossEntropyLoss())\n",
    "acc_clean, _ = test(x_test, y_test, model, batch_size_test, nn.CrossEntropyLoss())\n",
    "acc_spatial, _= test(torch.squeeze(xSpatial, dim=1), y_test_pertub, model, batch_size_test, nn.CrossEntropyLoss())\n",
    "acc_contrast, _= test(torch.squeeze(xContrast, dim=1), y_test_pertub, model, batch_size_test, nn.CrossEntropyLoss())"
   ]
  },
  {
   "cell_type": "markdown",
   "metadata": {},
   "source": [
    "#### Results of contrast defense"
   ]
  },
  {
   "cell_type": "code",
   "execution_count": 70,
   "metadata": {},
   "outputs": [
    {
     "name": "stdout",
     "output_type": "stream",
     "text": [
      "x_trainval.shape = torch.Size([60000, 28, 28]),  y_trainval.shape = torch.Size([60000])\n",
      "x_test.shape = torch.Size([10000, 28, 28]),  y_test.shape = torch.Size([10000])\n",
      "Accuracy on adversarial samples (FGSM): 0.74\n",
      "Accuracy on adversarial samples (FGSM) after defense: 0.71\n",
      "Accuracy on clean test samples after defense: 0.81\n",
      "Accuracy on spatial attack test samples after defense: 0.14\n",
      "Accuracy on contrast attack test samples after defense: 0.60\n"
     ]
    }
   ],
   "source": [
    "print('x_trainval.shape = {},  y_trainval.shape = {}'.format(x_trainval.shape, y_trainval.shape))\n",
    "print('x_test.shape = {},  y_test.shape = {}'.format(x_test.shape, y_test.shape))\n",
    "print('Accuracy on adversarial samples (FGSM): %.2f'%acc_FGSM)\n",
    "print('Accuracy on adversarial samples (FGSM) after defense: %.2f'%acc_FGSM_defend)\n",
    "print('Accuracy on clean test samples after defense: %.2f'%acc_clean)\n",
    "print('Accuracy on spatial attack test samples after defense: %.2f'%acc_spatial)\n",
    "print('Accuracy on contrast attack test samples after defense: %.2f'%acc_contrast)"
   ]
  },
  {
   "cell_type": "markdown",
   "metadata": {
    "id": "sIMRqecuymir"
   },
   "source": [
    "### 2.2: Conclusions (15 Points)\n",
    "Please interpret the results of your defense here. \n",
    "\n",
    "* What did you try to make the classifier more robust against FGSM? \n",
    "* Why did it work? \n",
    "* Is the classifier now robust against FGSM?  \n",
    "* ...\n",
    "\n",
    "Feel free to state any interesting finding you encountered during this project."
   ]
  },
  {
   "cell_type": "markdown",
   "metadata": {
    "id": "RkuYEa28ELC9"
   },
   "source": [
    "To make the clasifier more robust against FGSM, we used adversarial training.  We continue training on the loaded model from the last assignment. In our implementation, we generate adversarial samples for each batch iteration in training using the same FGSM function we defined previously, and feed them to the model simultaneously with the original samples. "
   ]
  },
  {
   "cell_type": "markdown",
   "metadata": {
    "id": "ga4TF9q3ELC9"
   },
   "source": [
    "This method worked because the model is learning from adversarial samples and because of this is able to accurately classify the samples from the altered dataset. We are essentally doing an outer minimzation on the inner maximization of the loss done by the FGSM method."
   ]
  },
  {
   "cell_type": "markdown",
   "metadata": {
    "id": "Ta5RFnHsELC9"
   },
   "source": [
    "Not only is the classifier robust against this FGSM attack (93% accuracy on FGSM adversarial test set), but it also maintained most of the accuracy when testing with the original dataset (96% accuracy on original test set) although with a tradeoff of about 2% accuracy loss from our original model. Because of this defense, the model recovered 19% accuracy (from 74% to 93%) on the adversarial FGSM set. In addition to this, we could also see that through the first adversarial training the model obtained better accuracy on the spatial and contrast test sets previously created: 0 to 17% on spatial samples and 8.4% to 36% on accuracy samples."
   ]
  },
  {
   "cell_type": "markdown",
   "metadata": {
    "id": "PpmkFeSGELC9"
   },
   "source": [
    "Following the defense against FGSM, we tried defending against spatial attacks by continuing to train the model with a transformated training set using the pytorch transforms module. We applied random rotations within 30 degrees for each image in the dataset because this is the same range of degree that the foolbox library uses. \n",
    "However, after training for 3 epochs the model's accuracy worsened on predicting the spatial samples. One possible reason for this is that plain CNNs are generally rotation dependent because of their structure. This makes it difficult to train them for rotation invariance. Also, the attack also performs translations besides rotations which was not exploited in this adversarial training. "
   ]
  },
  {
   "cell_type": "markdown",
   "metadata": {},
   "source": [
    "After our attempt at defending against spatial attacks, we tried training again 3 epochs on the adversarial trained model with samples of varying contrasts. Through this training we improved greatly accuracy on contrast samples (36% to 60%). However, accuracy on the FGSM and clean samples dropped significantly: 92% to 71% on FGSM and 96% to 81% on clean samples. This suggests that we should continue training on adversarial and clean samples while introducing contrasted samples too so that the model can generalize predictions for those cases."
   ]
  }
 ],
 "metadata": {
  "colab": {
   "collapsed_sections": [],
   "name": "TheHiddenAdversaries_project2.ipynb",
   "provenance": []
  },
  "kernelspec": {
   "display_name": "Python 3",
   "language": "python",
   "name": "python3"
  },
  "language_info": {
   "codemirror_mode": {
    "name": "ipython",
    "version": 3
   },
   "file_extension": ".py",
   "mimetype": "text/x-python",
   "name": "python",
   "nbconvert_exporter": "python",
   "pygments_lexer": "ipython3",
   "version": "3.7.9"
  },
  "widgets": {
   "application/vnd.jupyter.widget-state+json": {
    "02a2f47088984c2ab3f6ff391d3d1625": {
     "model_module": "@jupyter-widgets/controls",
     "model_name": "FloatProgressModel",
     "state": {
      "_dom_classes": [],
      "_model_module": "@jupyter-widgets/controls",
      "_model_module_version": "1.5.0",
      "_model_name": "FloatProgressModel",
      "_view_count": null,
      "_view_module": "@jupyter-widgets/controls",
      "_view_module_version": "1.5.0",
      "_view_name": "ProgressView",
      "bar_style": "success",
      "description": "",
      "description_tooltip": null,
      "layout": "IPY_MODEL_8328ffef738045cb9fe81df30c240398",
      "max": 1,
      "min": 0,
      "orientation": "horizontal",
      "style": "IPY_MODEL_396e9e9f3cee4f9c9e502c9318725e92",
      "value": 1
     }
    },
    "0397fffb6337468a8b681062dd9f14ce": {
     "model_module": "@jupyter-widgets/base",
     "model_name": "LayoutModel",
     "state": {
      "_model_module": "@jupyter-widgets/base",
      "_model_module_version": "1.2.0",
      "_model_name": "LayoutModel",
      "_view_count": null,
      "_view_module": "@jupyter-widgets/base",
      "_view_module_version": "1.2.0",
      "_view_name": "LayoutView",
      "align_content": null,
      "align_items": null,
      "align_self": null,
      "border": null,
      "bottom": null,
      "display": null,
      "flex": null,
      "flex_flow": null,
      "grid_area": null,
      "grid_auto_columns": null,
      "grid_auto_flow": null,
      "grid_auto_rows": null,
      "grid_column": null,
      "grid_gap": null,
      "grid_row": null,
      "grid_template_areas": null,
      "grid_template_columns": null,
      "grid_template_rows": null,
      "height": null,
      "justify_content": null,
      "justify_items": null,
      "left": null,
      "margin": null,
      "max_height": null,
      "max_width": null,
      "min_height": null,
      "min_width": null,
      "object_fit": null,
      "object_position": null,
      "order": null,
      "overflow": null,
      "overflow_x": null,
      "overflow_y": null,
      "padding": null,
      "right": null,
      "top": null,
      "visibility": null,
      "width": null
     }
    },
    "1100aa0d5a03426285d902306202dd3d": {
     "model_module": "@jupyter-widgets/controls",
     "model_name": "HBoxModel",
     "state": {
      "_dom_classes": [],
      "_model_module": "@jupyter-widgets/controls",
      "_model_module_version": "1.5.0",
      "_model_name": "HBoxModel",
      "_view_count": null,
      "_view_module": "@jupyter-widgets/controls",
      "_view_module_version": "1.5.0",
      "_view_name": "HBoxView",
      "box_style": "",
      "children": [
       "IPY_MODEL_6578dd51c7da48809557bdfdb94e7e45",
       "IPY_MODEL_9027b088659442ae8e9c3d50e599acd4"
      ],
      "layout": "IPY_MODEL_2215d9d885264a3684af6ac8b1fddf88"
     }
    },
    "2215d9d885264a3684af6ac8b1fddf88": {
     "model_module": "@jupyter-widgets/base",
     "model_name": "LayoutModel",
     "state": {
      "_model_module": "@jupyter-widgets/base",
      "_model_module_version": "1.2.0",
      "_model_name": "LayoutModel",
      "_view_count": null,
      "_view_module": "@jupyter-widgets/base",
      "_view_module_version": "1.2.0",
      "_view_name": "LayoutView",
      "align_content": null,
      "align_items": null,
      "align_self": null,
      "border": null,
      "bottom": null,
      "display": null,
      "flex": null,
      "flex_flow": null,
      "grid_area": null,
      "grid_auto_columns": null,
      "grid_auto_flow": null,
      "grid_auto_rows": null,
      "grid_column": null,
      "grid_gap": null,
      "grid_row": null,
      "grid_template_areas": null,
      "grid_template_columns": null,
      "grid_template_rows": null,
      "height": null,
      "justify_content": null,
      "justify_items": null,
      "left": null,
      "margin": null,
      "max_height": null,
      "max_width": null,
      "min_height": null,
      "min_width": null,
      "object_fit": null,
      "object_position": null,
      "order": null,
      "overflow": null,
      "overflow_x": null,
      "overflow_y": null,
      "padding": null,
      "right": null,
      "top": null,
      "visibility": null,
      "width": null
     }
    },
    "396e9e9f3cee4f9c9e502c9318725e92": {
     "model_module": "@jupyter-widgets/controls",
     "model_name": "ProgressStyleModel",
     "state": {
      "_model_module": "@jupyter-widgets/controls",
      "_model_module_version": "1.5.0",
      "_model_name": "ProgressStyleModel",
      "_view_count": null,
      "_view_module": "@jupyter-widgets/base",
      "_view_module_version": "1.2.0",
      "_view_name": "StyleView",
      "bar_color": null,
      "description_width": "initial"
     }
    },
    "3e762e1338a24f268fa466015b50735a": {
     "model_module": "@jupyter-widgets/controls",
     "model_name": "ProgressStyleModel",
     "state": {
      "_model_module": "@jupyter-widgets/controls",
      "_model_module_version": "1.5.0",
      "_model_name": "ProgressStyleModel",
      "_view_count": null,
      "_view_module": "@jupyter-widgets/base",
      "_view_module_version": "1.2.0",
      "_view_name": "StyleView",
      "bar_color": null,
      "description_width": "initial"
     }
    },
    "469a076893c74626a0d15c6e1901c3de": {
     "model_module": "@jupyter-widgets/base",
     "model_name": "LayoutModel",
     "state": {
      "_model_module": "@jupyter-widgets/base",
      "_model_module_version": "1.2.0",
      "_model_name": "LayoutModel",
      "_view_count": null,
      "_view_module": "@jupyter-widgets/base",
      "_view_module_version": "1.2.0",
      "_view_name": "LayoutView",
      "align_content": null,
      "align_items": null,
      "align_self": null,
      "border": null,
      "bottom": null,
      "display": null,
      "flex": null,
      "flex_flow": null,
      "grid_area": null,
      "grid_auto_columns": null,
      "grid_auto_flow": null,
      "grid_auto_rows": null,
      "grid_column": null,
      "grid_gap": null,
      "grid_row": null,
      "grid_template_areas": null,
      "grid_template_columns": null,
      "grid_template_rows": null,
      "height": null,
      "justify_content": null,
      "justify_items": null,
      "left": null,
      "margin": null,
      "max_height": null,
      "max_width": null,
      "min_height": null,
      "min_width": null,
      "object_fit": null,
      "object_position": null,
      "order": null,
      "overflow": null,
      "overflow_x": null,
      "overflow_y": null,
      "padding": null,
      "right": null,
      "top": null,
      "visibility": null,
      "width": null
     }
    },
    "5919c3eefd4b4817b6e404170897ea65": {
     "model_module": "@jupyter-widgets/controls",
     "model_name": "HBoxModel",
     "state": {
      "_dom_classes": [],
      "_model_module": "@jupyter-widgets/controls",
      "_model_module_version": "1.5.0",
      "_model_name": "HBoxModel",
      "_view_count": null,
      "_view_module": "@jupyter-widgets/controls",
      "_view_module_version": "1.5.0",
      "_view_name": "HBoxView",
      "box_style": "",
      "children": [
       "IPY_MODEL_02a2f47088984c2ab3f6ff391d3d1625",
       "IPY_MODEL_9bc24ec6f7694b33978f51e8f2eaff11"
      ],
      "layout": "IPY_MODEL_f736d11dd0bc49cd98717589d0f7fba6"
     }
    },
    "627ba8b087bf4cfbbe4d3e5dbda17195": {
     "model_module": "@jupyter-widgets/controls",
     "model_name": "FloatProgressModel",
     "state": {
      "_dom_classes": [],
      "_model_module": "@jupyter-widgets/controls",
      "_model_module_version": "1.5.0",
      "_model_name": "FloatProgressModel",
      "_view_count": null,
      "_view_module": "@jupyter-widgets/controls",
      "_view_module_version": "1.5.0",
      "_view_name": "ProgressView",
      "bar_style": "info",
      "description": "  0%",
      "description_tooltip": null,
      "layout": "IPY_MODEL_e78b77137c254c8fafec991625d51a32",
      "max": 1,
      "min": 0,
      "orientation": "horizontal",
      "style": "IPY_MODEL_b0309c7ad25b43a7a207744f31ec861d",
      "value": 0
     }
    },
    "6578dd51c7da48809557bdfdb94e7e45": {
     "model_module": "@jupyter-widgets/controls",
     "model_name": "FloatProgressModel",
     "state": {
      "_dom_classes": [],
      "_model_module": "@jupyter-widgets/controls",
      "_model_module_version": "1.5.0",
      "_model_name": "FloatProgressModel",
      "_view_count": null,
      "_view_module": "@jupyter-widgets/controls",
      "_view_module_version": "1.5.0",
      "_view_name": "ProgressView",
      "bar_style": "success",
      "description": "",
      "description_tooltip": null,
      "layout": "IPY_MODEL_469a076893c74626a0d15c6e1901c3de",
      "max": 1,
      "min": 0,
      "orientation": "horizontal",
      "style": "IPY_MODEL_3e762e1338a24f268fa466015b50735a",
      "value": 1
     }
    },
    "6c6e1791567b4df8930415cf3a5e7a0f": {
     "model_module": "@jupyter-widgets/controls",
     "model_name": "DescriptionStyleModel",
     "state": {
      "_model_module": "@jupyter-widgets/controls",
      "_model_module_version": "1.5.0",
      "_model_name": "DescriptionStyleModel",
      "_view_count": null,
      "_view_module": "@jupyter-widgets/base",
      "_view_module_version": "1.2.0",
      "_view_name": "StyleView",
      "description_width": ""
     }
    },
    "74b88878de4c41f2a4a59fede864d70d": {
     "model_module": "@jupyter-widgets/base",
     "model_name": "LayoutModel",
     "state": {
      "_model_module": "@jupyter-widgets/base",
      "_model_module_version": "1.2.0",
      "_model_name": "LayoutModel",
      "_view_count": null,
      "_view_module": "@jupyter-widgets/base",
      "_view_module_version": "1.2.0",
      "_view_name": "LayoutView",
      "align_content": null,
      "align_items": null,
      "align_self": null,
      "border": null,
      "bottom": null,
      "display": null,
      "flex": null,
      "flex_flow": null,
      "grid_area": null,
      "grid_auto_columns": null,
      "grid_auto_flow": null,
      "grid_auto_rows": null,
      "grid_column": null,
      "grid_gap": null,
      "grid_row": null,
      "grid_template_areas": null,
      "grid_template_columns": null,
      "grid_template_rows": null,
      "height": null,
      "justify_content": null,
      "justify_items": null,
      "left": null,
      "margin": null,
      "max_height": null,
      "max_width": null,
      "min_height": null,
      "min_width": null,
      "object_fit": null,
      "object_position": null,
      "order": null,
      "overflow": null,
      "overflow_x": null,
      "overflow_y": null,
      "padding": null,
      "right": null,
      "top": null,
      "visibility": null,
      "width": null
     }
    },
    "78386976073f45ba8c3ecf0741dd12bf": {
     "model_module": "@jupyter-widgets/controls",
     "model_name": "DescriptionStyleModel",
     "state": {
      "_model_module": "@jupyter-widgets/controls",
      "_model_module_version": "1.5.0",
      "_model_name": "DescriptionStyleModel",
      "_view_count": null,
      "_view_module": "@jupyter-widgets/base",
      "_view_module_version": "1.2.0",
      "_view_name": "StyleView",
      "description_width": ""
     }
    },
    "8328ffef738045cb9fe81df30c240398": {
     "model_module": "@jupyter-widgets/base",
     "model_name": "LayoutModel",
     "state": {
      "_model_module": "@jupyter-widgets/base",
      "_model_module_version": "1.2.0",
      "_model_name": "LayoutModel",
      "_view_count": null,
      "_view_module": "@jupyter-widgets/base",
      "_view_module_version": "1.2.0",
      "_view_name": "LayoutView",
      "align_content": null,
      "align_items": null,
      "align_self": null,
      "border": null,
      "bottom": null,
      "display": null,
      "flex": null,
      "flex_flow": null,
      "grid_area": null,
      "grid_auto_columns": null,
      "grid_auto_flow": null,
      "grid_auto_rows": null,
      "grid_column": null,
      "grid_gap": null,
      "grid_row": null,
      "grid_template_areas": null,
      "grid_template_columns": null,
      "grid_template_rows": null,
      "height": null,
      "justify_content": null,
      "justify_items": null,
      "left": null,
      "margin": null,
      "max_height": null,
      "max_width": null,
      "min_height": null,
      "min_width": null,
      "object_fit": null,
      "object_position": null,
      "order": null,
      "overflow": null,
      "overflow_x": null,
      "overflow_y": null,
      "padding": null,
      "right": null,
      "top": null,
      "visibility": null,
      "width": null
     }
    },
    "9027b088659442ae8e9c3d50e599acd4": {
     "model_module": "@jupyter-widgets/controls",
     "model_name": "HTMLModel",
     "state": {
      "_dom_classes": [],
      "_model_module": "@jupyter-widgets/controls",
      "_model_module_version": "1.5.0",
      "_model_name": "HTMLModel",
      "_view_count": null,
      "_view_module": "@jupyter-widgets/controls",
      "_view_module_version": "1.5.0",
      "_view_name": "HTMLView",
      "description": "",
      "description_tooltip": null,
      "layout": "IPY_MODEL_96677926c1424cc7abeb230ff667e365",
      "placeholder": "​",
      "style": "IPY_MODEL_ca249b13585a469ea28caa7b9d114815",
      "value": " 1654784/? [00:00&lt;00:00, 4885502.40it/s]"
     }
    },
    "96677926c1424cc7abeb230ff667e365": {
     "model_module": "@jupyter-widgets/base",
     "model_name": "LayoutModel",
     "state": {
      "_model_module": "@jupyter-widgets/base",
      "_model_module_version": "1.2.0",
      "_model_name": "LayoutModel",
      "_view_count": null,
      "_view_module": "@jupyter-widgets/base",
      "_view_module_version": "1.2.0",
      "_view_name": "LayoutView",
      "align_content": null,
      "align_items": null,
      "align_self": null,
      "border": null,
      "bottom": null,
      "display": null,
      "flex": null,
      "flex_flow": null,
      "grid_area": null,
      "grid_auto_columns": null,
      "grid_auto_flow": null,
      "grid_auto_rows": null,
      "grid_column": null,
      "grid_gap": null,
      "grid_row": null,
      "grid_template_areas": null,
      "grid_template_columns": null,
      "grid_template_rows": null,
      "height": null,
      "justify_content": null,
      "justify_items": null,
      "left": null,
      "margin": null,
      "max_height": null,
      "max_width": null,
      "min_height": null,
      "min_width": null,
      "object_fit": null,
      "object_position": null,
      "order": null,
      "overflow": null,
      "overflow_x": null,
      "overflow_y": null,
      "padding": null,
      "right": null,
      "top": null,
      "visibility": null,
      "width": null
     }
    },
    "9bc24ec6f7694b33978f51e8f2eaff11": {
     "model_module": "@jupyter-widgets/controls",
     "model_name": "HTMLModel",
     "state": {
      "_dom_classes": [],
      "_model_module": "@jupyter-widgets/controls",
      "_model_module_version": "1.5.0",
      "_model_name": "HTMLModel",
      "_view_count": null,
      "_view_module": "@jupyter-widgets/controls",
      "_view_module_version": "1.5.0",
      "_view_name": "HTMLView",
      "description": "",
      "description_tooltip": null,
      "layout": "IPY_MODEL_74b88878de4c41f2a4a59fede864d70d",
      "placeholder": "​",
      "style": "IPY_MODEL_6c6e1791567b4df8930415cf3a5e7a0f",
      "value": " 32768/? [00:00&lt;00:00, 74973.87it/s]"
     }
    },
    "9ff83bf8b73c480c9862a370845197e8": {
     "model_module": "@jupyter-widgets/controls",
     "model_name": "FloatProgressModel",
     "state": {
      "_dom_classes": [],
      "_model_module": "@jupyter-widgets/controls",
      "_model_module_version": "1.5.0",
      "_model_name": "FloatProgressModel",
      "_view_count": null,
      "_view_module": "@jupyter-widgets/controls",
      "_view_module_version": "1.5.0",
      "_view_name": "ProgressView",
      "bar_style": "info",
      "description": "",
      "description_tooltip": null,
      "layout": "IPY_MODEL_c461d05e06474930bf8ce7d50522ece1",
      "max": 1,
      "min": 0,
      "orientation": "horizontal",
      "style": "IPY_MODEL_d9f59e5d331e4e07a92aa16174ffd152",
      "value": 1
     }
    },
    "a1e97ecc40c742898e87be81d195a18e": {
     "model_module": "@jupyter-widgets/base",
     "model_name": "LayoutModel",
     "state": {
      "_model_module": "@jupyter-widgets/base",
      "_model_module_version": "1.2.0",
      "_model_name": "LayoutModel",
      "_view_count": null,
      "_view_module": "@jupyter-widgets/base",
      "_view_module_version": "1.2.0",
      "_view_name": "LayoutView",
      "align_content": null,
      "align_items": null,
      "align_self": null,
      "border": null,
      "bottom": null,
      "display": null,
      "flex": null,
      "flex_flow": null,
      "grid_area": null,
      "grid_auto_columns": null,
      "grid_auto_flow": null,
      "grid_auto_rows": null,
      "grid_column": null,
      "grid_gap": null,
      "grid_row": null,
      "grid_template_areas": null,
      "grid_template_columns": null,
      "grid_template_rows": null,
      "height": null,
      "justify_content": null,
      "justify_items": null,
      "left": null,
      "margin": null,
      "max_height": null,
      "max_width": null,
      "min_height": null,
      "min_width": null,
      "object_fit": null,
      "object_position": null,
      "order": null,
      "overflow": null,
      "overflow_x": null,
      "overflow_y": null,
      "padding": null,
      "right": null,
      "top": null,
      "visibility": null,
      "width": null
     }
    },
    "af8584119f084fd0b26a11aaa43e22ec": {
     "model_module": "@jupyter-widgets/controls",
     "model_name": "HBoxModel",
     "state": {
      "_dom_classes": [],
      "_model_module": "@jupyter-widgets/controls",
      "_model_module_version": "1.5.0",
      "_model_name": "HBoxModel",
      "_view_count": null,
      "_view_module": "@jupyter-widgets/controls",
      "_view_module_version": "1.5.0",
      "_view_name": "HBoxView",
      "box_style": "",
      "children": [
       "IPY_MODEL_627ba8b087bf4cfbbe4d3e5dbda17195",
       "IPY_MODEL_d1d3630180d646a5a42947b50b2f70fd"
      ],
      "layout": "IPY_MODEL_a1e97ecc40c742898e87be81d195a18e"
     }
    },
    "b0309c7ad25b43a7a207744f31ec861d": {
     "model_module": "@jupyter-widgets/controls",
     "model_name": "ProgressStyleModel",
     "state": {
      "_model_module": "@jupyter-widgets/controls",
      "_model_module_version": "1.5.0",
      "_model_name": "ProgressStyleModel",
      "_view_count": null,
      "_view_module": "@jupyter-widgets/base",
      "_view_module_version": "1.2.0",
      "_view_name": "StyleView",
      "bar_color": null,
      "description_width": "initial"
     }
    },
    "b439b8898f1a43ec8b6196618f32a5dd": {
     "model_module": "@jupyter-widgets/controls",
     "model_name": "HBoxModel",
     "state": {
      "_dom_classes": [],
      "_model_module": "@jupyter-widgets/controls",
      "_model_module_version": "1.5.0",
      "_model_name": "HBoxModel",
      "_view_count": null,
      "_view_module": "@jupyter-widgets/controls",
      "_view_module_version": "1.5.0",
      "_view_name": "HBoxView",
      "box_style": "",
      "children": [
       "IPY_MODEL_9ff83bf8b73c480c9862a370845197e8",
       "IPY_MODEL_c6d71e3746fb496b82e091b3c2df6c4b"
      ],
      "layout": "IPY_MODEL_0397fffb6337468a8b681062dd9f14ce"
     }
    },
    "bc7367f561b74b969ba264c7f268c061": {
     "model_module": "@jupyter-widgets/base",
     "model_name": "LayoutModel",
     "state": {
      "_model_module": "@jupyter-widgets/base",
      "_model_module_version": "1.2.0",
      "_model_name": "LayoutModel",
      "_view_count": null,
      "_view_module": "@jupyter-widgets/base",
      "_view_module_version": "1.2.0",
      "_view_name": "LayoutView",
      "align_content": null,
      "align_items": null,
      "align_self": null,
      "border": null,
      "bottom": null,
      "display": null,
      "flex": null,
      "flex_flow": null,
      "grid_area": null,
      "grid_auto_columns": null,
      "grid_auto_flow": null,
      "grid_auto_rows": null,
      "grid_column": null,
      "grid_gap": null,
      "grid_row": null,
      "grid_template_areas": null,
      "grid_template_columns": null,
      "grid_template_rows": null,
      "height": null,
      "justify_content": null,
      "justify_items": null,
      "left": null,
      "margin": null,
      "max_height": null,
      "max_width": null,
      "min_height": null,
      "min_width": null,
      "object_fit": null,
      "object_position": null,
      "order": null,
      "overflow": null,
      "overflow_x": null,
      "overflow_y": null,
      "padding": null,
      "right": null,
      "top": null,
      "visibility": null,
      "width": null
     }
    },
    "c461d05e06474930bf8ce7d50522ece1": {
     "model_module": "@jupyter-widgets/base",
     "model_name": "LayoutModel",
     "state": {
      "_model_module": "@jupyter-widgets/base",
      "_model_module_version": "1.2.0",
      "_model_name": "LayoutModel",
      "_view_count": null,
      "_view_module": "@jupyter-widgets/base",
      "_view_module_version": "1.2.0",
      "_view_name": "LayoutView",
      "align_content": null,
      "align_items": null,
      "align_self": null,
      "border": null,
      "bottom": null,
      "display": null,
      "flex": null,
      "flex_flow": null,
      "grid_area": null,
      "grid_auto_columns": null,
      "grid_auto_flow": null,
      "grid_auto_rows": null,
      "grid_column": null,
      "grid_gap": null,
      "grid_row": null,
      "grid_template_areas": null,
      "grid_template_columns": null,
      "grid_template_rows": null,
      "height": null,
      "justify_content": null,
      "justify_items": null,
      "left": null,
      "margin": null,
      "max_height": null,
      "max_width": null,
      "min_height": null,
      "min_width": null,
      "object_fit": null,
      "object_position": null,
      "order": null,
      "overflow": null,
      "overflow_x": null,
      "overflow_y": null,
      "padding": null,
      "right": null,
      "top": null,
      "visibility": null,
      "width": null
     }
    },
    "c6d71e3746fb496b82e091b3c2df6c4b": {
     "model_module": "@jupyter-widgets/controls",
     "model_name": "HTMLModel",
     "state": {
      "_dom_classes": [],
      "_model_module": "@jupyter-widgets/controls",
      "_model_module_version": "1.5.0",
      "_model_name": "HTMLModel",
      "_view_count": null,
      "_view_module": "@jupyter-widgets/controls",
      "_view_module_version": "1.5.0",
      "_view_name": "HTMLView",
      "description": "",
      "description_tooltip": null,
      "layout": "IPY_MODEL_e7592500eec94bb98a6c0b91a3d13d00",
      "placeholder": "​",
      "style": "IPY_MODEL_f77a78dd435644f8b0b27abd81013e08",
      "value": " 9920512/? [00:20&lt;00:00, 19831824.88it/s]"
     }
    },
    "ca249b13585a469ea28caa7b9d114815": {
     "model_module": "@jupyter-widgets/controls",
     "model_name": "DescriptionStyleModel",
     "state": {
      "_model_module": "@jupyter-widgets/controls",
      "_model_module_version": "1.5.0",
      "_model_name": "DescriptionStyleModel",
      "_view_count": null,
      "_view_module": "@jupyter-widgets/base",
      "_view_module_version": "1.2.0",
      "_view_name": "StyleView",
      "description_width": ""
     }
    },
    "d1d3630180d646a5a42947b50b2f70fd": {
     "model_module": "@jupyter-widgets/controls",
     "model_name": "HTMLModel",
     "state": {
      "_dom_classes": [],
      "_model_module": "@jupyter-widgets/controls",
      "_model_module_version": "1.5.0",
      "_model_name": "HTMLModel",
      "_view_count": null,
      "_view_module": "@jupyter-widgets/controls",
      "_view_module_version": "1.5.0",
      "_view_name": "HTMLView",
      "description": "",
      "description_tooltip": null,
      "layout": "IPY_MODEL_bc7367f561b74b969ba264c7f268c061",
      "placeholder": "​",
      "style": "IPY_MODEL_78386976073f45ba8c3ecf0741dd12bf",
      "value": " 0/4542 [00:00&lt;?, ?it/s]"
     }
    },
    "d9f59e5d331e4e07a92aa16174ffd152": {
     "model_module": "@jupyter-widgets/controls",
     "model_name": "ProgressStyleModel",
     "state": {
      "_model_module": "@jupyter-widgets/controls",
      "_model_module_version": "1.5.0",
      "_model_name": "ProgressStyleModel",
      "_view_count": null,
      "_view_module": "@jupyter-widgets/base",
      "_view_module_version": "1.2.0",
      "_view_name": "StyleView",
      "bar_color": null,
      "description_width": "initial"
     }
    },
    "e7592500eec94bb98a6c0b91a3d13d00": {
     "model_module": "@jupyter-widgets/base",
     "model_name": "LayoutModel",
     "state": {
      "_model_module": "@jupyter-widgets/base",
      "_model_module_version": "1.2.0",
      "_model_name": "LayoutModel",
      "_view_count": null,
      "_view_module": "@jupyter-widgets/base",
      "_view_module_version": "1.2.0",
      "_view_name": "LayoutView",
      "align_content": null,
      "align_items": null,
      "align_self": null,
      "border": null,
      "bottom": null,
      "display": null,
      "flex": null,
      "flex_flow": null,
      "grid_area": null,
      "grid_auto_columns": null,
      "grid_auto_flow": null,
      "grid_auto_rows": null,
      "grid_column": null,
      "grid_gap": null,
      "grid_row": null,
      "grid_template_areas": null,
      "grid_template_columns": null,
      "grid_template_rows": null,
      "height": null,
      "justify_content": null,
      "justify_items": null,
      "left": null,
      "margin": null,
      "max_height": null,
      "max_width": null,
      "min_height": null,
      "min_width": null,
      "object_fit": null,
      "object_position": null,
      "order": null,
      "overflow": null,
      "overflow_x": null,
      "overflow_y": null,
      "padding": null,
      "right": null,
      "top": null,
      "visibility": null,
      "width": null
     }
    },
    "e78b77137c254c8fafec991625d51a32": {
     "model_module": "@jupyter-widgets/base",
     "model_name": "LayoutModel",
     "state": {
      "_model_module": "@jupyter-widgets/base",
      "_model_module_version": "1.2.0",
      "_model_name": "LayoutModel",
      "_view_count": null,
      "_view_module": "@jupyter-widgets/base",
      "_view_module_version": "1.2.0",
      "_view_name": "LayoutView",
      "align_content": null,
      "align_items": null,
      "align_self": null,
      "border": null,
      "bottom": null,
      "display": null,
      "flex": null,
      "flex_flow": null,
      "grid_area": null,
      "grid_auto_columns": null,
      "grid_auto_flow": null,
      "grid_auto_rows": null,
      "grid_column": null,
      "grid_gap": null,
      "grid_row": null,
      "grid_template_areas": null,
      "grid_template_columns": null,
      "grid_template_rows": null,
      "height": null,
      "justify_content": null,
      "justify_items": null,
      "left": null,
      "margin": null,
      "max_height": null,
      "max_width": null,
      "min_height": null,
      "min_width": null,
      "object_fit": null,
      "object_position": null,
      "order": null,
      "overflow": null,
      "overflow_x": null,
      "overflow_y": null,
      "padding": null,
      "right": null,
      "top": null,
      "visibility": null,
      "width": null
     }
    },
    "f736d11dd0bc49cd98717589d0f7fba6": {
     "model_module": "@jupyter-widgets/base",
     "model_name": "LayoutModel",
     "state": {
      "_model_module": "@jupyter-widgets/base",
      "_model_module_version": "1.2.0",
      "_model_name": "LayoutModel",
      "_view_count": null,
      "_view_module": "@jupyter-widgets/base",
      "_view_module_version": "1.2.0",
      "_view_name": "LayoutView",
      "align_content": null,
      "align_items": null,
      "align_self": null,
      "border": null,
      "bottom": null,
      "display": null,
      "flex": null,
      "flex_flow": null,
      "grid_area": null,
      "grid_auto_columns": null,
      "grid_auto_flow": null,
      "grid_auto_rows": null,
      "grid_column": null,
      "grid_gap": null,
      "grid_row": null,
      "grid_template_areas": null,
      "grid_template_columns": null,
      "grid_template_rows": null,
      "height": null,
      "justify_content": null,
      "justify_items": null,
      "left": null,
      "margin": null,
      "max_height": null,
      "max_width": null,
      "min_height": null,
      "min_width": null,
      "object_fit": null,
      "object_position": null,
      "order": null,
      "overflow": null,
      "overflow_x": null,
      "overflow_y": null,
      "padding": null,
      "right": null,
      "top": null,
      "visibility": null,
      "width": null
     }
    },
    "f77a78dd435644f8b0b27abd81013e08": {
     "model_module": "@jupyter-widgets/controls",
     "model_name": "DescriptionStyleModel",
     "state": {
      "_model_module": "@jupyter-widgets/controls",
      "_model_module_version": "1.5.0",
      "_model_name": "DescriptionStyleModel",
      "_view_count": null,
      "_view_module": "@jupyter-widgets/base",
      "_view_module_version": "1.2.0",
      "_view_name": "StyleView",
      "description_width": ""
     }
    }
   }
  }
 },
 "nbformat": 4,
 "nbformat_minor": 1
}
