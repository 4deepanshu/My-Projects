{
 "cells": [
  {
   "cell_type": "markdown",
   "metadata": {},
   "source": [
    "# Adversarial LSTM Training"
   ]
  },
  {
   "cell_type": "code",
   "execution_count": 1,
   "metadata": {},
   "outputs": [],
   "source": [
    "import numpy as np\n",
    "import pandas as pd\n",
    "import torch\n",
    "import torch.nn as nn"
   ]
  },
  {
   "cell_type": "code",
   "execution_count": 2,
   "metadata": {},
   "outputs": [],
   "source": [
    "import os\n",
    "os.environ[\"CUDA_VISIBLE_DEVICES\"]=\"5\""
   ]
  },
  {
   "cell_type": "code",
   "execution_count": 2,
   "metadata": {},
   "outputs": [
    {
     "data": {
      "text/plain": [
       "device(type='cuda')"
      ]
     },
     "execution_count": 2,
     "metadata": {},
     "output_type": "execute_result"
    }
   ],
   "source": [
    "# specify device depending on availability of GPU\n",
    "device = torch.device('cuda' if torch.cuda.is_available() else 'cpu')\n",
    "device"
   ]
  },
  {
   "cell_type": "markdown",
   "metadata": {},
   "source": [
    "## Helper functions"
   ]
  },
  {
   "cell_type": "code",
   "execution_count": 3,
   "metadata": {},
   "outputs": [],
   "source": [
    "# wraps a separated dataset to avoid issues while shuffling\n",
    "class WrapperDataset(torch.utils.data.Dataset):\n",
    "    def __init__(self, x, y):\n",
    "        self.x = x\n",
    "        self.y = y\n",
    "\n",
    "    def __getitem__(self, index):\n",
    "        return self.x[index], self.y[index]\n",
    "\n",
    "    def __len__(self):\n",
    "        return len(self.y)\n",
    "\n",
    "# get the same batch split for inputs and labels\n",
    "def get_batched_x_y(x, y, batch_size, shuffle):\n",
    "    dataset = WrapperDataset(x, y)\n",
    "    batched = torch.utils.data.DataLoader(dataset, batch_size=batch_size, shuffle=shuffle)\n",
    "    return batched"
   ]
  },
  {
   "cell_type": "markdown",
   "metadata": {},
   "source": [
    "## Data loading"
   ]
  },
  {
   "cell_type": "code",
   "execution_count": 4,
   "metadata": {},
   "outputs": [],
   "source": [
    "X_train = torch.load(\"X_train.pt\").to_dense()\n",
    "X_val = torch.load(\"X_val.pt\").to_dense()\n",
    "X_test = torch.load(\"X_test.pt\").to_dense()\n",
    "y_train = torch.load(\"y_train.pt\")\n",
    "y_val = torch.load(\"y_val.pt\")\n",
    "y_test = torch.load(\"y_test.pt\")\n",
    "whitebox_adv = torch.load(\"whitebox_adv_val.pt\")"
   ]
  },
  {
   "cell_type": "code",
   "execution_count": 5,
   "metadata": {},
   "outputs": [],
   "source": [
    "def zeroPadInput(inputs, amount=50):\n",
    "    # adds zero padding vectors to the end of each sequence\n",
    "    for i in range(len(inputs)):\n",
    "        zero_padding = torch.zeros(inputs[i].shape[0], amount, inputs[i].shape[2])\n",
    "        inputs[i] = torch.cat([inputs[i], zero_padding], dim=1)\n",
    "    return inputs"
   ]
  },
  {
   "cell_type": "code",
   "execution_count": 6,
   "metadata": {},
   "outputs": [],
   "source": [
    "X_train, X_val, X_test = zeroPadInput([X_train, X_val, X_test])"
   ]
  },
  {
   "cell_type": "code",
   "execution_count": 7,
   "metadata": {},
   "outputs": [],
   "source": [
    "concatenatedSamples = torch.cat(whitebox_adv)\n",
    "val_length = int(0.1 * len(concatenatedSamples))\n",
    "train_length = len(concatenatedSamples) - val_length\n",
    "whitebox_train, whitebox_val = torch.utils.data.random_split(concatenatedSamples, [train_length, val_length],\n",
    "                                                             generator=torch.Generator().manual_seed(78))"
   ]
  },
  {
   "cell_type": "code",
   "execution_count": 8,
   "metadata": {},
   "outputs": [
    {
     "data": {
      "text/plain": [
       "3852"
      ]
     },
     "execution_count": 8,
     "metadata": {},
     "output_type": "execute_result"
    }
   ],
   "source": [
    "len(whitebox_train)"
   ]
  },
  {
   "cell_type": "code",
   "execution_count": 9,
   "metadata": {},
   "outputs": [
    {
     "data": {
      "text/plain": [
       "428"
      ]
     },
     "execution_count": 9,
     "metadata": {},
     "output_type": "execute_result"
    }
   ],
   "source": [
    "len(whitebox_val)"
   ]
  },
  {
   "cell_type": "markdown",
   "metadata": {},
   "source": [
    "## Hyperparameters"
   ]
  },
  {
   "cell_type": "code",
   "execution_count": 9,
   "metadata": {},
   "outputs": [],
   "source": [
    "hidden_size = 128\n",
    "lstm_layers = 1\n",
    "epochs = 100\n",
    "train_batch_size = 256\n",
    "early_stopping_patience = 7"
   ]
  },
  {
   "cell_type": "code",
   "execution_count": 10,
   "metadata": {},
   "outputs": [],
   "source": [
    "input_size = X_train.shape[2]\n",
    "sequence_size = X_train.shape[1]"
   ]
  },
  {
   "cell_type": "markdown",
   "metadata": {},
   "source": [
    "## Model initialization"
   ]
  },
  {
   "cell_type": "code",
   "execution_count": 11,
   "metadata": {},
   "outputs": [
    {
     "data": {
      "text/plain": [
       "<torch._C.Generator at 0x7f6bf3b8ae50>"
      ]
     },
     "execution_count": 11,
     "metadata": {},
     "output_type": "execute_result"
    }
   ],
   "source": [
    "torch.manual_seed(78263992)"
   ]
  },
  {
   "cell_type": "code",
   "execution_count": 12,
   "metadata": {},
   "outputs": [],
   "source": [
    "class Net(nn.Module):\n",
    "    def __init__(self, input_size, hidden_size, lstm_layers, pooling):\n",
    "        super(Net, self).__init__()\n",
    "        self.lstm = nn.LSTM(input_size, hidden_size, lstm_layers, batch_first=True)\n",
    "        self.pool = pooling(sequence_size)\n",
    "        self.linear = nn.Linear(hidden_size, 1)\n",
    "\n",
    "    def forward(self, x):\n",
    "        lstm_out = self.lstm(x)[0]\n",
    "        pool_out = self.pool(lstm_out.permute(0, 2, 1))\n",
    "        linear_out = self.linear(pool_out.squeeze())\n",
    "        return torch.squeeze(linear_out)"
   ]
  },
  {
   "cell_type": "code",
   "execution_count": 13,
   "metadata": {},
   "outputs": [],
   "source": [
    "def predict(x, model):\n",
    "    myX = x.to(device)\n",
    "    output = model(myX)\n",
    "    return output > 0"
   ]
  },
  {
   "cell_type": "code",
   "execution_count": 14,
   "metadata": {},
   "outputs": [
    {
     "data": {
      "text/plain": [
       "Net(\n",
       "  (lstm): LSTM(264, 128, batch_first=True)\n",
       "  (pool): MaxPool1d(kernel_size=150, stride=150, padding=0, dilation=1, ceil_mode=False)\n",
       "  (linear): Linear(in_features=128, out_features=1, bias=True)\n",
       ")"
      ]
     },
     "execution_count": 14,
     "metadata": {},
     "output_type": "execute_result"
    }
   ],
   "source": [
    "def initModel(input_size, hidden_size, lstm_layers, pooling):\n",
    "    model = Net(input_size, hidden_size, lstm_layers, pooling)\n",
    "    model.to(device)\n",
    "    return model\n",
    "model = initModel(input_size, hidden_size, lstm_layers, nn.MaxPool1d)\n",
    "model"
   ]
  },
  {
   "cell_type": "markdown",
   "metadata": {},
   "source": [
    "## Train and test procedures"
   ]
  },
  {
   "cell_type": "code",
   "execution_count": 15,
   "metadata": {},
   "outputs": [],
   "source": [
    "def test(x, y, model, batch_size, loss_function):\n",
    "    averageLoss = 0.0\n",
    "    averageSensitivity = 0.0\n",
    "    averageSpecificity = 0.0\n",
    "    numBatches = 0\n",
    "    # batch the data set\n",
    "    batched = get_batched_x_y(x, y, batch_size, False)\n",
    "    for xi, yi in batched:\n",
    "        # move data to device\n",
    "        xi = xi.to(device)\n",
    "        yi = yi.to(device)\n",
    "        # forward pass through model\n",
    "        output = model(xi)\n",
    "        # calculate current loss of model\n",
    "        loss = loss_function(output, yi)\n",
    "        # calculate measures\n",
    "        predicted = output > 0\n",
    "        matches = yi == predicted\n",
    "        sensitivity = matches[yi == 1].sum() / (yi == 1).sum()\n",
    "        specificity = matches[yi == 0].sum() / (yi == 0).sum()\n",
    "        # record all values\n",
    "        averageSensitivity += sensitivity.item()\n",
    "        averageSpecificity += specificity.item()\n",
    "        averageLoss += loss.item()\n",
    "        numBatches += 1\n",
    "    averageSensitivity /= numBatches\n",
    "    averageSpecificity /= numBatches\n",
    "    averageLoss /= numBatches\n",
    "    measures = (averageSensitivity, averageSpecificity)\n",
    "    return measures, averageLoss"
   ]
  },
  {
   "cell_type": "code",
   "execution_count": 16,
   "metadata": {},
   "outputs": [],
   "source": [
    "def recordPerformance(epoch, earlyStop, x, y, x_eval, y_eval,\n",
    "                      x_adv, y_adv, x_adv_eval, y_adv_eval, model, loss_function):\n",
    "    # take record of current performance\n",
    "    _, train_loss = test(x, y, model, 1024, loss_function)\n",
    "    measures, val_loss = test(x_eval, y_eval, model, len(y_eval), loss_function)\n",
    "    print(\"Epoch {} Train Loss {:.6f} Val Loss {:.6f} Sensitivity {:.3f} Specificity {:.3f}\"\n",
    "         .format(epoch, train_loss, val_loss, measures[0], measures[1]))\n",
    "    _, train_loss_adv = test(x_adv, y_adv, model, 1024, loss_function)\n",
    "    _, val_loss_adv = test(x_adv_eval, y_adv_eval, model, len(y_adv_eval), loss_function)\n",
    "    print(\"Epoch {} Adversarial Train Loss {:.6f} Adversarial Val Loss {:.6f}\"\n",
    "         .format(epoch, train_loss_adv, val_loss_adv))\n",
    "    earlyStop((val_loss, val_loss_adv), model)"
   ]
  },
  {
   "cell_type": "code",
   "execution_count": 17,
   "metadata": {},
   "outputs": [],
   "source": [
    "from pytorchtools import EarlyStopping\n",
    "def train(x, y, x_eval, y_eval, adv_train, adv_eval, model, epochs, batch_size, loss_function, optimizer):\n",
    "    earlyStop = EarlyStopping(patience=early_stopping_patience, verbose=True)\n",
    "    advBatched = iter(torch.utils.data.DataLoader(adv_train, batch_size=batch_size, shuffle=True))\n",
    "    adv_train_y = torch.ones(len(adv_train))\n",
    "    adv_eval_y = torch.ones(len(adv_eval))\n",
    "    recordPerformance(\"-\", earlyStop, x, y, x_eval, y_eval, adv_train, adv_train_y,\n",
    "                          adv_eval, adv_eval_y, model, loss_function)\n",
    "    for epoch in range(epochs):\n",
    "        # shuffle and batch the data set\n",
    "        batched = get_batched_x_y(x, y, batch_size, True)\n",
    "        for xi, yi in batched:\n",
    "            # move data to device\n",
    "            xi = xi.to(device)\n",
    "            yi = yi.to(device)\n",
    "            # reset previous gradients\n",
    "            optimizer.zero_grad()\n",
    "            # forward pass through model\n",
    "            output = model(xi)\n",
    "            # calculate current loss of model\n",
    "            loss = loss_function(output, yi)\n",
    "            # backprop\n",
    "            loss.backward()\n",
    "            # take optimization step\n",
    "            optimizer.step()\n",
    "            \n",
    "            # optimize on adversarial examples\n",
    "            try:\n",
    "                x_adv = next(advBatched)\n",
    "            except StopIteration:\n",
    "                # get new random batched dataset if all samples were used up\n",
    "                advBatched = iter(torch.utils.data.DataLoader(adv_train, batch_size=batch_size, shuffle=True))\n",
    "                x_adv = next(advBatched)\n",
    "            \n",
    "            y_adv = torch.ones(len(x_adv))\n",
    "            x_adv = x_adv.to(device)\n",
    "            y_adv = y_adv.to(device)\n",
    "\n",
    "            optimizer.zero_grad()\n",
    "            output = model(x_adv)\n",
    "            loss = loss_function(output, y_adv)\n",
    "            loss.backward()\n",
    "            optimizer.step()\n",
    "        recordPerformance(epoch, earlyStop, x, y, x_eval, y_eval, adv_train, adv_train_y,\n",
    "                          adv_eval, adv_eval_y, model, loss_function)\n",
    "\n",
    "        # should we stop training?\n",
    "        if earlyStop.early_stop:\n",
    "            print(\"Early Stop\")\n",
    "            break\n",
    "\n",
    "    # load latest checkpoint\n",
    "    model.load_state_dict(torch.load('checkpoint.pt'))"
   ]
  },
  {
   "cell_type": "markdown",
   "metadata": {},
   "source": [
    "## Training"
   ]
  },
  {
   "cell_type": "code",
   "execution_count": 18,
   "metadata": {},
   "outputs": [],
   "source": [
    "def getWeightedBCE():\n",
    "    negative_samples = (y_train == 0).sum()\n",
    "    positive_samples = (y_train == 1).sum() + len(y_train) # add amount due to adversarial examples\n",
    "    return nn.BCEWithLogitsLoss(pos_weight=negative_samples/positive_samples)"
   ]
  },
  {
   "cell_type": "code",
   "execution_count": 19,
   "metadata": {},
   "outputs": [],
   "source": [
    "loss_function = getWeightedBCE()\n",
    "optimizer = torch.optim.Adam(model.parameters())"
   ]
  },
  {
   "cell_type": "code",
   "execution_count": 20,
   "metadata": {
    "scrolled": false
   },
   "outputs": [
    {
     "name": "stdout",
     "output_type": "stream",
     "text": [
      "Epoch - Train Loss 0.025165 Val Loss 0.025233 Sensitivity 0.000 Specificity 1.000\n",
      "Epoch - Adversarial Train Loss 0.008895 Adversarial Val Loss 0.008893\n",
      "Validation loss decreased (inf --> (0.025232532992959023, 0.008893392980098724)).  Saving model ...\n",
      "Epoch 0 Train Loss 0.023680 Val Loss 0.023850 Sensitivity 0.914 Specificity 0.583\n",
      "Epoch 0 Adversarial Train Loss 0.007357 Adversarial Val Loss 0.007378\n",
      "Validation loss decreased ((0.025232532992959023, 0.008893392980098724) --> (0.02384982258081436, 0.007378242444247007)).  Saving model ...\n",
      "Epoch 1 Train Loss 0.016348 Val Loss 0.017351 Sensitivity 0.904 Specificity 0.602\n",
      "Epoch 1 Adversarial Train Loss 0.002183 Adversarial Val Loss 0.002155\n",
      "Validation loss decreased ((0.02384982258081436, 0.007378242444247007) --> (0.017351249232888222, 0.002154763787984848)).  Saving model ...\n",
      "Epoch 2 Train Loss 0.013656 Val Loss 0.014212 Sensitivity 0.860 Specificity 0.796\n",
      "Epoch 2 Adversarial Train Loss 0.002178 Adversarial Val Loss 0.002100\n",
      "Validation loss decreased ((0.017351249232888222, 0.002154763787984848) --> (0.014211868867278099, 0.0021004369482398033)).  Saving model ...\n",
      "Epoch 3 Train Loss 0.009360 Val Loss 0.010848 Sensitivity 0.842 Specificity 0.898\n",
      "Epoch 3 Adversarial Train Loss 0.000913 Adversarial Val Loss 0.000856\n",
      "Validation loss decreased ((0.014211868867278099, 0.0021004369482398033) --> (0.010848124511539936, 0.0008562333532609046)).  Saving model ...\n",
      "Epoch 4 Train Loss 0.008866 Val Loss 0.011580 Sensitivity 0.898 Specificity 0.843\n",
      "Epoch 4 Adversarial Train Loss 0.000505 Adversarial Val Loss 0.000499\n",
      "EarlyStopping counter: 1 out of 7\n",
      "Epoch 5 Train Loss 0.007222 Val Loss 0.008827 Sensitivity 0.790 Specificity 0.944\n",
      "Epoch 5 Adversarial Train Loss 0.000847 Adversarial Val Loss 0.000832\n",
      "Validation loss decreased ((0.010848124511539936, 0.0008562333532609046) --> (0.008826780132949352, 0.0008321722270920873)).  Saving model ...\n",
      "Epoch 6 Train Loss 0.006032 Val Loss 0.007276 Sensitivity 0.837 Specificity 0.963\n",
      "Epoch 6 Adversarial Train Loss 0.000649 Adversarial Val Loss 0.000651\n",
      "Validation loss decreased ((0.008826780132949352, 0.0008321722270920873) --> (0.00727560929954052, 0.0006514268461614847)).  Saving model ...\n",
      "Epoch 7 Train Loss 0.005835 Val Loss 0.007601 Sensitivity 0.820 Specificity 0.944\n",
      "Epoch 7 Adversarial Train Loss 0.000912 Adversarial Val Loss 0.000884\n",
      "EarlyStopping counter: 1 out of 7\n",
      "Epoch 8 Train Loss 0.003904 Val Loss 0.005496 Sensitivity 0.964 Specificity 0.926\n",
      "Epoch 8 Adversarial Train Loss 0.000527 Adversarial Val Loss 0.000512\n",
      "Validation loss decreased ((0.00727560929954052, 0.0006514268461614847) --> (0.0054956949315965176, 0.0005116190877743065)).  Saving model ...\n",
      "Epoch 9 Train Loss 0.005715 Val Loss 0.007608 Sensitivity 0.833 Specificity 0.954\n",
      "Epoch 9 Adversarial Train Loss 0.000949 Adversarial Val Loss 0.000896\n",
      "EarlyStopping counter: 1 out of 7\n",
      "Epoch 10 Train Loss 0.003703 Val Loss 0.006134 Sensitivity 0.921 Specificity 0.907\n",
      "Epoch 10 Adversarial Train Loss 0.000623 Adversarial Val Loss 0.000589\n",
      "EarlyStopping counter: 2 out of 7\n",
      "Epoch 11 Train Loss 0.003340 Val Loss 0.004781 Sensitivity 0.914 Specificity 0.963\n",
      "Epoch 11 Adversarial Train Loss 0.000667 Adversarial Val Loss 0.000568\n",
      "EarlyStopping counter: 3 out of 7\n",
      "Epoch 12 Train Loss 0.002741 Val Loss 0.004997 Sensitivity 0.940 Specificity 0.926\n",
      "Epoch 12 Adversarial Train Loss 0.000530 Adversarial Val Loss 0.000527\n",
      "EarlyStopping counter: 4 out of 7\n",
      "Epoch 13 Train Loss 0.002774 Val Loss 0.005956 Sensitivity 0.950 Specificity 0.935\n",
      "Epoch 13 Adversarial Train Loss 0.000501 Adversarial Val Loss 0.000536\n",
      "EarlyStopping counter: 5 out of 7\n",
      "Epoch 14 Train Loss 0.002476 Val Loss 0.005472 Sensitivity 0.953 Specificity 0.935\n",
      "Epoch 14 Adversarial Train Loss 0.000463 Adversarial Val Loss 0.000487\n",
      "Validation loss decreased ((0.0054956949315965176, 0.0005116190877743065) --> (0.0054718549363315105, 0.00048674416029825807)).  Saving model ...\n",
      "Epoch 15 Train Loss 0.002510 Val Loss 0.005540 Sensitivity 0.927 Specificity 0.935\n",
      "Epoch 15 Adversarial Train Loss 0.000539 Adversarial Val Loss 0.000516\n",
      "EarlyStopping counter: 1 out of 7\n",
      "Epoch 16 Train Loss 0.002050 Val Loss 0.005934 Sensitivity 0.969 Specificity 0.907\n",
      "Epoch 16 Adversarial Train Loss 0.000403 Adversarial Val Loss 0.000403\n",
      "EarlyStopping counter: 2 out of 7\n",
      "Epoch 17 Train Loss 0.002150 Val Loss 0.006287 Sensitivity 0.957 Specificity 0.917\n",
      "Epoch 17 Adversarial Train Loss 0.000475 Adversarial Val Loss 0.000444\n",
      "EarlyStopping counter: 3 out of 7\n",
      "Epoch 18 Train Loss 0.004228 Val Loss 0.006070 Sensitivity 0.918 Specificity 0.935\n",
      "Epoch 18 Adversarial Train Loss 0.000435 Adversarial Val Loss 0.000484\n",
      "EarlyStopping counter: 4 out of 7\n",
      "Epoch 19 Train Loss 0.002504 Val Loss 0.006794 Sensitivity 0.969 Specificity 0.926\n",
      "Epoch 19 Adversarial Train Loss 0.000402 Adversarial Val Loss 0.000484\n",
      "EarlyStopping counter: 5 out of 7\n",
      "Epoch 20 Train Loss 0.002056 Val Loss 0.005531 Sensitivity 0.958 Specificity 0.944\n",
      "Epoch 20 Adversarial Train Loss 0.000430 Adversarial Val Loss 0.000564\n",
      "EarlyStopping counter: 6 out of 7\n",
      "Epoch 21 Train Loss 0.002636 Val Loss 0.005868 Sensitivity 0.937 Specificity 0.944\n",
      "Epoch 21 Adversarial Train Loss 0.000540 Adversarial Val Loss 0.000599\n",
      "EarlyStopping counter: 7 out of 7\n",
      "Early Stop\n"
     ]
    }
   ],
   "source": [
    "train(X_train, y_train, X_val, y_val, whitebox_train, whitebox_val,\n",
    "      model, epochs, train_batch_size, loss_function, optimizer)"
   ]
  },
  {
   "cell_type": "markdown",
   "metadata": {},
   "source": [
    "## Testing"
   ]
  },
  {
   "cell_type": "code",
   "execution_count": 21,
   "metadata": {},
   "outputs": [
    {
     "name": "stdout",
     "output_type": "stream",
     "text": [
      "Test Loss 0.006544 Sensitivity 0.957 Specificity 0.935\n"
     ]
    }
   ],
   "source": [
    "test_measures, test_loss = test(X_test, y_test, model, len(y_test), loss_function)\n",
    "print(\"Test Loss {:.6f} Sensitivity {:.3f} Specificity {:.3f}\"\n",
    "         .format(test_loss, test_measures[0], test_measures[1]))"
   ]
  },
  {
   "cell_type": "code",
   "execution_count": 22,
   "metadata": {},
   "outputs": [
    {
     "data": {
      "text/html": [
       "<div>\n",
       "<style scoped>\n",
       "    .dataframe tbody tr th:only-of-type {\n",
       "        vertical-align: middle;\n",
       "    }\n",
       "\n",
       "    .dataframe tbody tr th {\n",
       "        vertical-align: top;\n",
       "    }\n",
       "\n",
       "    .dataframe thead th {\n",
       "        text-align: right;\n",
       "    }\n",
       "</style>\n",
       "<table border=\"1\" class=\"dataframe\">\n",
       "  <thead>\n",
       "    <tr style=\"text-align: right;\">\n",
       "      <th></th>\n",
       "      <th>Predicted Benign</th>\n",
       "      <th>Predicted Malicious</th>\n",
       "    </tr>\n",
       "  </thead>\n",
       "  <tbody>\n",
       "    <tr>\n",
       "      <th>True Benign</th>\n",
       "      <td>101</td>\n",
       "      <td>7</td>\n",
       "    </tr>\n",
       "    <tr>\n",
       "      <th>True Malicious</th>\n",
       "      <td>184</td>\n",
       "      <td>4096</td>\n",
       "    </tr>\n",
       "  </tbody>\n",
       "</table>\n",
       "</div>"
      ],
      "text/plain": [
       "                Predicted Benign  Predicted Malicious\n",
       "True Benign                  101                    7\n",
       "True Malicious               184                 4096"
      ]
     },
     "execution_count": 22,
     "metadata": {},
     "output_type": "execute_result"
    }
   ],
   "source": [
    "from sklearn.metrics import confusion_matrix\n",
    "y_pred = predict(X_test, model).cpu()\n",
    "confMatrix = confusion_matrix(y_test.numpy(), y_pred.numpy())\n",
    "pd.DataFrame(confMatrix, index=[\"True Benign\", \"True Malicious\"], columns=[\"Predicted Benign\", \"Predicted Malicious\"])"
   ]
  }
 ],
 "metadata": {
  "kernelspec": {
   "display_name": "Python 3",
   "language": "python",
   "name": "python3"
  },
  "language_info": {
   "codemirror_mode": {
    "name": "ipython",
    "version": 3
   },
   "file_extension": ".py",
   "mimetype": "text/x-python",
   "name": "python",
   "nbconvert_exporter": "python",
   "pygments_lexer": "ipython3",
   "version": "3.7.9"
  }
 },
 "nbformat": 4,
 "nbformat_minor": 2
}
