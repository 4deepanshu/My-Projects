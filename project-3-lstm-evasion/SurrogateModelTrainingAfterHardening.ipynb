{
 "cells": [
  {
   "cell_type": "markdown",
   "metadata": {},
   "source": [
    "# Surrogate Model Training after hardening"
   ]
  },
  {
   "cell_type": "code",
   "execution_count": 1,
   "metadata": {},
   "outputs": [],
   "source": [
    "import numpy as np\n",
    "import pandas as pd\n",
    "import torch\n",
    "import torch.nn as nn"
   ]
  },
  {
   "cell_type": "code",
   "execution_count": 2,
   "metadata": {},
   "outputs": [],
   "source": [
    "import os\n",
    "os.environ[\"CUDA_VISIBLE_DEVICES\"]=\"5\""
   ]
  },
  {
   "cell_type": "code",
   "execution_count": 3,
   "metadata": {},
   "outputs": [
    {
     "data": {
      "text/plain": [
       "device(type='cuda')"
      ]
     },
     "execution_count": 3,
     "metadata": {},
     "output_type": "execute_result"
    }
   ],
   "source": [
    "torch.manual_seed(78263992)\n",
    "\n",
    "# specify device depending on availability of GPU\n",
    "device = torch.device('cuda' if torch.cuda.is_available() else 'cpu')\n",
    "device"
   ]
  },
  {
   "cell_type": "markdown",
   "metadata": {},
   "source": [
    "## Helper functions"
   ]
  },
  {
   "cell_type": "code",
   "execution_count": 4,
   "metadata": {},
   "outputs": [],
   "source": [
    "# wraps a separated dataset to avoid issues while shuffling\n",
    "class WrapperDataset(torch.utils.data.Dataset):\n",
    "    def __init__(self, x, y):\n",
    "        self.x = x\n",
    "        self.y = y\n",
    "\n",
    "    def __getitem__(self, index):\n",
    "        return self.x[index], self.y[index]\n",
    "\n",
    "    def __len__(self):\n",
    "        return len(self.y)\n",
    "\n",
    "# get the same batch split for inputs and labels\n",
    "def get_batched_x_y(x, y, batch_size, shuffle):\n",
    "    dataset = WrapperDataset(x, y)\n",
    "    batched = torch.utils.data.DataLoader(dataset, batch_size=batch_size, shuffle=shuffle)\n",
    "    return batched"
   ]
  },
  {
   "cell_type": "markdown",
   "metadata": {},
   "source": [
    "## Data loading"
   ]
  },
  {
   "cell_type": "code",
   "execution_count": 5,
   "metadata": {},
   "outputs": [],
   "source": [
    "X_train = torch.load(\"X_train.pt\").to_dense()\n",
    "X_val = torch.load(\"X_val.pt\").to_dense()\n",
    "X_test = torch.load(\"X_test.pt\").to_dense()\n",
    "y_train = torch.load(\"y_train.pt\")\n",
    "y_val = torch.load(\"y_val.pt\")\n",
    "y_test = torch.load(\"y_test.pt\")"
   ]
  },
  {
   "cell_type": "code",
   "execution_count": 6,
   "metadata": {},
   "outputs": [],
   "source": [
    "def zeroPadInput(inputs, amount=50):\n",
    "    # adds zero padding vectors to the end of each sequence\n",
    "    for i in range(len(inputs)):\n",
    "        zero_padding = torch.zeros(inputs[i].shape[0], amount, inputs[i].shape[2])\n",
    "        inputs[i] = torch.cat([inputs[i], zero_padding], dim=1)\n",
    "    return inputs"
   ]
  },
  {
   "cell_type": "code",
   "execution_count": 7,
   "metadata": {},
   "outputs": [],
   "source": [
    "X_train, X_val, X_test = zeroPadInput([X_train, X_val, X_test])"
   ]
  },
  {
   "cell_type": "markdown",
   "metadata": {},
   "source": [
    "## Hyperparameters"
   ]
  },
  {
   "cell_type": "code",
   "execution_count": 8,
   "metadata": {},
   "outputs": [],
   "source": [
    "hidden_size = 256\n",
    "lstm_layers = 2\n",
    "training_epochs = 10\n",
    "augmentation_epochs = 3\n",
    "train_batch_size = 256\n",
    "epsilon = 1e-2"
   ]
  },
  {
   "cell_type": "code",
   "execution_count": 9,
   "metadata": {},
   "outputs": [],
   "source": [
    "input_size = X_train.shape[2]\n",
    "sequence_size = X_train.shape[1]"
   ]
  },
  {
   "cell_type": "markdown",
   "metadata": {},
   "source": [
    "## Model initialization"
   ]
  },
  {
   "cell_type": "code",
   "execution_count": 10,
   "metadata": {},
   "outputs": [],
   "source": [
    "class Net(nn.Module):\n",
    "    def __init__(self, input_size, hidden_size, lstm_layers, pooling):\n",
    "        super(Net, self).__init__()\n",
    "        self.lstm = nn.LSTM(input_size, hidden_size, lstm_layers, batch_first=True)\n",
    "        self.pool = pooling(sequence_size)\n",
    "        self.linear = nn.Linear(hidden_size, 1)\n",
    "\n",
    "    def forward(self, x):\n",
    "        lstm_out = self.lstm(x)[0]\n",
    "        pool_out = self.pool(lstm_out.permute(0, 2, 1))\n",
    "        linear_out = self.linear(pool_out.squeeze())\n",
    "        return torch.squeeze(linear_out)"
   ]
  },
  {
   "cell_type": "code",
   "execution_count": 11,
   "metadata": {},
   "outputs": [],
   "source": [
    "def predict(x, model):\n",
    "    myX = x.to(device)\n",
    "    output = model(myX)\n",
    "    return output > 0"
   ]
  },
  {
   "cell_type": "code",
   "execution_count": 12,
   "metadata": {},
   "outputs": [],
   "source": [
    "def predictProbability(x, model):\n",
    "    myModel = model.to(\"cpu\")\n",
    "    output = model(x)\n",
    "    return torch.sigmoid(output).data"
   ]
  },
  {
   "cell_type": "code",
   "execution_count": 13,
   "metadata": {},
   "outputs": [
    {
     "data": {
      "text/plain": [
       "Net(\n",
       "  (lstm): LSTM(264, 256, num_layers=2, batch_first=True)\n",
       "  (pool): MaxPool1d(kernel_size=150, stride=150, padding=0, dilation=1, ceil_mode=False)\n",
       "  (linear): Linear(in_features=256, out_features=1, bias=True)\n",
       ")"
      ]
     },
     "execution_count": 13,
     "metadata": {},
     "output_type": "execute_result"
    }
   ],
   "source": [
    "def initModel(input_size, hidden_size, lstm_layers, pooling):\n",
    "    model = Net(input_size, hidden_size, lstm_layers, pooling)\n",
    "    model.to(device)\n",
    "    return model\n",
    "surrogateModel = initModel(input_size, hidden_size, lstm_layers, nn.MaxPool1d)\n",
    "surrogateModel"
   ]
  },
  {
   "cell_type": "code",
   "execution_count": 14,
   "metadata": {},
   "outputs": [
    {
     "data": {
      "text/plain": [
       "Net(\n",
       "  (lstm): LSTM(264, 128, batch_first=True)\n",
       "  (pool): MaxPool1d(kernel_size=150, stride=150, padding=0, dilation=1, ceil_mode=False)\n",
       "  (linear): Linear(in_features=128, out_features=1, bias=True)\n",
       ")"
      ]
     },
     "execution_count": 14,
     "metadata": {},
     "output_type": "execute_result"
    }
   ],
   "source": [
    "blackBoxModel = initModel(input_size, 128, 1, nn.MaxPool1d)\n",
    "blackBoxModel.load_state_dict(torch.load(\"hardened-lstm-model_val.pt\"))\n",
    "blackBoxModel"
   ]
  },
  {
   "cell_type": "markdown",
   "metadata": {},
   "source": [
    "## Training procedures"
   ]
  },
  {
   "cell_type": "code",
   "execution_count": 15,
   "metadata": {},
   "outputs": [],
   "source": [
    "def train(x, y, model, epochs, batch_size, loss_function, optimizer):\n",
    "    for epoch in range(epochs):\n",
    "        print(\"Training Epoch\", epoch)\n",
    "        # shuffle and batch the data set\n",
    "        batched = get_batched_x_y(x, y, batch_size, True)\n",
    "        for xi, yi in batched:\n",
    "            # move data to device\n",
    "            xi = xi.to(device)\n",
    "            yi = yi.to(device)\n",
    "            # reset previous gradients\n",
    "            optimizer.zero_grad()\n",
    "            # forward pass through model\n",
    "            output = model(xi)\n",
    "            # calculate current loss of model\n",
    "            loss = loss_function(output, yi)\n",
    "            # backprop\n",
    "            loss.backward()\n",
    "            # take optimization step\n",
    "            optimizer.step()"
   ]
  },
  {
   "cell_type": "code",
   "execution_count": 16,
   "metadata": {},
   "outputs": [],
   "source": [
    "def jacobianAugmentationTraining(blackBoxModel, surrogateModel, training_epochs, augmentation_epochs, xInit,\n",
    "                                 epsilon, batch_size, loss_function, optimizer):\n",
    "    x = xInit\n",
    "    for epoch in range(augmentation_epochs):\n",
    "        print(\"Augmentation Epoch\", epoch)\n",
    "        # get labels from black box model\n",
    "        y = predictProbability(x, blackBoxModel)\n",
    "        # train surrogate model on dataset labeled by black box model\n",
    "        train(x, y, surrogateModel, training_epochs, batch_size, loss_function, optimizer)\n",
    "        # skip augmentation after last training\n",
    "        if epoch == augmentation_epochs - 1:\n",
    "            break\n",
    "        # augment dataset with jacobian\n",
    "        batched = get_batched_x_y(x, y, 128, False)\n",
    "        for xi, yi in batched:\n",
    "            xi = xi.to(device)\n",
    "            # get jacobian of surrogate model\n",
    "            jacobian = torch.diagonal(torch.autograd.functional.jacobian(surrogateModel.forward, xi)).permute(2, 0, 1)\n",
    "            # create new samples\n",
    "            newX = xi + epsilon * torch.sign(jacobian)\n",
    "            # append new samples\n",
    "            x = torch.cat([x, newX.data.cpu()])\n",
    "            print(\"input shape\", x.shape)"
   ]
  },
  {
   "cell_type": "markdown",
   "metadata": {},
   "source": [
    "## Training"
   ]
  },
  {
   "cell_type": "code",
   "execution_count": 17,
   "metadata": {},
   "outputs": [],
   "source": [
    "def getWeightedBCE():\n",
    "    negative_samples = (y_val == 0).sum()\n",
    "    positive_samples = (y_val == 1).sum()\n",
    "    return nn.BCEWithLogitsLoss(pos_weight=negative_samples/positive_samples)"
   ]
  },
  {
   "cell_type": "code",
   "execution_count": 18,
   "metadata": {},
   "outputs": [],
   "source": [
    "loss_function = getWeightedBCE()\n",
    "optimizer = torch.optim.Adam(surrogateModel.parameters())"
   ]
  },
  {
   "cell_type": "code",
   "execution_count": 19,
   "metadata": {},
   "outputs": [
    {
     "name": "stdout",
     "output_type": "stream",
     "text": [
      "Augmentation Epoch 0\n",
      "Training Epoch 0\n",
      "Training Epoch 1\n",
      "Training Epoch 2\n",
      "Training Epoch 3\n",
      "Training Epoch 4\n",
      "Training Epoch 5\n",
      "Training Epoch 6\n",
      "Training Epoch 7\n",
      "Training Epoch 8\n",
      "Training Epoch 9\n",
      "input shape torch.Size([4516, 150, 264])\n",
      "input shape torch.Size([4644, 150, 264])\n",
      "input shape torch.Size([4772, 150, 264])\n",
      "input shape torch.Size([4900, 150, 264])\n",
      "input shape torch.Size([5028, 150, 264])\n",
      "input shape torch.Size([5156, 150, 264])\n",
      "input shape torch.Size([5284, 150, 264])\n",
      "input shape torch.Size([5412, 150, 264])\n",
      "input shape torch.Size([5540, 150, 264])\n",
      "input shape torch.Size([5668, 150, 264])\n",
      "input shape torch.Size([5796, 150, 264])\n",
      "input shape torch.Size([5924, 150, 264])\n",
      "input shape torch.Size([6052, 150, 264])\n",
      "input shape torch.Size([6180, 150, 264])\n",
      "input shape torch.Size([6308, 150, 264])\n",
      "input shape torch.Size([6436, 150, 264])\n",
      "input shape torch.Size([6564, 150, 264])\n",
      "input shape torch.Size([6692, 150, 264])\n",
      "input shape torch.Size([6820, 150, 264])\n",
      "input shape torch.Size([6948, 150, 264])\n",
      "input shape torch.Size([7076, 150, 264])\n",
      "input shape torch.Size([7204, 150, 264])\n",
      "input shape torch.Size([7332, 150, 264])\n",
      "input shape torch.Size([7460, 150, 264])\n",
      "input shape torch.Size([7588, 150, 264])\n",
      "input shape torch.Size([7716, 150, 264])\n",
      "input shape torch.Size([7844, 150, 264])\n",
      "input shape torch.Size([7972, 150, 264])\n",
      "input shape torch.Size([8100, 150, 264])\n",
      "input shape torch.Size([8228, 150, 264])\n",
      "input shape torch.Size([8356, 150, 264])\n",
      "input shape torch.Size([8484, 150, 264])\n",
      "input shape torch.Size([8612, 150, 264])\n",
      "input shape torch.Size([8740, 150, 264])\n",
      "input shape torch.Size([8776, 150, 264])\n",
      "Augmentation Epoch 1\n",
      "Training Epoch 0\n",
      "Training Epoch 1\n",
      "Training Epoch 2\n",
      "Training Epoch 3\n",
      "Training Epoch 4\n",
      "Training Epoch 5\n",
      "Training Epoch 6\n",
      "Training Epoch 7\n",
      "Training Epoch 8\n",
      "Training Epoch 9\n",
      "input shape torch.Size([8904, 150, 264])\n",
      "input shape torch.Size([9032, 150, 264])\n",
      "input shape torch.Size([9160, 150, 264])\n",
      "input shape torch.Size([9288, 150, 264])\n",
      "input shape torch.Size([9416, 150, 264])\n",
      "input shape torch.Size([9544, 150, 264])\n",
      "input shape torch.Size([9672, 150, 264])\n",
      "input shape torch.Size([9800, 150, 264])\n",
      "input shape torch.Size([9928, 150, 264])\n",
      "input shape torch.Size([10056, 150, 264])\n",
      "input shape torch.Size([10184, 150, 264])\n",
      "input shape torch.Size([10312, 150, 264])\n",
      "input shape torch.Size([10440, 150, 264])\n",
      "input shape torch.Size([10568, 150, 264])\n",
      "input shape torch.Size([10696, 150, 264])\n",
      "input shape torch.Size([10824, 150, 264])\n",
      "input shape torch.Size([10952, 150, 264])\n",
      "input shape torch.Size([11080, 150, 264])\n",
      "input shape torch.Size([11208, 150, 264])\n",
      "input shape torch.Size([11336, 150, 264])\n",
      "input shape torch.Size([11464, 150, 264])\n",
      "input shape torch.Size([11592, 150, 264])\n",
      "input shape torch.Size([11720, 150, 264])\n",
      "input shape torch.Size([11848, 150, 264])\n",
      "input shape torch.Size([11976, 150, 264])\n",
      "input shape torch.Size([12104, 150, 264])\n",
      "input shape torch.Size([12232, 150, 264])\n",
      "input shape torch.Size([12360, 150, 264])\n",
      "input shape torch.Size([12488, 150, 264])\n",
      "input shape torch.Size([12616, 150, 264])\n",
      "input shape torch.Size([12744, 150, 264])\n",
      "input shape torch.Size([12872, 150, 264])\n",
      "input shape torch.Size([13000, 150, 264])\n",
      "input shape torch.Size([13128, 150, 264])\n",
      "input shape torch.Size([13256, 150, 264])\n",
      "input shape torch.Size([13384, 150, 264])\n",
      "input shape torch.Size([13512, 150, 264])\n",
      "input shape torch.Size([13640, 150, 264])\n",
      "input shape torch.Size([13768, 150, 264])\n",
      "input shape torch.Size([13896, 150, 264])\n",
      "input shape torch.Size([14024, 150, 264])\n",
      "input shape torch.Size([14152, 150, 264])\n",
      "input shape torch.Size([14280, 150, 264])\n",
      "input shape torch.Size([14408, 150, 264])\n",
      "input shape torch.Size([14536, 150, 264])\n",
      "input shape torch.Size([14664, 150, 264])\n",
      "input shape torch.Size([14792, 150, 264])\n",
      "input shape torch.Size([14920, 150, 264])\n",
      "input shape torch.Size([15048, 150, 264])\n",
      "input shape torch.Size([15176, 150, 264])\n",
      "input shape torch.Size([15304, 150, 264])\n",
      "input shape torch.Size([15432, 150, 264])\n",
      "input shape torch.Size([15560, 150, 264])\n",
      "input shape torch.Size([15688, 150, 264])\n",
      "input shape torch.Size([15816, 150, 264])\n",
      "input shape torch.Size([15944, 150, 264])\n",
      "input shape torch.Size([16072, 150, 264])\n",
      "input shape torch.Size([16200, 150, 264])\n",
      "input shape torch.Size([16328, 150, 264])\n",
      "input shape torch.Size([16456, 150, 264])\n",
      "input shape torch.Size([16584, 150, 264])\n",
      "input shape torch.Size([16712, 150, 264])\n",
      "input shape torch.Size([16840, 150, 264])\n",
      "input shape torch.Size([16968, 150, 264])\n",
      "input shape torch.Size([17096, 150, 264])\n",
      "input shape torch.Size([17224, 150, 264])\n",
      "input shape torch.Size([17352, 150, 264])\n",
      "input shape torch.Size([17480, 150, 264])\n",
      "input shape torch.Size([17552, 150, 264])\n",
      "Augmentation Epoch 2\n",
      "Training Epoch 0\n",
      "Training Epoch 1\n",
      "Training Epoch 2\n",
      "Training Epoch 3\n",
      "Training Epoch 4\n",
      "Training Epoch 5\n",
      "Training Epoch 6\n",
      "Training Epoch 7\n",
      "Training Epoch 8\n",
      "Training Epoch 9\n"
     ]
    }
   ],
   "source": [
    "jacobianAugmentationTraining(blackBoxModel, surrogateModel, training_epochs, augmentation_epochs, X_val, epsilon,\n",
    "                             train_batch_size, loss_function, optimizer)"
   ]
  },
  {
   "cell_type": "markdown",
   "metadata": {},
   "source": [
    "## Saving model"
   ]
  },
  {
   "cell_type": "code",
   "execution_count": 20,
   "metadata": {},
   "outputs": [],
   "source": [
    "torch.save(surrogateModel.state_dict(), \"hardened-surrogate-model_val.pt\")"
   ]
  },
  {
   "cell_type": "markdown",
   "metadata": {},
   "source": [
    "## Testing"
   ]
  },
  {
   "cell_type": "code",
   "execution_count": 21,
   "metadata": {},
   "outputs": [
    {
     "data": {
      "text/plain": [
       "<All keys matched successfully>"
      ]
     },
     "execution_count": 21,
     "metadata": {},
     "output_type": "execute_result"
    }
   ],
   "source": [
    "surrogateModel.load_state_dict(torch.load(\"hardened-surrogate-model_val.pt\"))"
   ]
  },
  {
   "cell_type": "code",
   "execution_count": 22,
   "metadata": {},
   "outputs": [],
   "source": [
    "blackBoxPredictions = predictProbability(X_test, blackBoxModel)\n",
    "surrogatePredictions = predictProbability(X_test, surrogateModel)\n",
    "difference = blackBoxPredictions - surrogatePredictions"
   ]
  },
  {
   "cell_type": "code",
   "execution_count": 23,
   "metadata": {
    "scrolled": true
   },
   "outputs": [
    {
     "name": "stdout",
     "output_type": "stream",
     "text": [
      "Sensitivity 0.6841121315956116 Specificity 0.9814814925193787\n"
     ]
    }
   ],
   "source": [
    "matches = (surrogatePredictions > 0.5) == y_test\n",
    "sensitivity = matches[y_test == 1].sum() / (y_test == 1).sum()\n",
    "specificity = matches[y_test == 0].sum() / (y_test == 0).sum()\n",
    "print(\"Sensitivity\", sensitivity.item(), \"Specificity\", specificity.item())"
   ]
  },
  {
   "cell_type": "code",
   "execution_count": 24,
   "metadata": {},
   "outputs": [
    {
     "data": {
      "image/png": "[encoded data removed]",
      "text/plain": [
       "<Figure size 432x288 with 1 Axes>"
      ]
     },
     "metadata": {
      "needs_background": "light"
     },
     "output_type": "display_data"
    }
   ],
   "source": [
    "import matplotlib.pyplot as plt\n",
    "plt.hist(difference.numpy(), bins=30)\n",
    "plt.xlabel(\"Difference of predicted probability between black-box and surrogate model\")\n",
    "plt.ylabel(\"number of samples\")\n",
    "plt.show()"
   ]
  },
  {
   "cell_type": "code",
   "execution_count": 25,
   "metadata": {},
   "outputs": [],
   "source": [
    "blackBoxPredictions = predictProbability(X_val, blackBoxModel)\n",
    "surrogatePredictions = predictProbability(X_val, surrogateModel)\n",
    "difference = blackBoxPredictions - surrogatePredictions"
   ]
  },
  {
   "cell_type": "code",
   "execution_count": 26,
   "metadata": {},
   "outputs": [
    {
     "data": {
      "image/png": "[encoded data removed]",
      "text/plain": [
       "<Figure size 432x288 with 1 Axes>"
      ]
     },
     "metadata": {
      "needs_background": "light"
     },
     "output_type": "display_data"
    }
   ],
   "source": [
    "import matplotlib.pyplot as plt\n",
    "plt.hist(difference.numpy(), bins=30)\n",
    "plt.show()"
   ]
  },
  {
   "cell_type": "code",
   "execution_count": null,
   "metadata": {},
   "outputs": [],
   "source": []
  }
 ],
 "metadata": {
  "kernelspec": {
   "display_name": "Python 3",
   "language": "python",
   "name": "python3"
  },
  "language_info": {
   "codemirror_mode": {
    "name": "ipython",
    "version": 3
   },
   "file_extension": ".py",
   "mimetype": "text/x-python",
   "name": "python",
   "nbconvert_exporter": "python",
   "pygments_lexer": "ipython3",
   "version": "3.8.5"
  }
 },
 "nbformat": 4,
 "nbformat_minor": 4
}
