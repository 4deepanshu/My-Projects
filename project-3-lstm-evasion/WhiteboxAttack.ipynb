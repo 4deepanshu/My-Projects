{
 "cells": [
  {
   "cell_type": "code",
   "execution_count": 1,
   "metadata": {},
   "outputs": [],
   "source": [
    "import numpy as np\n",
    "import pandas as pd\n",
    "import torch\n",
    "import torch.nn as nn\n",
    "from random import sample\n",
    "import random\n",
    "import gzip\n",
    "import gzip\n",
    "import shutil\n",
    "import matplotlib.pyplot as plt\n"
   ]
  },
  {
   "cell_type": "code",
   "execution_count": 2,
   "metadata": {},
   "outputs": [],
   "source": [
    "import os\n",
    "os.environ[\"CUDA_VISIBLE_DEVICES\"]=\"6\""
   ]
  },
  {
   "cell_type": "code",
   "execution_count": 3,
   "metadata": {},
   "outputs": [
    {
     "data": {
      "text/plain": [
       "device(type='cuda')"
      ]
     },
     "execution_count": 3,
     "metadata": {},
     "output_type": "execute_result"
    }
   ],
   "source": [
    "torch.manual_seed(78263992)\n",
    "\n",
    "# specify device depending on availability of GPU\n",
    "device = torch.device('cuda' if torch.cuda.is_available() else 'cpu')\n",
    "device"
   ]
  },
  {
   "cell_type": "markdown",
   "metadata": {},
   "source": [
    "## Helper functions"
   ]
  },
  {
   "cell_type": "code",
   "execution_count": 4,
   "metadata": {},
   "outputs": [],
   "source": [
    "# wraps a separated dataset to avoid issues while shuffling\n",
    "class WrapperDataset(torch.utils.data.Dataset):\n",
    "    def __init__(self, x, y):\n",
    "        self.x = x\n",
    "        self.y = y\n",
    "\n",
    "    def __getitem__(self, index):\n",
    "        return self.x[index], self.y[index]\n",
    "\n",
    "    def __len__(self):\n",
    "        return len(self.y)\n",
    "\n",
    "# get the same batch split for inputs and labels\n",
    "def get_batched_x_y(x, y, batch_size, shuffle):\n",
    "    dataset = WrapperDataset(x, y)\n",
    "    batched = torch.utils.data.DataLoader(dataset, batch_size=batch_size, shuffle=shuffle)\n",
    "    return batched\n",
    "\n",
    "def getMalicious(X, y):\n",
    "    X_mal = []\n",
    "    for i in range(len(y)):\n",
    "        if y[i] == 1:\n",
    "            X_mal.append(X[i])\n",
    "    X_mal = torch.stack(X_mal)\n",
    "    y_mal = y[y.nonzero()].squeeze(1)\n",
    "    \n",
    "    return X_mal, y_mal\n",
    "\n",
    "def zeroPadInput(inputs, amount=50):\n",
    "    # adds zero padding vectors to the end of each sequence\n",
    "    for i in range(len(inputs)):\n",
    "        zero_padding = torch.zeros(inputs[i].shape[0], amount, inputs[i].shape[2])\n",
    "        inputs[i] = torch.cat([inputs[i], zero_padding], dim=1)\n",
    "    return inputs\n",
    "\n"
   ]
  },
  {
   "cell_type": "markdown",
   "metadata": {},
   "source": [
    "## Data Loading"
   ]
  },
  {
   "cell_type": "code",
   "execution_count": 5,
   "metadata": {},
   "outputs": [],
   "source": [
    "X_train = torch.load(\"X_train.pt\").to_dense()\n",
    "X_val = torch.load(\"X_val.pt\").to_dense()\n",
    "X_test = torch.load(\"X_test.pt\").to_dense()\n",
    "y_train = torch.load(\"y_train.pt\")\n",
    "y_val = torch.load(\"y_val.pt\")\n",
    "y_test = torch.load(\"y_test.pt\")"
   ]
  },
  {
   "cell_type": "code",
   "execution_count": 6,
   "metadata": {},
   "outputs": [],
   "source": [
    "X_train, X_val, X_test = zeroPadInput([X_train, X_val, X_test])"
   ]
  },
  {
   "cell_type": "markdown",
   "metadata": {},
   "source": [
    "## Model Loading"
   ]
  },
  {
   "cell_type": "code",
   "execution_count": 7,
   "metadata": {},
   "outputs": [],
   "source": [
    "hidden_size = 128\n",
    "lstm_layers = 1\n",
    "epochs = 100\n",
    "train_batch_size = 256\n",
    "early_stopping_patience = 7"
   ]
  },
  {
   "cell_type": "code",
   "execution_count": 8,
   "metadata": {},
   "outputs": [],
   "source": [
    "input_size = X_train.shape[2]\n",
    "sequence_size = X_train.shape[1]\n",
    "loss_function = nn.BCEWithLogitsLoss()"
   ]
  },
  {
   "cell_type": "code",
   "execution_count": 9,
   "metadata": {},
   "outputs": [],
   "source": [
    "class Net(nn.Module):\n",
    "    def __init__(self, input_size, hidden_size, lstm_layers, pooling):\n",
    "        super(Net, self).__init__()\n",
    "        self.lstm = nn.LSTM(input_size, hidden_size, lstm_layers, batch_first=True)\n",
    "        self.pool = pooling(sequence_size)\n",
    "        self.linear = nn.Linear(hidden_size, 1)\n",
    "\n",
    "    def forward(self, x):\n",
    "        lstm_out = self.lstm(x)[0]\n",
    "        pool_out = self.pool(lstm_out.permute(0, 2, 1))\n",
    "        linear_out = self.linear(pool_out.squeeze())\n",
    "        return torch.squeeze(linear_out)"
   ]
  },
  {
   "cell_type": "code",
   "execution_count": 10,
   "metadata": {},
   "outputs": [],
   "source": [
    "def predict(x, model):\n",
    "    myX = x.to(device)\n",
    "    output = model(myX)\n",
    "    return output > 0"
   ]
  },
  {
   "cell_type": "code",
   "execution_count": 11,
   "metadata": {},
   "outputs": [
    {
     "data": {
      "text/plain": [
       "Net(\n",
       "  (lstm): LSTM(264, 128, batch_first=True)\n",
       "  (pool): MaxPool1d(kernel_size=150, stride=150, padding=0, dilation=1, ceil_mode=False)\n",
       "  (linear): Linear(in_features=128, out_features=1, bias=True)\n",
       ")"
      ]
     },
     "execution_count": 11,
     "metadata": {},
     "output_type": "execute_result"
    }
   ],
   "source": [
    "def initModel(input_size, hidden_size, lstm_layers, pooling):\n",
    "    model = Net(input_size, hidden_size, lstm_layers, pooling)\n",
    "    model.to(device)\n",
    "    return model\n",
    "model = initModel(input_size, hidden_size, lstm_layers, nn.MaxPool1d)\n",
    "model"
   ]
  },
  {
   "cell_type": "code",
   "execution_count": 12,
   "metadata": {},
   "outputs": [],
   "source": [
    "def test(x, y, model, batch_size, loss_function):\n",
    "    averageLoss = 0.0\n",
    "    averageSensitivity = 0.0\n",
    "    averageSpecificity = 0.0\n",
    "    numBatches = 0\n",
    "    # batch the data set\n",
    "    batched = get_batched_x_y(x, y, batch_size, False)\n",
    "    for xi, yi in batched:\n",
    "        # move data to device\n",
    "        xi = xi.to(device)\n",
    "        yi = yi.to(device)\n",
    "        # forward pass through model\n",
    "        output = model(xi)\n",
    "        # calculate current loss of model\n",
    "        loss = loss_function(output, yi)\n",
    "        # calculate measures\n",
    "        predicted = output > 0\n",
    "        matches = yi == predicted\n",
    "        sensitivity = matches[yi == 1].sum() / (yi == 1).sum()\n",
    "        specificity = matches[yi == 0].sum() / (yi == 0).sum()\n",
    "        # record all values\n",
    "        averageSensitivity += sensitivity.item()\n",
    "        averageSpecificity += specificity.item()\n",
    "        averageLoss += loss.item()\n",
    "        numBatches += 1\n",
    "    averageSensitivity /= numBatches\n",
    "    averageSpecificity /= numBatches\n",
    "    averageLoss /= numBatches\n",
    "    measures = (averageSensitivity, averageSpecificity)\n",
    "    return measures, averageLoss"
   ]
  },
  {
   "cell_type": "code",
   "execution_count": 13,
   "metadata": {},
   "outputs": [
    {
     "data": {
      "text/plain": [
       "Net(\n",
       "  (lstm): LSTM(264, 128, batch_first=True)\n",
       "  (pool): MaxPool1d(kernel_size=150, stride=150, padding=0, dilation=1, ceil_mode=False)\n",
       "  (linear): Linear(in_features=128, out_features=1, bias=True)\n",
       ")"
      ]
     },
     "execution_count": 13,
     "metadata": {},
     "output_type": "execute_result"
    }
   ],
   "source": [
    "model.load_state_dict(torch.load('final-lstm-model.pt'))\n",
    "model.eval()"
   ]
  },
  {
   "cell_type": "code",
   "execution_count": 14,
   "metadata": {},
   "outputs": [
    {
     "name": "stdout",
     "output_type": "stream",
     "text": [
      "Test Loss 0.073531 Sensitivity 0.976 Specificity 0.935\n"
     ]
    }
   ],
   "source": [
    "test_measures, test_loss = test(X_test, y_test, model, len(y_test), loss_function)\n",
    "print(\"Test Loss {:.6f} Sensitivity {:.3f} Specificity {:.3f}\"\n",
    "         .format(test_loss, test_measures[0], test_measures[1]))"
   ]
  },
  {
   "cell_type": "code",
   "execution_count": 15,
   "metadata": {},
   "outputs": [
    {
     "data": {
      "text/plain": [
       "Net(\n",
       "  (lstm): LSTM(264, 128, batch_first=True)\n",
       "  (pool): MaxPool1d(kernel_size=150, stride=150, padding=0, dilation=1, ceil_mode=False)\n",
       "  (linear): Linear(in_features=128, out_features=1, bias=True)\n",
       ")"
      ]
     },
     "execution_count": 15,
     "metadata": {},
     "output_type": "execute_result"
    }
   ],
   "source": [
    "model.train()"
   ]
  },
  {
   "cell_type": "markdown",
   "metadata": {},
   "source": [
    "# Attacks"
   ]
  },
  {
   "cell_type": "code",
   "execution_count": 16,
   "metadata": {},
   "outputs": [],
   "source": [
    "#create API dictionary\n",
    "idx = torch.tensor(range(0, 264))\n",
    "api_dict = torch.zeros(len(idx), idx.max()+1).scatter_(1, idx.unsqueeze(1), 1.)"
   ]
  },
  {
   "cell_type": "code",
   "execution_count": 17,
   "metadata": {},
   "outputs": [],
   "source": [
    "#insertion of api into sequence\n",
    "def insert_api(seq, api, i):\n",
    "    api = api.to(device)\n",
    "    new_seq = torch.cat((torch.cat((seq[:i],api.unsqueeze(0))),seq[i:-1]))\n",
    "    return new_seq "
   ]
  },
  {
   "cell_type": "code",
   "execution_count": 18,
   "metadata": {},
   "outputs": [
    {
     "name": "stderr",
     "output_type": "stream",
     "text": [
      "<ipython-input-4-1b10f05afa54>:25: UserWarning: This overload of nonzero is deprecated:\n",
      "\tnonzero()\n",
      "Consider using one of the following signatures instead:\n",
      "\tnonzero(*, bool as_tuple) (Triggered internally at  ../torch/csrc/utils/python_arg_parser.cpp:962.)\n",
      "  y_mal = y[y.nonzero()].squeeze(1)\n"
     ]
    }
   ],
   "source": [
    "X_val_mal, y_val_mal = getMalicious(X_val, y_val)\n",
    "batched_data = get_batched_x_y(X_val_mal, y_val_mal, 64, False)\n",
    "X_val_mal = []\n",
    "for xi, yi in batched_data:\n",
    "    X_val_mal.append(xi)"
   ]
  },
  {
   "cell_type": "code",
   "execution_count": 19,
   "metadata": {},
   "outputs": [],
   "source": [
    "#batched version (jacobian is calculated at every batch instead of every sample)\n",
    "def advGeneration(X_init, model, surrogate_model):\n",
    "    for m in range(len(X_init)):\n",
    "        xi = X_init[m].clone()\n",
    "        xi.requires_grad = True\n",
    "        xi = xi.to(device)\n",
    "        jacobian = torch.diagonal(torch.autograd.functional.jacobian(surrogate_model.forward, xi)).permute(2, 0, 1)\n",
    "        for i in range(xi.shape[0]):\n",
    "            x_sample = xi[i]\n",
    "            counter = 0   \n",
    "            while predict(x_sample.unsqueeze(0), model)and counter<50:\n",
    "                random_position = random.randint(0,torch.count_nonzero(x_sample.detach())-1)\n",
    "                    #check if sample is predicted as benign\n",
    "                api_difs = []\n",
    "                for api in api_dict:\n",
    "                    #insert API into sequence\n",
    "                    new_seq = insert_api(x_sample.squeeze(), api, random_position)\n",
    "                    #norm of difference between new sequence and jacobian\n",
    "                    dif = torch.norm(torch.sign(x_sample) - torch.sign(jacobian[i]))\n",
    "                    api_difs.append((dif,new_seq))\n",
    "                min_seq = min(api_difs, key = lambda t: t[0])\n",
    "                #replace sequence\n",
    "                xi[i] = min_seq[1]\n",
    "                counter += 1\n",
    "            #replace batch\n",
    "            X_init[m] = xi\n",
    "    return X_init"
   ]
  },
  {
   "cell_type": "markdown",
   "metadata": {},
   "source": [
    "## Whitebox Attack"
   ]
  },
  {
   "cell_type": "code",
   "execution_count": 29,
   "metadata": {},
   "outputs": [
    {
     "name": "stdout",
     "output_type": "stream",
     "text": [
      "5\n",
      "2\n",
      "9\n",
      "32\n",
      "2\n",
      "0\n",
      "10\n",
      "17\n"
     ]
    },
    {
     "ename": "KeyboardInterrupt",
     "evalue": "",
     "output_type": "error",
     "traceback": [
      "\u001b[0;31m---------------------------------------------------------------------------\u001b[0m",
      "\u001b[0;31mKeyboardInterrupt\u001b[0m                         Traceback (most recent call last)",
      "\u001b[0;32m<ipython-input-29-e7d47b993c86>\u001b[0m in \u001b[0;36m<module>\u001b[0;34m\u001b[0m\n\u001b[0;32m----> 1\u001b[0;31m \u001b[0mwhitebox_adv\u001b[0m \u001b[0;34m=\u001b[0m \u001b[0madvGeneration\u001b[0m\u001b[0;34m(\u001b[0m\u001b[0mX_val_mal\u001b[0m\u001b[0;34m,\u001b[0m \u001b[0mmodel\u001b[0m\u001b[0;34m,\u001b[0m \u001b[0mmodel\u001b[0m\u001b[0;34m)\u001b[0m\u001b[0;34m\u001b[0m\u001b[0;34m\u001b[0m\u001b[0m\n\u001b[0m",
      "\u001b[0;32m<ipython-input-28-f17bb286c6b0>\u001b[0m in \u001b[0;36madvGeneration\u001b[0;34m(X_init, model, surrogate_model)\u001b[0m\n\u001b[1;32m     17\u001b[0m                     \u001b[0mnew_seq\u001b[0m \u001b[0;34m=\u001b[0m \u001b[0minsert_api\u001b[0m\u001b[0;34m(\u001b[0m\u001b[0mx_sample\u001b[0m\u001b[0;34m.\u001b[0m\u001b[0msqueeze\u001b[0m\u001b[0;34m(\u001b[0m\u001b[0;34m)\u001b[0m\u001b[0;34m,\u001b[0m \u001b[0mapi\u001b[0m\u001b[0;34m,\u001b[0m \u001b[0mrandom_position\u001b[0m\u001b[0;34m)\u001b[0m\u001b[0;34m\u001b[0m\u001b[0;34m\u001b[0m\u001b[0m\n\u001b[1;32m     18\u001b[0m                     \u001b[0;31m#norm of difference between new sequence and jacobian\u001b[0m\u001b[0;34m\u001b[0m\u001b[0;34m\u001b[0m\u001b[0;34m\u001b[0m\u001b[0m\n\u001b[0;32m---> 19\u001b[0;31m                     \u001b[0mdif\u001b[0m \u001b[0;34m=\u001b[0m \u001b[0mtorch\u001b[0m\u001b[0;34m.\u001b[0m\u001b[0mnorm\u001b[0m\u001b[0;34m(\u001b[0m\u001b[0mtorch\u001b[0m\u001b[0;34m.\u001b[0m\u001b[0msign\u001b[0m\u001b[0;34m(\u001b[0m\u001b[0mx_sample\u001b[0m\u001b[0;34m)\u001b[0m \u001b[0;34m-\u001b[0m \u001b[0mtorch\u001b[0m\u001b[0;34m.\u001b[0m\u001b[0msign\u001b[0m\u001b[0;34m(\u001b[0m\u001b[0mjacobian\u001b[0m\u001b[0;34m[\u001b[0m\u001b[0mi\u001b[0m\u001b[0;34m]\u001b[0m\u001b[0;34m)\u001b[0m\u001b[0;34m)\u001b[0m\u001b[0;34m\u001b[0m\u001b[0;34m\u001b[0m\u001b[0m\n\u001b[0m\u001b[1;32m     20\u001b[0m                     \u001b[0mapi_difs\u001b[0m\u001b[0;34m.\u001b[0m\u001b[0mappend\u001b[0m\u001b[0;34m(\u001b[0m\u001b[0;34m(\u001b[0m\u001b[0mdif\u001b[0m\u001b[0;34m,\u001b[0m\u001b[0mnew_seq\u001b[0m\u001b[0;34m)\u001b[0m\u001b[0;34m)\u001b[0m\u001b[0;34m\u001b[0m\u001b[0;34m\u001b[0m\u001b[0m\n\u001b[1;32m     21\u001b[0m                 \u001b[0mmin_seq\u001b[0m \u001b[0;34m=\u001b[0m \u001b[0mmin\u001b[0m\u001b[0;34m(\u001b[0m\u001b[0mapi_difs\u001b[0m\u001b[0;34m,\u001b[0m \u001b[0mkey\u001b[0m \u001b[0;34m=\u001b[0m \u001b[0;32mlambda\u001b[0m \u001b[0mt\u001b[0m\u001b[0;34m:\u001b[0m \u001b[0mt\u001b[0m\u001b[0;34m[\u001b[0m\u001b[0;36m0\u001b[0m\u001b[0;34m]\u001b[0m\u001b[0;34m)\u001b[0m\u001b[0;34m\u001b[0m\u001b[0;34m\u001b[0m\u001b[0m\n",
      "\u001b[0;32m/opt/conda/lib/python3.8/site-packages/torch/functional.py\u001b[0m in \u001b[0;36mnorm\u001b[0;34m(input, p, dim, keepdim, out, dtype)\u001b[0m\n\u001b[1;32m   1313\u001b[0m         \u001b[0;32mif\u001b[0m \u001b[0misinstance\u001b[0m\u001b[0;34m(\u001b[0m\u001b[0mp\u001b[0m\u001b[0;34m,\u001b[0m \u001b[0mstr\u001b[0m\u001b[0;34m)\u001b[0m\u001b[0;34m:\u001b[0m\u001b[0;34m\u001b[0m\u001b[0;34m\u001b[0m\u001b[0m\n\u001b[1;32m   1314\u001b[0m             \u001b[0;32mif\u001b[0m \u001b[0mp\u001b[0m \u001b[0;34m==\u001b[0m \u001b[0;34m\"fro\"\u001b[0m\u001b[0;34m:\u001b[0m\u001b[0;34m\u001b[0m\u001b[0;34m\u001b[0m\u001b[0m\n\u001b[0;32m-> 1315\u001b[0;31m                 \u001b[0;32mreturn\u001b[0m \u001b[0m_VF\u001b[0m\u001b[0;34m.\u001b[0m\u001b[0mfrobenius_norm\u001b[0m\u001b[0;34m(\u001b[0m\u001b[0minput\u001b[0m\u001b[0;34m,\u001b[0m \u001b[0mdim\u001b[0m\u001b[0;34m=\u001b[0m\u001b[0;34m(\u001b[0m\u001b[0;34m)\u001b[0m\u001b[0;34m,\u001b[0m \u001b[0mkeepdim\u001b[0m\u001b[0;34m=\u001b[0m\u001b[0mkeepdim\u001b[0m\u001b[0;34m)\u001b[0m  \u001b[0;31m# type: ignore\u001b[0m\u001b[0;34m\u001b[0m\u001b[0;34m\u001b[0m\u001b[0m\n\u001b[0m\u001b[1;32m   1316\u001b[0m         \u001b[0;32mif\u001b[0m \u001b[0;32mnot\u001b[0m \u001b[0misinstance\u001b[0m\u001b[0;34m(\u001b[0m\u001b[0mp\u001b[0m\u001b[0;34m,\u001b[0m \u001b[0mstr\u001b[0m\u001b[0;34m)\u001b[0m\u001b[0;34m:\u001b[0m\u001b[0;34m\u001b[0m\u001b[0;34m\u001b[0m\u001b[0m\n\u001b[1;32m   1317\u001b[0m             \u001b[0m_dim\u001b[0m \u001b[0;34m=\u001b[0m \u001b[0;34m[\u001b[0m\u001b[0mi\u001b[0m \u001b[0;32mfor\u001b[0m \u001b[0mi\u001b[0m \u001b[0;32min\u001b[0m \u001b[0mrange\u001b[0m\u001b[0;34m(\u001b[0m\u001b[0mndim\u001b[0m\u001b[0;34m)\u001b[0m\u001b[0;34m]\u001b[0m  \u001b[0;31m# noqa: C416 TODO: rewrite as list(range(m))\u001b[0m\u001b[0;34m\u001b[0m\u001b[0;34m\u001b[0m\u001b[0m\n",
      "\u001b[0;31mKeyboardInterrupt\u001b[0m: "
     ]
    }
   ],
   "source": [
    "whitebox_adv = advGeneration(X_val_mal, model, model)"
   ]
  },
  {
   "cell_type": "code",
   "execution_count": 353,
   "metadata": {},
   "outputs": [],
   "source": [
    "torch.save(whitebox_adv, 'whitebox_adv_val.pt')"
   ]
  },
  {
   "cell_type": "code",
   "execution_count": 354,
   "metadata": {},
   "outputs": [],
   "source": [
    "with open('whitebox_adv_val.pt', 'rb') as f_in:\n",
    "    with gzip.open('whitebox_adv_val.gz', 'wb') as f_out:\n",
    "        shutil.copyfileobj(f_in, f_out)"
   ]
  },
  {
   "cell_type": "markdown",
   "metadata": {},
   "source": [
    "## Surrogate Model Loading"
   ]
  },
  {
   "cell_type": "code",
   "execution_count": 20,
   "metadata": {},
   "outputs": [],
   "source": [
    "hidden_size = 256\n",
    "lstm_layers = 2\n",
    "training_epochs = 10\n",
    "augmentation_epochs = 3\n",
    "train_batch_size = 256\n",
    "epsilon = 1e-2"
   ]
  },
  {
   "cell_type": "code",
   "execution_count": 21,
   "metadata": {},
   "outputs": [],
   "source": [
    "class Net(nn.Module):\n",
    "    def __init__(self, input_size, hidden_size, lstm_layers, pooling):\n",
    "        super(Net, self).__init__()\n",
    "        self.lstm = nn.LSTM(input_size, hidden_size, lstm_layers, batch_first=True)\n",
    "        self.pool = pooling(sequence_size)\n",
    "        self.linear = nn.Linear(hidden_size, 1)\n",
    "\n",
    "    def forward(self, x):\n",
    "        lstm_out = self.lstm(x)[0]\n",
    "        pool_out = self.pool(lstm_out.permute(0, 2, 1))\n",
    "        linear_out = self.linear(pool_out.squeeze())\n",
    "        return torch.squeeze(linear_out)"
   ]
  },
  {
   "cell_type": "code",
   "execution_count": 22,
   "metadata": {},
   "outputs": [
    {
     "data": {
      "text/plain": [
       "Net(\n",
       "  (lstm): LSTM(264, 256, num_layers=2, batch_first=True)\n",
       "  (pool): MaxPool1d(kernel_size=150, stride=150, padding=0, dilation=1, ceil_mode=False)\n",
       "  (linear): Linear(in_features=256, out_features=1, bias=True)\n",
       ")"
      ]
     },
     "execution_count": 22,
     "metadata": {},
     "output_type": "execute_result"
    }
   ],
   "source": [
    "def initModel(input_size, hidden_size, lstm_layers, pooling):\n",
    "    model = Net(input_size, hidden_size, lstm_layers, pooling)\n",
    "    model.to(device)\n",
    "    return model\n",
    "surrogateModel = initModel(input_size, hidden_size, lstm_layers, nn.MaxPool1d)\n",
    "surrogateModel"
   ]
  },
  {
   "cell_type": "code",
   "execution_count": 23,
   "metadata": {},
   "outputs": [
    {
     "data": {
      "text/plain": [
       "<All keys matched successfully>"
      ]
     },
     "execution_count": 23,
     "metadata": {},
     "output_type": "execute_result"
    }
   ],
   "source": [
    "surrogateModel.load_state_dict(torch.load(\"surrogate-model.pt\"))"
   ]
  },
  {
   "cell_type": "markdown",
   "metadata": {},
   "source": [
    "## Blackbox Attack"
   ]
  },
  {
   "cell_type": "code",
   "execution_count": 38,
   "metadata": {},
   "outputs": [
    {
     "name": "stdout",
     "output_type": "stream",
     "text": [
      "16\n",
      "6\n",
      "19\n",
      "12\n",
      "7\n",
      "0\n"
     ]
    },
    {
     "ename": "KeyboardInterrupt",
     "evalue": "",
     "output_type": "error",
     "traceback": [
      "\u001b[0;31m---------------------------------------------------------------------------\u001b[0m",
      "\u001b[0;31mKeyboardInterrupt\u001b[0m                         Traceback (most recent call last)",
      "\u001b[0;32m<ipython-input-38-c2843390db66>\u001b[0m in \u001b[0;36m<module>\u001b[0;34m\u001b[0m\n\u001b[0;32m----> 1\u001b[0;31m \u001b[0mblackbox_adv\u001b[0m \u001b[0;34m=\u001b[0m \u001b[0madvGeneration\u001b[0m\u001b[0;34m(\u001b[0m\u001b[0mX_val_mal\u001b[0m\u001b[0;34m,\u001b[0m \u001b[0mmodel\u001b[0m\u001b[0;34m,\u001b[0m \u001b[0msurrogateModel\u001b[0m\u001b[0;34m)\u001b[0m\u001b[0;34m\u001b[0m\u001b[0;34m\u001b[0m\u001b[0m\n\u001b[0m",
      "\u001b[0;32m<ipython-input-28-f17bb286c6b0>\u001b[0m in \u001b[0;36madvGeneration\u001b[0;34m(X_init, model, surrogate_model)\u001b[0m\n\u001b[1;32m     15\u001b[0m                 \u001b[0;32mfor\u001b[0m \u001b[0mapi\u001b[0m \u001b[0;32min\u001b[0m \u001b[0mapi_dict\u001b[0m\u001b[0;34m:\u001b[0m\u001b[0;34m\u001b[0m\u001b[0;34m\u001b[0m\u001b[0m\n\u001b[1;32m     16\u001b[0m                     \u001b[0;31m#insert API into sequence\u001b[0m\u001b[0;34m\u001b[0m\u001b[0;34m\u001b[0m\u001b[0;34m\u001b[0m\u001b[0m\n\u001b[0;32m---> 17\u001b[0;31m                     \u001b[0mnew_seq\u001b[0m \u001b[0;34m=\u001b[0m \u001b[0minsert_api\u001b[0m\u001b[0;34m(\u001b[0m\u001b[0mx_sample\u001b[0m\u001b[0;34m.\u001b[0m\u001b[0msqueeze\u001b[0m\u001b[0;34m(\u001b[0m\u001b[0;34m)\u001b[0m\u001b[0;34m,\u001b[0m \u001b[0mapi\u001b[0m\u001b[0;34m,\u001b[0m \u001b[0mrandom_position\u001b[0m\u001b[0;34m)\u001b[0m\u001b[0;34m\u001b[0m\u001b[0;34m\u001b[0m\u001b[0m\n\u001b[0m\u001b[1;32m     18\u001b[0m                     \u001b[0;31m#norm of difference between new sequence and jacobian\u001b[0m\u001b[0;34m\u001b[0m\u001b[0;34m\u001b[0m\u001b[0;34m\u001b[0m\u001b[0m\n\u001b[1;32m     19\u001b[0m                     \u001b[0mdif\u001b[0m \u001b[0;34m=\u001b[0m \u001b[0mtorch\u001b[0m\u001b[0;34m.\u001b[0m\u001b[0mnorm\u001b[0m\u001b[0;34m(\u001b[0m\u001b[0mtorch\u001b[0m\u001b[0;34m.\u001b[0m\u001b[0msign\u001b[0m\u001b[0;34m(\u001b[0m\u001b[0mx_sample\u001b[0m\u001b[0;34m)\u001b[0m \u001b[0;34m-\u001b[0m \u001b[0mtorch\u001b[0m\u001b[0;34m.\u001b[0m\u001b[0msign\u001b[0m\u001b[0;34m(\u001b[0m\u001b[0mjacobian\u001b[0m\u001b[0;34m[\u001b[0m\u001b[0mi\u001b[0m\u001b[0;34m]\u001b[0m\u001b[0;34m)\u001b[0m\u001b[0;34m)\u001b[0m\u001b[0;34m\u001b[0m\u001b[0;34m\u001b[0m\u001b[0m\n",
      "\u001b[0;32m<ipython-input-36-35c67d8015fa>\u001b[0m in \u001b[0;36minsert_api\u001b[0;34m(seq, api, i)\u001b[0m\n\u001b[1;32m      2\u001b[0m \u001b[0;32mdef\u001b[0m \u001b[0minsert_api\u001b[0m\u001b[0;34m(\u001b[0m\u001b[0mseq\u001b[0m\u001b[0;34m,\u001b[0m \u001b[0mapi\u001b[0m\u001b[0;34m,\u001b[0m \u001b[0mi\u001b[0m\u001b[0;34m)\u001b[0m\u001b[0;34m:\u001b[0m\u001b[0;34m\u001b[0m\u001b[0;34m\u001b[0m\u001b[0m\n\u001b[1;32m      3\u001b[0m     \u001b[0mapi\u001b[0m \u001b[0;34m=\u001b[0m \u001b[0mapi\u001b[0m\u001b[0;34m.\u001b[0m\u001b[0mto\u001b[0m\u001b[0;34m(\u001b[0m\u001b[0mdevice\u001b[0m\u001b[0;34m)\u001b[0m\u001b[0;34m\u001b[0m\u001b[0;34m\u001b[0m\u001b[0m\n\u001b[0;32m----> 4\u001b[0;31m     \u001b[0mnew_seq\u001b[0m \u001b[0;34m=\u001b[0m \u001b[0mtorch\u001b[0m\u001b[0;34m.\u001b[0m\u001b[0mcat\u001b[0m\u001b[0;34m(\u001b[0m\u001b[0;34m(\u001b[0m\u001b[0mtorch\u001b[0m\u001b[0;34m.\u001b[0m\u001b[0mcat\u001b[0m\u001b[0;34m(\u001b[0m\u001b[0;34m(\u001b[0m\u001b[0mseq\u001b[0m\u001b[0;34m[\u001b[0m\u001b[0;34m:\u001b[0m\u001b[0mi\u001b[0m\u001b[0;34m]\u001b[0m\u001b[0;34m,\u001b[0m\u001b[0mapi\u001b[0m\u001b[0;34m.\u001b[0m\u001b[0munsqueeze\u001b[0m\u001b[0;34m(\u001b[0m\u001b[0;36m0\u001b[0m\u001b[0;34m)\u001b[0m\u001b[0;34m)\u001b[0m\u001b[0;34m)\u001b[0m\u001b[0;34m,\u001b[0m\u001b[0mseq\u001b[0m\u001b[0;34m[\u001b[0m\u001b[0mi\u001b[0m\u001b[0;34m:\u001b[0m\u001b[0;34m-\u001b[0m\u001b[0;36m1\u001b[0m\u001b[0;34m]\u001b[0m\u001b[0;34m)\u001b[0m\u001b[0;34m)\u001b[0m\u001b[0;34m\u001b[0m\u001b[0;34m\u001b[0m\u001b[0m\n\u001b[0m\u001b[1;32m      5\u001b[0m     \u001b[0;32mreturn\u001b[0m \u001b[0mnew_seq\u001b[0m\u001b[0;34m\u001b[0m\u001b[0;34m\u001b[0m\u001b[0m\n",
      "\u001b[0;31mKeyboardInterrupt\u001b[0m: "
     ]
    }
   ],
   "source": [
    "blackbox_adv = advGeneration(X_val_mal, model, surrogateModel)"
   ]
  },
  {
   "cell_type": "code",
   "execution_count": 478,
   "metadata": {},
   "outputs": [],
   "source": [
    "torch.save(blackbox_adv, 'blackbox_adv_val.pt') "
   ]
  },
  {
   "cell_type": "code",
   "execution_count": 479,
   "metadata": {},
   "outputs": [],
   "source": [
    "with open('blackbox_adv_val.pt', 'rb') as f_in:\n",
    "    with gzip.open('blackbox_adv_val.gz', 'wb') as f_out:\n",
    "        shutil.copyfileobj(f_in, f_out)"
   ]
  },
  {
   "cell_type": "markdown",
   "metadata": {},
   "source": [
    "## Blackbox and whitebox performance "
   ]
  },
  {
   "cell_type": "code",
   "execution_count": 24,
   "metadata": {},
   "outputs": [],
   "source": [
    "def get_failed_attacks(adv_samples, model):\n",
    "    samples = adv_samples.to(device)\n",
    "    prediction = model(samples)\n",
    "    return (prediction >= 0).cpu()\n",
    "    \n",
    "def count_added_api(adv_samples):\n",
    "    added_api = []\n",
    "    for seq in adv_samples:\n",
    "        added_api_counter = 0\n",
    "        for api in seq:\n",
    "            if (len(torch.nonzero(api) == 0)):\n",
    "                added_api_counter += 1\n",
    "        added_api.append(added_api_counter-100)\n",
    "    return np.array(added_api)\n",
    "\n",
    "def remove_zeros_and_failed(api_counts, failed_attacks):\n",
    "    return api_counts[torch.logical_and(torch.tensor(api_counts != 0), torch.logical_not(failed_attacks))]"
   ]
  },
  {
   "cell_type": "code",
   "execution_count": 25,
   "metadata": {},
   "outputs": [],
   "source": [
    "whitebox_adv =  torch.load('whitebox_adv_val.pt') \n",
    "blackbox_adv =  torch.load('blackbox_adv_val.pt') "
   ]
  },
  {
   "cell_type": "code",
   "execution_count": 26,
   "metadata": {},
   "outputs": [],
   "source": [
    "whitebox_adv = torch.cat(whitebox_adv).cpu()\n",
    "blackbox_adv = torch.cat(blackbox_adv).cpu()"
   ]
  },
  {
   "cell_type": "markdown",
   "metadata": {},
   "source": [
    "### Overhead"
   ]
  },
  {
   "cell_type": "code",
   "execution_count": 27,
   "metadata": {},
   "outputs": [],
   "source": [
    "def printOverhead(name, adv_samples, model):\n",
    "    failed = get_failed_attacks(adv_samples, model)\n",
    "    count_api = count_added_api(adv_samples)\n",
    "    count_filtered = remove_zeros_and_failed(count_api, failed)\n",
    "    overhead = np.mean(count_filtered/100)\n",
    "    print(name, \"overhead:\", str(overhead))"
   ]
  },
  {
   "cell_type": "code",
   "execution_count": 28,
   "metadata": {},
   "outputs": [
    {
     "name": "stdout",
     "output_type": "stream",
     "text": [
      "Whitebox attack overhead: 0.17072665203608878\n",
      "Blackbox attack overhead: 0.16809117503656754\n"
     ]
    }
   ],
   "source": [
    "printOverhead(\"Whitebox attack\", whitebox_adv, model)\n",
    "printOverhead(\"Blackbox attack\", blackbox_adv, model)"
   ]
  },
  {
   "cell_type": "markdown",
   "metadata": {},
   "source": [
    "### Accuracy"
   ]
  },
  {
   "cell_type": "code",
   "execution_count": 29,
   "metadata": {},
   "outputs": [],
   "source": [
    "def printEffectiveness(name, adv_samples, model):\n",
    "    failed = get_failed_attacks(adv_samples, model)\n",
    "    count_api = count_added_api(adv_samples)\n",
    "    count_filtered = remove_zeros_and_failed(count_api, failed)\n",
    "    effectiveness = torch.logical_not(failed[count_api != 0]).sum()/(count_api != 0).sum()\n",
    "    effectiveness = effectiveness.item()\n",
    "    print(name, \"effectiveness:\", str(effectiveness))"
   ]
  },
  {
   "cell_type": "code",
   "execution_count": 30,
   "metadata": {},
   "outputs": [
    {
     "name": "stdout",
     "output_type": "stream",
     "text": [
      "Whitebox attack effectiveness: 0.9834532141685486\n",
      "Blackbox attack effectiveness: 0.9836930632591248\n"
     ]
    }
   ],
   "source": [
    "printEffectiveness(\"Whitebox attack\", whitebox_adv, model)\n",
    "printEffectiveness(\"Blackbox attack\", blackbox_adv, model)"
   ]
  },
  {
   "cell_type": "markdown",
   "metadata": {},
   "source": [
    "## Plot"
   ]
  },
  {
   "cell_type": "code",
   "execution_count": 31,
   "metadata": {},
   "outputs": [
    {
     "data": {
      "image/png": "[encoded data removed]",
      "text/plain": [
       "<Figure size 432x288 with 1 Axes>"
      ]
     },
     "metadata": {
      "needs_background": "light"
     },
     "output_type": "display_data"
    }
   ],
   "source": [
    "blackbox_count_filtered = remove_zeros_and_failed(count_added_api(whitebox_adv), get_failed_attacks(whitebox_adv, model))\n",
    "whitebox_count_filtered = remove_zeros_and_failed(count_added_api(blackbox_adv), get_failed_attacks(blackbox_adv, model))\n",
    "plt.hist(blackbox_count_filtered, bins=50, color = 'r', label = \"Black-box attack\",alpha=0.5)\n",
    "plt.hist(whitebox_count_filtered, bins=50, color = 'b',label = \"White-box attack\", alpha=0.5)\n",
    "plt.ylabel(\"number of samples\")\n",
    "plt.xlabel(\"number of added API calls\")\n",
    "plt.legend(loc = 'best')\n",
    "plt.show()"
   ]
  },
  {
   "cell_type": "markdown",
   "metadata": {},
   "source": [
    "## Random Adversarial Generation"
   ]
  },
  {
   "cell_type": "code",
   "execution_count": 54,
   "metadata": {},
   "outputs": [],
   "source": [
    "X_val_mal, y_val_mal = getMalicious(X_val, y_val)\n",
    "batched_data = get_batched_x_y(X_val_mal, y_val_mal, 64, False)\n",
    "X_val_mal = []\n",
    "for xi, yi in batched_data:\n",
    "    X_val_mal.append(xi)"
   ]
  },
  {
   "cell_type": "code",
   "execution_count": 55,
   "metadata": {},
   "outputs": [],
   "source": [
    "#batched version (jacobian is calculated at every batch instead of every sample)\n",
    "def advGenerationRandom(X_init, model):  \n",
    "    for m in range(len(X_init)):\n",
    "        xi = X_init[m]\n",
    "        xi = xi.to(device)\n",
    "        for i in range(xi.shape[0]):\n",
    "            x_sample = xi[i]\n",
    "            counter = 0\n",
    "            while predict(x_sample.unsqueeze(0), model) and counter<50:\n",
    "                random_position = random.randint(0,torch.count_nonzero(x_sample.detach())-1)\n",
    "                #insert API into sequence\n",
    "                new_seq = insert_api(x_sample.squeeze(), random.choice(api_dict), random_position)\n",
    "                #replace sequence\n",
    "                counter += 1\n",
    "                xi[i] = new_seq\n",
    "            #replace batch\n",
    "            X_init[m] = xi\n",
    "    return X_init"
   ]
  },
  {
   "cell_type": "code",
   "execution_count": 56,
   "metadata": {},
   "outputs": [],
   "source": [
    "random_adv = advGenerationRandom(X_val_mal, model)"
   ]
  },
  {
   "cell_type": "markdown",
   "metadata": {},
   "source": [
    "## Random attack performance "
   ]
  },
  {
   "cell_type": "code",
   "execution_count": 57,
   "metadata": {},
   "outputs": [],
   "source": [
    "random_adv = torch.cat(random_adv).cpu()"
   ]
  },
  {
   "cell_type": "markdown",
   "metadata": {},
   "source": [
    "### Accuracy"
   ]
  },
  {
   "cell_type": "code",
   "execution_count": 58,
   "metadata": {},
   "outputs": [
    {
     "name": "stdout",
     "output_type": "stream",
     "text": [
      "Random attack effectiveness: 0.07074340432882309\n"
     ]
    }
   ],
   "source": [
    "printEffectiveness(\"Random attack\", random_adv, model)"
   ]
  },
  {
   "cell_type": "markdown",
   "metadata": {},
   "source": [
    "# Attacks against hardened models"
   ]
  },
  {
   "cell_type": "markdown",
   "metadata": {},
   "source": [
    "## Hardened LSTM model loading"
   ]
  },
  {
   "cell_type": "code",
   "execution_count": 32,
   "metadata": {},
   "outputs": [],
   "source": [
    "hidden_size = 128\n",
    "lstm_layers = 1\n",
    "epochs = 100\n",
    "train_batch_size = 256\n",
    "early_stopping_patience = 7"
   ]
  },
  {
   "cell_type": "code",
   "execution_count": 33,
   "metadata": {},
   "outputs": [],
   "source": [
    "input_size = X_train.shape[2]\n",
    "sequence_size = X_train.shape[1]\n",
    "loss_function = nn.BCEWithLogitsLoss()"
   ]
  },
  {
   "cell_type": "code",
   "execution_count": 34,
   "metadata": {},
   "outputs": [],
   "source": [
    "class Net(nn.Module):\n",
    "    def __init__(self, input_size, hidden_size, lstm_layers, pooling):\n",
    "        super(Net, self).__init__()\n",
    "        self.lstm = nn.LSTM(input_size, hidden_size, lstm_layers, batch_first=True)\n",
    "        self.pool = pooling(sequence_size)\n",
    "        self.linear = nn.Linear(hidden_size, 1)\n",
    "\n",
    "    def forward(self, x):\n",
    "        lstm_out = self.lstm(x)[0]\n",
    "        pool_out = self.pool(lstm_out.permute(0, 2, 1))\n",
    "        linear_out = self.linear(pool_out.squeeze())\n",
    "        return torch.squeeze(linear_out)"
   ]
  },
  {
   "cell_type": "code",
   "execution_count": 35,
   "metadata": {},
   "outputs": [
    {
     "data": {
      "text/plain": [
       "Net(\n",
       "  (lstm): LSTM(264, 128, batch_first=True)\n",
       "  (pool): MaxPool1d(kernel_size=150, stride=150, padding=0, dilation=1, ceil_mode=False)\n",
       "  (linear): Linear(in_features=128, out_features=1, bias=True)\n",
       ")"
      ]
     },
     "execution_count": 35,
     "metadata": {},
     "output_type": "execute_result"
    }
   ],
   "source": [
    "def initModel(input_size, hidden_size, lstm_layers, pooling):\n",
    "    model = Net(input_size, hidden_size, lstm_layers, pooling)\n",
    "    model.to(device)\n",
    "    return model\n",
    "hardenedLSTMModel = initModel(input_size, hidden_size, lstm_layers, nn.MaxPool1d)\n",
    "model"
   ]
  },
  {
   "cell_type": "code",
   "execution_count": 36,
   "metadata": {},
   "outputs": [
    {
     "data": {
      "text/plain": [
       "<All keys matched successfully>"
      ]
     },
     "execution_count": 36,
     "metadata": {},
     "output_type": "execute_result"
    }
   ],
   "source": [
    "hardenedLSTMModel.load_state_dict(torch.load(\"hardened-lstm-model.pt\"))"
   ]
  },
  {
   "cell_type": "markdown",
   "metadata": {},
   "source": [
    "## Hardened whitebox attack"
   ]
  },
  {
   "cell_type": "code",
   "execution_count": 169,
   "metadata": {},
   "outputs": [],
   "source": [
    "X_test_mal, y_test_mal = getMalicious(X_test, y_test)\n",
    "batched_data = get_batched_x_y(X_test_mal, y_test_mal, 64, False)\n",
    "X_test_mal = []\n",
    "for xi, yi in batched_data:\n",
    "    X_test_mal.append(xi)"
   ]
  },
  {
   "cell_type": "code",
   "execution_count": 140,
   "metadata": {},
   "outputs": [],
   "source": [
    "hardened_whitebox_adv = advGeneration(X_test_mal, hardenedLSTMModel, hardenedLSTMModel)"
   ]
  },
  {
   "cell_type": "code",
   "execution_count": 142,
   "metadata": {},
   "outputs": [],
   "source": [
    "torch.save(hardened_whitebox_adv, 'hardened_whitebox_adv_test.pt') "
   ]
  },
  {
   "cell_type": "markdown",
   "metadata": {},
   "source": [
    "## Hardened whitebox performance"
   ]
  },
  {
   "cell_type": "code",
   "execution_count": 38,
   "metadata": {},
   "outputs": [],
   "source": [
    "hardened_whitebox_adv = torch.load('hardened_whitebox_adv_test.pt')"
   ]
  },
  {
   "cell_type": "code",
   "execution_count": 39,
   "metadata": {},
   "outputs": [],
   "source": [
    "hardened_whitebox_adv = torch.cat(hardened_whitebox_adv).cpu()"
   ]
  },
  {
   "cell_type": "markdown",
   "metadata": {},
   "source": [
    "### Accuracy"
   ]
  },
  {
   "cell_type": "code",
   "execution_count": 44,
   "metadata": {},
   "outputs": [
    {
     "name": "stdout",
     "output_type": "stream",
     "text": [
      "hardened Whitebox attack effectiveness: 0.007045797538012266\n"
     ]
    }
   ],
   "source": [
    "printEffectiveness(\"hardened Whitebox attack\", hardened_whitebox_adv, hardenedLSTMModel)"
   ]
  },
  {
   "cell_type": "markdown",
   "metadata": {},
   "source": [
    "## Hardened surrogate model loading"
   ]
  },
  {
   "cell_type": "code",
   "execution_count": 45,
   "metadata": {},
   "outputs": [],
   "source": [
    "hidden_size = 256\n",
    "lstm_layers = 2\n",
    "training_epochs = 10\n",
    "augmentation_epochs = 3\n",
    "train_batch_size = 256\n",
    "epsilon = 1e-2"
   ]
  },
  {
   "cell_type": "code",
   "execution_count": 46,
   "metadata": {},
   "outputs": [],
   "source": [
    "class Net(nn.Module):\n",
    "    def __init__(self, input_size, hidden_size, lstm_layers, pooling):\n",
    "        super(Net, self).__init__()\n",
    "        self.lstm = nn.LSTM(input_size, hidden_size, lstm_layers, batch_first=True)\n",
    "        self.pool = pooling(sequence_size)\n",
    "        self.linear = nn.Linear(hidden_size, 1)\n",
    "\n",
    "    def forward(self, x):\n",
    "        lstm_out = self.lstm(x)[0]\n",
    "        pool_out = self.pool(lstm_out.permute(0, 2, 1))\n",
    "        linear_out = self.linear(pool_out.squeeze())\n",
    "        return torch.squeeze(linear_out)"
   ]
  },
  {
   "cell_type": "code",
   "execution_count": 47,
   "metadata": {},
   "outputs": [
    {
     "data": {
      "text/plain": [
       "Net(\n",
       "  (lstm): LSTM(264, 256, num_layers=2, batch_first=True)\n",
       "  (pool): MaxPool1d(kernel_size=150, stride=150, padding=0, dilation=1, ceil_mode=False)\n",
       "  (linear): Linear(in_features=256, out_features=1, bias=True)\n",
       ")"
      ]
     },
     "execution_count": 47,
     "metadata": {},
     "output_type": "execute_result"
    }
   ],
   "source": [
    "def initModel(input_size, hidden_size, lstm_layers, pooling):\n",
    "    model = Net(input_size, hidden_size, lstm_layers, pooling)\n",
    "    model.to(device)\n",
    "    return model\n",
    "hardenedSurrogateModel = initModel(input_size, hidden_size, lstm_layers, nn.MaxPool1d)\n",
    "hardenedSurrogateModel"
   ]
  },
  {
   "cell_type": "code",
   "execution_count": 48,
   "metadata": {},
   "outputs": [
    {
     "data": {
      "text/plain": [
       "<All keys matched successfully>"
      ]
     },
     "execution_count": 48,
     "metadata": {},
     "output_type": "execute_result"
    }
   ],
   "source": [
    "hardenedSurrogateModel.load_state_dict(torch.load(\"hardened-surrogate-model.pt\"))"
   ]
  },
  {
   "cell_type": "markdown",
   "metadata": {},
   "source": [
    "## Hardened blackbox attack"
   ]
  },
  {
   "cell_type": "code",
   "execution_count": 176,
   "metadata": {},
   "outputs": [],
   "source": [
    "hardened_blackbox_adv = advGeneration(X_test_mal, hardenedLSTMModel, hardenedSurrogateModel)"
   ]
  },
  {
   "cell_type": "code",
   "execution_count": 178,
   "metadata": {},
   "outputs": [],
   "source": [
    "torch.save(hardened_blackbox_adv, 'hardened_blackbox_adv_test.pt')"
   ]
  },
  {
   "cell_type": "markdown",
   "metadata": {},
   "source": [
    "## Hardened blackbox performance\n"
   ]
  },
  {
   "cell_type": "code",
   "execution_count": 51,
   "metadata": {},
   "outputs": [],
   "source": [
    "hardened_blackbox_adv = torch.load('hardened_blackbox_adv_test.pt')"
   ]
  },
  {
   "cell_type": "code",
   "execution_count": 52,
   "metadata": {},
   "outputs": [],
   "source": [
    "hardened_blackbox_adv = torch.cat(hardened_blackbox_adv).cpu()"
   ]
  },
  {
   "cell_type": "markdown",
   "metadata": {},
   "source": [
    "### Accuracy"
   ]
  },
  {
   "cell_type": "code",
   "execution_count": 53,
   "metadata": {},
   "outputs": [
    {
     "name": "stdout",
     "output_type": "stream",
     "text": [
      "hardened Blackbox attack effectiveness: 0.008807247504591942\n"
     ]
    }
   ],
   "source": [
    "printEffectiveness(\"hardened Blackbox attack\", hardened_blackbox_adv, hardenedLSTMModel)"
   ]
  },
  {
   "cell_type": "markdown",
   "metadata": {},
   "source": [
    "## Hardened random attack"
   ]
  },
  {
   "cell_type": "code",
   "execution_count": 59,
   "metadata": {},
   "outputs": [],
   "source": [
    "X_test_mal, y_test_mal = getMalicious(X_test, y_test)\n",
    "batched_data = get_batched_x_y(X_test_mal, y_test_mal, 64, False)\n",
    "X_test_mal = []\n",
    "for xi, yi in batched_data:\n",
    "    X_test_mal.append(xi)"
   ]
  },
  {
   "cell_type": "code",
   "execution_count": 60,
   "metadata": {},
   "outputs": [],
   "source": [
    "hardened_random_adv = advGenerationRandom(X_test_mal, hardenedLSTMModel)"
   ]
  },
  {
   "cell_type": "markdown",
   "metadata": {},
   "source": [
    "## Hardened random performance "
   ]
  },
  {
   "cell_type": "code",
   "execution_count": 61,
   "metadata": {},
   "outputs": [],
   "source": [
    "hardened_random_adv = torch.cat(hardened_random_adv).cpu()"
   ]
  },
  {
   "cell_type": "markdown",
   "metadata": {},
   "source": [
    "### Accuracy"
   ]
  },
  {
   "cell_type": "code",
   "execution_count": 62,
   "metadata": {},
   "outputs": [
    {
     "name": "stdout",
     "output_type": "stream",
     "text": [
      "hardened Random attack effectiveness: 0.012833417393267155\n"
     ]
    }
   ],
   "source": [
    "printEffectiveness(\"hardened Random attack\", hardened_random_adv, model)"
   ]
  }
 ],
 "metadata": {
  "kernelspec": {
   "display_name": "Python 3",
   "language": "python",
   "name": "python3"
  },
  "language_info": {
   "codemirror_mode": {
    "name": "ipython",
    "version": 3
   },
   "file_extension": ".py",
   "mimetype": "text/x-python",
   "name": "python",
   "nbconvert_exporter": "python",
   "pygments_lexer": "ipython3",
   "version": "3.8.5"
  }
 },
 "nbformat": 4,
 "nbformat_minor": 4
}
